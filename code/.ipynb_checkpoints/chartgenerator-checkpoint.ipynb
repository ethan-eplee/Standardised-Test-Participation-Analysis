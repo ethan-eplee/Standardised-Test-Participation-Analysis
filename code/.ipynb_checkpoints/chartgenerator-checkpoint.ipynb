{
 "cells": [
  {
   "cell_type": "markdown",
   "metadata": {},
   "source": [
    "<img src=\"http://imgur.com/1ZcRyrc.png\" style=\"float: left; margin: 20px; height: 55px\">\n",
    "\n",
    "# Project 1: Standardized Test Analysis"
   ]
  },
  {
   "cell_type": "markdown",
   "metadata": {},
   "source": [
    "--- \n",
    "# Part 1\n",
    "\n",
    "Part 1 requires knowledge of basic Python.\n",
    "\n",
    "---"
   ]
  },
  {
   "cell_type": "markdown",
   "metadata": {},
   "source": [
    "## Problem Statement"
   ]
  },
  {
   "cell_type": "markdown",
   "metadata": {},
   "source": [
    "Decide on your problem statement that will guide your analysis for this project. For guidelines, sample prompts, or inspiration, check out the README.\n",
    "\n",
    "**To-Do:** *Replace this cell with your problem statement.*"
   ]
  },
  {
   "cell_type": "markdown",
   "metadata": {},
   "source": [
    "Problem statement:\n",
    "- Compared to other states in the US, California has a relative low participation rate in both the ACT and SAT exams.\n",
    "- We would like to investigate macroeconomic effects (such as GDP, population size, unemployment etc) on the participation rates of the ACT and SAT participation rates in California. \n",
    "- After identifying some factors which might have a bigger impact on the overall participation rates of the exams, it would be easier to recommend macro policies and allocate budgets accordingly to help boost the participation rates for standardised college tests."
   ]
  },
  {
   "cell_type": "markdown",
   "metadata": {},
   "source": [
    "### Contents:\n",
    "- [Background](#Background)\n",
    "- [Data Import & Cleaning](#Data-Import-and-Cleaning)\n",
    "- [Exploratory Data Analysis](#Exploratory-Data-Analysis)\n",
    "- [Data Visualization](#Visualize-the-Data)\n",
    "- [Conclusions and Recommendations](#Conclusions-and-Recommendations)"
   ]
  },
  {
   "cell_type": "markdown",
   "metadata": {},
   "source": [
    "## Background"
   ]
  },
  {
   "cell_type": "markdown",
   "metadata": {},
   "source": [
    "The SAT and ACT are standardized tests that many colleges and universities in the United States require for their admissions process. This score is used along with other materials such as grade point average (GPA) and essay responses to determine whether or not a potential student will be accepted to the university.\n",
    "\n",
    "The SAT has two sections of the test: Evidence-Based Reading and Writing and Math ([*source*](https://www.princetonreview.com/college/sat-sections)). The ACT has 4 sections: English, Mathematics, Reading, and Science, with an additional optional writing section ([*source*](https://www.act.org/content/act/en/products-and-services/the-act/scores/understanding-your-scores.html)). They have different score ranges, which you can read more about on their websites or additional outside sources (a quick Google search will help you understand the scores for each test):\n",
    "* [SAT](https://collegereadiness.collegeboard.org/sat)\n",
    "* [ACT](https://www.act.org/content/act/en.html)\n",
    "\n",
    "Standardized tests have long been a controversial topic for students, administrators, and legislators. Since the 1940's, an increasing number of colleges have been using scores from sudents' performances on tests like the SAT and the ACT as a measure for college readiness and aptitude ([*source*](https://www.minotdailynews.com/news/local-news/2017/04/a-brief-history-of-the-sat-and-act/)). Supporters of these tests argue that these scores can be used as an objective measure to determine college admittance. Opponents of these tests claim that these tests are not accurate measures of students potential or ability and serve as an inequitable barrier to entry. Lately, more and more schools are opting to drop the SAT/ACT requirement for their Fall 2021 applications ([*read more about this here*](https://www.cnn.com/2020/04/14/us/coronavirus-colleges-sat-act-test-trnd/index.html))."
   ]
  },
  {
   "cell_type": "markdown",
   "metadata": {},
   "source": [
    "**To-Do:** *Fill out this cell (or edit the above cell) with any other background or information that is necessary for your problem statement.*"
   ]
  },
  {
   "cell_type": "markdown",
   "metadata": {},
   "source": [
    "### Choose your Data\n",
    "\n",
    "There are 10 datasets included in the [`data`](./data/) folder for this project. You are required to pick **at least two** of these to complete your analysis. Feel free to use more than two if you would like, or add other relevant datasets you find online.\n",
    "\n",
    "* [`act_2017.csv`](./data/act_2017.csv): 2017 ACT Scores by State\n",
    "* [`act_2018.csv`](./data/act_2018.csv): 2018 ACT Scores by State\n",
    "* [`act_2019.csv`](./data/act_2019.csv): 2019 ACT Scores by State\n",
    "* [`act_2019_ca.csv`](./data/act_2019_ca.csv): 2019 ACT Scores in California by School\n",
    "* [`sat_2017.csv`](./data/sat_2017.csv): 2017 SAT Scores by State\n",
    "* [`sat_2018.csv`](./data/sat_2018.csv): 2018 SAT Scores by State\n",
    "* [`sat_2019.csv`](./data/sat_2019.csv): 2019 SAT Scores by State\n",
    "* [`sat_2019_by_intended_college_major.csv`](./data/sat_2019_by_intended_college_major.csv): 2019 SAT Scores by Intended College Major\n",
    "* [`sat_2019_ca.csv`](./data/sat_2019_ca.csv): 2019 SAT Scores in California by School\n",
    "* [`sat_act_by_college.csv`](./data/sat_act_by_college.csv): Ranges of Accepted ACT & SAT Student Scores by Colleges"
   ]
  },
  {
   "cell_type": "markdown",
   "metadata": {},
   "source": [
    "**To-Do:** *Fill out this cell with the datasets you will use for your analysis. Write a brief description of the contents for each dataset that you choose.*"
   ]
  },
  {
   "cell_type": "markdown",
   "metadata": {},
   "source": [
    "### Outside Research"
   ]
  },
  {
   "cell_type": "markdown",
   "metadata": {},
   "source": [
    "Based on your problem statement and your chosen datasets, spend some time doing outside research on state policies or additional information that might be relevant. Summarize your findings below. If you bring in any outside tables or charts, make sure you are explicit about having borrowed them. If you quote any text, make sure that it renders as being quoted. **Make sure that you cite your sources.**"
   ]
  },
  {
   "cell_type": "markdown",
   "metadata": {},
   "source": [
    "**To-Do:** *Fill out this cell with outside research or any additional background information that will support your analysis.*"
   ]
  },
  {
   "cell_type": "markdown",
   "metadata": {},
   "source": [
    "### Coding Challenges\n",
    "\n",
    "1. Manually calculate mean:\n",
    "\n",
    "    Write a function that takes in values and returns the mean of the values. Create a list of numbers that you test on your function to check to make sure your function works!\n",
    "    \n",
    "    *Note*: Do not use any mean methods built-in to any Python libraries to do this! This should be done without importing any additional libraries."
   ]
  },
  {
   "cell_type": "code",
   "execution_count": 1,
   "metadata": {},
   "outputs": [],
   "source": [
    "# Code:\n",
    "def manual_mean(listofnum):\n",
    "    totalsum = 0\n",
    "    for num in listofnum:\n",
    "        totalsum += num\n",
    "    return totalsum/len(listofnum)"
   ]
  },
  {
   "cell_type": "markdown",
   "metadata": {},
   "source": [
    "2. Manually calculate standard deviation:\n",
    "\n",
    "    The formula for standard deviation is below:\n",
    "\n",
    "    $$\\sigma = \\sqrt{\\frac{1}{n}\\sum_{i=1}^n(x_i - \\mu)^2}$$\n",
    "\n",
    "    Where $x_i$ represents each value in the dataset, $\\mu$ represents the mean of all values in the dataset and $n$ represents the number of values in the dataset.\n",
    "\n",
    "    Write a function that takes in values and returns the standard deviation of the values using the formula above. Hint: use the function you wrote above to calculate the mean! Use the list of numbers you created above to test on your function.\n",
    "    \n",
    "    *Note*: Do not use any standard deviation methods built-in to any Python libraries to do this! This should be done without importing any additional libraries."
   ]
  },
  {
   "cell_type": "code",
   "execution_count": 2,
   "metadata": {},
   "outputs": [],
   "source": [
    "# Code:\n",
    "def manual_std(listofnum):\n",
    "    mean = manual_mean(listofnum)\n",
    "    totalsum = 0\n",
    "    for num in listofnum:\n",
    "        totalsum += (num - mean)**2\n",
    "    return (totalsum/len(listofnum))**0.5"
   ]
  },
  {
   "cell_type": "markdown",
   "metadata": {},
   "source": [
    "3. Data cleaning function:\n",
    "    \n",
    "    Write a function that takes in a string that is a number and a percent symbol (ex. '50%', '30.5%', etc.) and converts this to a float that is the decimal approximation of the percent. For example, inputting '50%' in your function should return 0.5, '30.5%' should return 0.305, etc. Make sure to test your function to make sure it works!\n",
    "\n",
    "You will use these functions later on in the project!"
   ]
  },
  {
   "cell_type": "code",
   "execution_count": 3,
   "metadata": {},
   "outputs": [],
   "source": [
    "# Code:\n",
    "def clean_pct(string):\n",
    "    try:\n",
    "        return float(string.strip('%'))/100\n",
    "    except:\n",
    "        pass"
   ]
  },
  {
   "cell_type": "markdown",
   "metadata": {},
   "source": [
    "--- \n",
    "# Part 2\n",
    "\n",
    "Part 2 requires knowledge of Pandas, EDA, data cleaning, and data visualization.\n",
    "\n",
    "---"
   ]
  },
  {
   "cell_type": "markdown",
   "metadata": {},
   "source": [
    "*All libraries used should be added here*"
   ]
  },
  {
   "cell_type": "code",
   "execution_count": 4,
   "metadata": {},
   "outputs": [
    {
     "data": {
      "text/html": [
       "        <script type=\"text/javascript\">\n",
       "        window.PlotlyConfig = {MathJaxConfig: 'local'};\n",
       "        if (window.MathJax && window.MathJax.Hub && window.MathJax.Hub.Config) {window.MathJax.Hub.Config({SVG: {font: \"STIX-Web\"}});}\n",
       "        if (typeof require !== 'undefined') {\n",
       "        require.undef(\"plotly\");\n",
       "        requirejs.config({\n",
       "            paths: {\n",
       "                'plotly': ['https://cdn.plot.ly/plotly-2.12.1.min']\n",
       "            }\n",
       "        });\n",
       "        require(['plotly'], function(Plotly) {\n",
       "            window._Plotly = Plotly;\n",
       "        });\n",
       "        }\n",
       "        </script>\n",
       "        "
      ]
     },
     "metadata": {},
     "output_type": "display_data"
    },
    {
     "data": {
      "text/html": [
       "        <script type=\"text/javascript\">\n",
       "        window.PlotlyConfig = {MathJaxConfig: 'local'};\n",
       "        if (window.MathJax && window.MathJax.Hub && window.MathJax.Hub.Config) {window.MathJax.Hub.Config({SVG: {font: \"STIX-Web\"}});}\n",
       "        if (typeof require !== 'undefined') {\n",
       "        require.undef(\"plotly\");\n",
       "        requirejs.config({\n",
       "            paths: {\n",
       "                'plotly': ['https://cdn.plot.ly/plotly-2.12.1.min']\n",
       "            }\n",
       "        });\n",
       "        require(['plotly'], function(Plotly) {\n",
       "            window._Plotly = Plotly;\n",
       "        });\n",
       "        }\n",
       "        </script>\n",
       "        "
      ]
     },
     "metadata": {},
     "output_type": "display_data"
    }
   ],
   "source": [
    "# Imports:\n",
    "#import numpy, pandas, matplotlib\n",
    "import numpy as np\n",
    "import pandas as pd\n",
    "import matplotlib.pyplot as plt\n",
    "%matplotlib inline\n",
    "\n",
    "#import missingno to visualise nulls\n",
    "import missingno as msno\n",
    "\n",
    "#import seaborn\n",
    "import seaborn as sns\n",
    "sns.set_context('paper')\n",
    "sns.set_style('whitegrid')\n",
    "\n",
    "#import statsmodel and image\n",
    "import statsmodels.api as sm\n",
    "from IPython.display import Image\n",
    "\n",
    "#import plotly and cufflinks\n",
    "import chart_studio.plotly as py\n",
    "import plotly.graph_objs as go \n",
    "import cufflinks as cf\n",
    "from plotly.offline import download_plotlyjs, init_notebook_mode, plot, iplot\n",
    "init_notebook_mode(connected=True)\n",
    "cf.go_offline() #to use cufflinks offline"
   ]
  },
  {
   "cell_type": "markdown",
   "metadata": {},
   "source": [
    "## Data Import and Cleaning"
   ]
  },
  {
   "cell_type": "markdown",
   "metadata": {},
   "source": [
    "### Data Import & Cleaning\n",
    "\n",
    "Import the datasets that you selected for this project and go through the following steps at a minimum. You are welcome to do further cleaning as you feel necessary:\n",
    "1. Display the data: print the first 5 rows of each dataframe to your Jupyter notebook.\n",
    "2. Check for missing values.\n",
    "3. Check for any obvious issues with the observations (keep in mind the minimum & maximum possible values for each test/subtest).\n",
    "4. Fix any errors you identified in steps 2-3.\n",
    "5. Display the data types of each feature.\n",
    "6. Fix any incorrect data types found in step 5.\n",
    "    - Fix any individual values preventing other columns from being the appropriate type.\n",
    "    - If your dataset has a column of percents (ex. '50%', '30.5%', etc.), use the function you wrote in Part 1 (coding challenges, number 3) to convert this to floats! *Hint*: use `.map()` or `.apply()`.\n",
    "7. Rename Columns.\n",
    "    - Column names should be all lowercase.\n",
    "    - Column names should not contain spaces (underscores will suffice--this allows for using the `df.column_name` method to access columns in addition to `df['column_name']`).\n",
    "    - Column names should be unique and informative.\n",
    "8. Drop unnecessary rows (if needed).\n",
    "9. Merge dataframes that can be merged.\n",
    "10. Perform any additional cleaning that you feel is necessary.\n",
    "11. Save your cleaned and merged dataframes as csv files."
   ]
  },
  {
   "cell_type": "markdown",
   "metadata": {},
   "source": [
    "## Step 1. Import and display datasets"
   ]
  },
  {
   "cell_type": "code",
   "execution_count": 5,
   "metadata": {},
   "outputs": [],
   "source": [
    "#import all the ACT test datasets from 2017 to 2019\n",
    "act17 = pd.read_csv(\"../data/act_2017.csv\")\n",
    "act18 = pd.read_csv(\"../data/act_2018.csv\")\n",
    "act19 = pd.read_csv(\"../data/act_2019.csv\")\n",
    "\n",
    "#import all the SAT test datasets from 2017 to 2019\n",
    "sat17 = pd.read_csv(\"../data/sat_2017.csv\")\n",
    "sat18 = pd.read_csv(\"../data/sat_2018.csv\")\n",
    "sat19 = pd.read_csv(\"../data/sat_2019.csv\")\n",
    "\n",
    "#import California-specific ACT and SAT figures in 2019\n",
    "act19ca = pd.read_csv(\"../data/act_2019_ca.csv\")\n",
    "sat19ca = pd.read_csv(\"../data/sat_2019_ca.csv\")\n",
    "\n",
    "#import GDP by county levels for all states from 2017 to 2019\n",
    "gdpcounty = pd.read_csv(\"../data/gdp_county_2017to2019.csv\")\n",
    "\n",
    "#import GDP by states for year 2019\n",
    "gdpstate = pd.read_csv(\"../data/gdpstate.csv\")\n",
    "\n",
    "#import economic data for California counties\n",
    "countystats = pd.read_csv(\"../data/countystats.csv\", thousands=\",\")\n",
    "\n",
    "#import population by states for year 2019\n",
    "popstate = pd.read_csv(\"../data/population.csv\")\n",
    "\n",
    "#import unemployment rate by states for year 2019\n",
    "unemployrate = pd.read_csv(\"../data/unemployrate.csv\")\n",
    "\n",
    "#import state codes and census region classification data for all states\n",
    "statecode = pd.read_csv(\"../data/statecode.csv\")"
   ]
  },
  {
   "cell_type": "markdown",
   "metadata": {},
   "source": [
    "### 1a) Display ACT test data for 2017"
   ]
  },
  {
   "cell_type": "code",
   "execution_count": 6,
   "metadata": {
    "scrolled": false
   },
   "outputs": [
    {
     "data": {
      "text/html": [
       "<div>\n",
       "<style scoped>\n",
       "    .dataframe tbody tr th:only-of-type {\n",
       "        vertical-align: middle;\n",
       "    }\n",
       "\n",
       "    .dataframe tbody tr th {\n",
       "        vertical-align: top;\n",
       "    }\n",
       "\n",
       "    .dataframe thead th {\n",
       "        text-align: right;\n",
       "    }\n",
       "</style>\n",
       "<table border=\"1\" class=\"dataframe\">\n",
       "  <thead>\n",
       "    <tr style=\"text-align: right;\">\n",
       "      <th></th>\n",
       "      <th>State</th>\n",
       "      <th>Participation</th>\n",
       "      <th>English</th>\n",
       "      <th>Math</th>\n",
       "      <th>Reading</th>\n",
       "      <th>Science</th>\n",
       "      <th>Composite</th>\n",
       "    </tr>\n",
       "  </thead>\n",
       "  <tbody>\n",
       "    <tr>\n",
       "      <th>0</th>\n",
       "      <td>National</td>\n",
       "      <td>60%</td>\n",
       "      <td>20.3</td>\n",
       "      <td>20.7</td>\n",
       "      <td>21.4</td>\n",
       "      <td>21.0</td>\n",
       "      <td>21.0</td>\n",
       "    </tr>\n",
       "    <tr>\n",
       "      <th>1</th>\n",
       "      <td>Alabama</td>\n",
       "      <td>100%</td>\n",
       "      <td>18.9</td>\n",
       "      <td>18.4</td>\n",
       "      <td>19.7</td>\n",
       "      <td>19.4</td>\n",
       "      <td>19.2</td>\n",
       "    </tr>\n",
       "    <tr>\n",
       "      <th>2</th>\n",
       "      <td>Alaska</td>\n",
       "      <td>65%</td>\n",
       "      <td>18.7</td>\n",
       "      <td>19.8</td>\n",
       "      <td>20.4</td>\n",
       "      <td>19.9</td>\n",
       "      <td>19.8</td>\n",
       "    </tr>\n",
       "    <tr>\n",
       "      <th>3</th>\n",
       "      <td>Arizona</td>\n",
       "      <td>62%</td>\n",
       "      <td>18.6</td>\n",
       "      <td>19.8</td>\n",
       "      <td>20.1</td>\n",
       "      <td>19.8</td>\n",
       "      <td>19.7</td>\n",
       "    </tr>\n",
       "    <tr>\n",
       "      <th>4</th>\n",
       "      <td>Arkansas</td>\n",
       "      <td>100%</td>\n",
       "      <td>18.9</td>\n",
       "      <td>19.0</td>\n",
       "      <td>19.7</td>\n",
       "      <td>19.5</td>\n",
       "      <td>19.4</td>\n",
       "    </tr>\n",
       "  </tbody>\n",
       "</table>\n",
       "</div>"
      ],
      "text/plain": [
       "      State Participation  English  Math  Reading  Science Composite\n",
       "0  National           60%     20.3  20.7     21.4     21.0      21.0\n",
       "1   Alabama          100%     18.9  18.4     19.7     19.4      19.2\n",
       "2    Alaska           65%     18.7  19.8     20.4     19.9      19.8\n",
       "3   Arizona           62%     18.6  19.8     20.1     19.8      19.7\n",
       "4  Arkansas          100%     18.9  19.0     19.7     19.5      19.4"
      ]
     },
     "execution_count": 6,
     "metadata": {},
     "output_type": "execute_result"
    }
   ],
   "source": [
    "act17.head()"
   ]
  },
  {
   "cell_type": "markdown",
   "metadata": {},
   "source": [
    "### 1b) Display ACT test data for 2018"
   ]
  },
  {
   "cell_type": "code",
   "execution_count": 7,
   "metadata": {
    "scrolled": true
   },
   "outputs": [
    {
     "data": {
      "text/html": [
       "<div>\n",
       "<style scoped>\n",
       "    .dataframe tbody tr th:only-of-type {\n",
       "        vertical-align: middle;\n",
       "    }\n",
       "\n",
       "    .dataframe tbody tr th {\n",
       "        vertical-align: top;\n",
       "    }\n",
       "\n",
       "    .dataframe thead th {\n",
       "        text-align: right;\n",
       "    }\n",
       "</style>\n",
       "<table border=\"1\" class=\"dataframe\">\n",
       "  <thead>\n",
       "    <tr style=\"text-align: right;\">\n",
       "      <th></th>\n",
       "      <th>State</th>\n",
       "      <th>Participation</th>\n",
       "      <th>Composite</th>\n",
       "    </tr>\n",
       "  </thead>\n",
       "  <tbody>\n",
       "    <tr>\n",
       "      <th>0</th>\n",
       "      <td>Alabama</td>\n",
       "      <td>100%</td>\n",
       "      <td>19.1</td>\n",
       "    </tr>\n",
       "    <tr>\n",
       "      <th>1</th>\n",
       "      <td>Alaska</td>\n",
       "      <td>33%</td>\n",
       "      <td>20.8</td>\n",
       "    </tr>\n",
       "    <tr>\n",
       "      <th>2</th>\n",
       "      <td>Arizona</td>\n",
       "      <td>66%</td>\n",
       "      <td>19.2</td>\n",
       "    </tr>\n",
       "    <tr>\n",
       "      <th>3</th>\n",
       "      <td>Arkansas</td>\n",
       "      <td>100%</td>\n",
       "      <td>19.4</td>\n",
       "    </tr>\n",
       "    <tr>\n",
       "      <th>4</th>\n",
       "      <td>California</td>\n",
       "      <td>27%</td>\n",
       "      <td>22.7</td>\n",
       "    </tr>\n",
       "  </tbody>\n",
       "</table>\n",
       "</div>"
      ],
      "text/plain": [
       "        State Participation  Composite\n",
       "0     Alabama          100%       19.1\n",
       "1      Alaska           33%       20.8\n",
       "2     Arizona           66%       19.2\n",
       "3    Arkansas          100%       19.4\n",
       "4  California           27%       22.7"
      ]
     },
     "execution_count": 7,
     "metadata": {},
     "output_type": "execute_result"
    }
   ],
   "source": [
    "act18.head()"
   ]
  },
  {
   "cell_type": "markdown",
   "metadata": {},
   "source": [
    "### 1c) Display ACT test data for 2019"
   ]
  },
  {
   "cell_type": "code",
   "execution_count": 8,
   "metadata": {
    "scrolled": true
   },
   "outputs": [
    {
     "data": {
      "text/html": [
       "<div>\n",
       "<style scoped>\n",
       "    .dataframe tbody tr th:only-of-type {\n",
       "        vertical-align: middle;\n",
       "    }\n",
       "\n",
       "    .dataframe tbody tr th {\n",
       "        vertical-align: top;\n",
       "    }\n",
       "\n",
       "    .dataframe thead th {\n",
       "        text-align: right;\n",
       "    }\n",
       "</style>\n",
       "<table border=\"1\" class=\"dataframe\">\n",
       "  <thead>\n",
       "    <tr style=\"text-align: right;\">\n",
       "      <th></th>\n",
       "      <th>State</th>\n",
       "      <th>Participation</th>\n",
       "      <th>Composite</th>\n",
       "    </tr>\n",
       "  </thead>\n",
       "  <tbody>\n",
       "    <tr>\n",
       "      <th>0</th>\n",
       "      <td>Alabama</td>\n",
       "      <td>100%</td>\n",
       "      <td>18.9</td>\n",
       "    </tr>\n",
       "    <tr>\n",
       "      <th>1</th>\n",
       "      <td>Alaska</td>\n",
       "      <td>38%</td>\n",
       "      <td>20.1</td>\n",
       "    </tr>\n",
       "    <tr>\n",
       "      <th>2</th>\n",
       "      <td>Arizona</td>\n",
       "      <td>73%</td>\n",
       "      <td>19.0</td>\n",
       "    </tr>\n",
       "    <tr>\n",
       "      <th>3</th>\n",
       "      <td>Arkansas</td>\n",
       "      <td>100%</td>\n",
       "      <td>19.3</td>\n",
       "    </tr>\n",
       "    <tr>\n",
       "      <th>4</th>\n",
       "      <td>California</td>\n",
       "      <td>23%</td>\n",
       "      <td>22.6</td>\n",
       "    </tr>\n",
       "  </tbody>\n",
       "</table>\n",
       "</div>"
      ],
      "text/plain": [
       "        State Participation  Composite\n",
       "0     Alabama          100%       18.9\n",
       "1      Alaska           38%       20.1\n",
       "2     Arizona           73%       19.0\n",
       "3    Arkansas          100%       19.3\n",
       "4  California           23%       22.6"
      ]
     },
     "execution_count": 8,
     "metadata": {},
     "output_type": "execute_result"
    }
   ],
   "source": [
    "act19.head()"
   ]
  },
  {
   "cell_type": "markdown",
   "metadata": {},
   "source": [
    "### 1d) Display SAT test data for 2017"
   ]
  },
  {
   "cell_type": "code",
   "execution_count": 9,
   "metadata": {
    "scrolled": true
   },
   "outputs": [
    {
     "data": {
      "text/html": [
       "<div>\n",
       "<style scoped>\n",
       "    .dataframe tbody tr th:only-of-type {\n",
       "        vertical-align: middle;\n",
       "    }\n",
       "\n",
       "    .dataframe tbody tr th {\n",
       "        vertical-align: top;\n",
       "    }\n",
       "\n",
       "    .dataframe thead th {\n",
       "        text-align: right;\n",
       "    }\n",
       "</style>\n",
       "<table border=\"1\" class=\"dataframe\">\n",
       "  <thead>\n",
       "    <tr style=\"text-align: right;\">\n",
       "      <th></th>\n",
       "      <th>State</th>\n",
       "      <th>Participation</th>\n",
       "      <th>Evidence-Based Reading and Writing</th>\n",
       "      <th>Math</th>\n",
       "      <th>Total</th>\n",
       "    </tr>\n",
       "  </thead>\n",
       "  <tbody>\n",
       "    <tr>\n",
       "      <th>0</th>\n",
       "      <td>Alabama</td>\n",
       "      <td>5%</td>\n",
       "      <td>593</td>\n",
       "      <td>572</td>\n",
       "      <td>1165</td>\n",
       "    </tr>\n",
       "    <tr>\n",
       "      <th>1</th>\n",
       "      <td>Alaska</td>\n",
       "      <td>38%</td>\n",
       "      <td>547</td>\n",
       "      <td>533</td>\n",
       "      <td>1080</td>\n",
       "    </tr>\n",
       "    <tr>\n",
       "      <th>2</th>\n",
       "      <td>Arizona</td>\n",
       "      <td>30%</td>\n",
       "      <td>563</td>\n",
       "      <td>553</td>\n",
       "      <td>1116</td>\n",
       "    </tr>\n",
       "    <tr>\n",
       "      <th>3</th>\n",
       "      <td>Arkansas</td>\n",
       "      <td>3%</td>\n",
       "      <td>614</td>\n",
       "      <td>594</td>\n",
       "      <td>1208</td>\n",
       "    </tr>\n",
       "    <tr>\n",
       "      <th>4</th>\n",
       "      <td>California</td>\n",
       "      <td>53%</td>\n",
       "      <td>531</td>\n",
       "      <td>524</td>\n",
       "      <td>1055</td>\n",
       "    </tr>\n",
       "  </tbody>\n",
       "</table>\n",
       "</div>"
      ],
      "text/plain": [
       "        State Participation  Evidence-Based Reading and Writing  Math  Total\n",
       "0     Alabama            5%                                 593   572   1165\n",
       "1      Alaska           38%                                 547   533   1080\n",
       "2     Arizona           30%                                 563   553   1116\n",
       "3    Arkansas            3%                                 614   594   1208\n",
       "4  California           53%                                 531   524   1055"
      ]
     },
     "execution_count": 9,
     "metadata": {},
     "output_type": "execute_result"
    }
   ],
   "source": [
    "sat17.head()"
   ]
  },
  {
   "cell_type": "markdown",
   "metadata": {},
   "source": [
    "### 1e) Display SAT test data for 2018"
   ]
  },
  {
   "cell_type": "code",
   "execution_count": 10,
   "metadata": {
    "scrolled": true
   },
   "outputs": [
    {
     "data": {
      "text/html": [
       "<div>\n",
       "<style scoped>\n",
       "    .dataframe tbody tr th:only-of-type {\n",
       "        vertical-align: middle;\n",
       "    }\n",
       "\n",
       "    .dataframe tbody tr th {\n",
       "        vertical-align: top;\n",
       "    }\n",
       "\n",
       "    .dataframe thead th {\n",
       "        text-align: right;\n",
       "    }\n",
       "</style>\n",
       "<table border=\"1\" class=\"dataframe\">\n",
       "  <thead>\n",
       "    <tr style=\"text-align: right;\">\n",
       "      <th></th>\n",
       "      <th>State</th>\n",
       "      <th>Participation</th>\n",
       "      <th>Evidence-Based Reading and Writing</th>\n",
       "      <th>Math</th>\n",
       "      <th>Total</th>\n",
       "    </tr>\n",
       "  </thead>\n",
       "  <tbody>\n",
       "    <tr>\n",
       "      <th>0</th>\n",
       "      <td>Alabama</td>\n",
       "      <td>6%</td>\n",
       "      <td>595</td>\n",
       "      <td>571</td>\n",
       "      <td>1166</td>\n",
       "    </tr>\n",
       "    <tr>\n",
       "      <th>1</th>\n",
       "      <td>Alaska</td>\n",
       "      <td>43%</td>\n",
       "      <td>562</td>\n",
       "      <td>544</td>\n",
       "      <td>1106</td>\n",
       "    </tr>\n",
       "    <tr>\n",
       "      <th>2</th>\n",
       "      <td>Arizona</td>\n",
       "      <td>29%</td>\n",
       "      <td>577</td>\n",
       "      <td>572</td>\n",
       "      <td>1149</td>\n",
       "    </tr>\n",
       "    <tr>\n",
       "      <th>3</th>\n",
       "      <td>Arkansas</td>\n",
       "      <td>5%</td>\n",
       "      <td>592</td>\n",
       "      <td>576</td>\n",
       "      <td>1169</td>\n",
       "    </tr>\n",
       "    <tr>\n",
       "      <th>4</th>\n",
       "      <td>California</td>\n",
       "      <td>60%</td>\n",
       "      <td>540</td>\n",
       "      <td>536</td>\n",
       "      <td>1076</td>\n",
       "    </tr>\n",
       "  </tbody>\n",
       "</table>\n",
       "</div>"
      ],
      "text/plain": [
       "        State Participation  Evidence-Based Reading and Writing  Math  Total\n",
       "0     Alabama            6%                                 595   571   1166\n",
       "1      Alaska           43%                                 562   544   1106\n",
       "2     Arizona           29%                                 577   572   1149\n",
       "3    Arkansas            5%                                 592   576   1169\n",
       "4  California           60%                                 540   536   1076"
      ]
     },
     "execution_count": 10,
     "metadata": {},
     "output_type": "execute_result"
    }
   ],
   "source": [
    "sat18.head()"
   ]
  },
  {
   "cell_type": "markdown",
   "metadata": {},
   "source": [
    "### 1f) Display SAT test data for 2019"
   ]
  },
  {
   "cell_type": "code",
   "execution_count": 11,
   "metadata": {
    "scrolled": true
   },
   "outputs": [
    {
     "data": {
      "text/html": [
       "<div>\n",
       "<style scoped>\n",
       "    .dataframe tbody tr th:only-of-type {\n",
       "        vertical-align: middle;\n",
       "    }\n",
       "\n",
       "    .dataframe tbody tr th {\n",
       "        vertical-align: top;\n",
       "    }\n",
       "\n",
       "    .dataframe thead th {\n",
       "        text-align: right;\n",
       "    }\n",
       "</style>\n",
       "<table border=\"1\" class=\"dataframe\">\n",
       "  <thead>\n",
       "    <tr style=\"text-align: right;\">\n",
       "      <th></th>\n",
       "      <th>State</th>\n",
       "      <th>Participation Rate</th>\n",
       "      <th>EBRW</th>\n",
       "      <th>Math</th>\n",
       "      <th>Total</th>\n",
       "    </tr>\n",
       "  </thead>\n",
       "  <tbody>\n",
       "    <tr>\n",
       "      <th>0</th>\n",
       "      <td>Alabama</td>\n",
       "      <td>7%</td>\n",
       "      <td>583</td>\n",
       "      <td>560</td>\n",
       "      <td>1143</td>\n",
       "    </tr>\n",
       "    <tr>\n",
       "      <th>1</th>\n",
       "      <td>Alaska</td>\n",
       "      <td>41%</td>\n",
       "      <td>556</td>\n",
       "      <td>541</td>\n",
       "      <td>1097</td>\n",
       "    </tr>\n",
       "    <tr>\n",
       "      <th>2</th>\n",
       "      <td>Arizona</td>\n",
       "      <td>31%</td>\n",
       "      <td>569</td>\n",
       "      <td>565</td>\n",
       "      <td>1134</td>\n",
       "    </tr>\n",
       "    <tr>\n",
       "      <th>3</th>\n",
       "      <td>Arkansas</td>\n",
       "      <td>6%</td>\n",
       "      <td>582</td>\n",
       "      <td>559</td>\n",
       "      <td>1141</td>\n",
       "    </tr>\n",
       "    <tr>\n",
       "      <th>4</th>\n",
       "      <td>California</td>\n",
       "      <td>63%</td>\n",
       "      <td>534</td>\n",
       "      <td>531</td>\n",
       "      <td>1065</td>\n",
       "    </tr>\n",
       "  </tbody>\n",
       "</table>\n",
       "</div>"
      ],
      "text/plain": [
       "        State Participation Rate  EBRW  Math  Total\n",
       "0     Alabama                 7%   583   560   1143\n",
       "1      Alaska                41%   556   541   1097\n",
       "2     Arizona                31%   569   565   1134\n",
       "3    Arkansas                 6%   582   559   1141\n",
       "4  California                63%   534   531   1065"
      ]
     },
     "execution_count": 11,
     "metadata": {},
     "output_type": "execute_result"
    }
   ],
   "source": [
    "sat19.head()"
   ]
  },
  {
   "cell_type": "markdown",
   "metadata": {},
   "source": [
    "### 1g) Display ACT19 test statistics for California State"
   ]
  },
  {
   "cell_type": "code",
   "execution_count": null,
   "metadata": {
    "scrolled": true
   },
   "outputs": [],
   "source": [
    "act19ca.head()"
   ]
  },
  {
   "cell_type": "markdown",
   "metadata": {},
   "source": [
    "### 1h) Display SAT19 test statistics for California State"
   ]
  },
  {
   "cell_type": "code",
   "execution_count": null,
   "metadata": {
    "scrolled": false
   },
   "outputs": [],
   "source": [
    "sat19ca.head()"
   ]
  },
  {
   "cell_type": "markdown",
   "metadata": {},
   "source": [
    "### 1i) Display GDP data by county level for all states (2017-2019)"
   ]
  },
  {
   "cell_type": "code",
   "execution_count": null,
   "metadata": {
    "scrolled": false
   },
   "outputs": [],
   "source": [
    "gdpcounty.head()"
   ]
  },
  {
   "cell_type": "markdown",
   "metadata": {},
   "source": [
    "### 1j) Display GDP data by state level for year 2019"
   ]
  },
  {
   "cell_type": "code",
   "execution_count": null,
   "metadata": {},
   "outputs": [],
   "source": [
    "gdpstate.head()"
   ]
  },
  {
   "cell_type": "markdown",
   "metadata": {},
   "source": [
    "### 1k) Display economic data for California counties"
   ]
  },
  {
   "cell_type": "code",
   "execution_count": null,
   "metadata": {},
   "outputs": [],
   "source": [
    "countystats.head()"
   ]
  },
  {
   "cell_type": "markdown",
   "metadata": {},
   "source": [
    "### 1l) Display population data by states for year 2019"
   ]
  },
  {
   "cell_type": "code",
   "execution_count": null,
   "metadata": {},
   "outputs": [],
   "source": [
    "popstate.head()"
   ]
  },
  {
   "cell_type": "markdown",
   "metadata": {},
   "source": [
    "### 1m) Display unemployment rate by states for year 2019"
   ]
  },
  {
   "cell_type": "code",
   "execution_count": null,
   "metadata": {},
   "outputs": [],
   "source": [
    "unemployrate.head()"
   ]
  },
  {
   "cell_type": "markdown",
   "metadata": {},
   "source": [
    "### 1n) Display state codes and census region classification data for all states"
   ]
  },
  {
   "cell_type": "code",
   "execution_count": null,
   "metadata": {},
   "outputs": [],
   "source": [
    "statecode.head()"
   ]
  },
  {
   "cell_type": "markdown",
   "metadata": {},
   "source": [
    "## Step 2. Check for missing values"
   ]
  },
  {
   "cell_type": "markdown",
   "metadata": {},
   "source": [
    "### 2a) Check nulls in ACT17"
   ]
  },
  {
   "cell_type": "code",
   "execution_count": null,
   "metadata": {
    "scrolled": true
   },
   "outputs": [],
   "source": [
    "act17.isnull().sum()"
   ]
  },
  {
   "cell_type": "markdown",
   "metadata": {},
   "source": [
    "### 2b) Check nulls in ACT18"
   ]
  },
  {
   "cell_type": "code",
   "execution_count": null,
   "metadata": {
    "scrolled": true
   },
   "outputs": [],
   "source": [
    "act18.isnull().sum()"
   ]
  },
  {
   "cell_type": "markdown",
   "metadata": {},
   "source": [
    "### 2c) Check nulls in ACT19"
   ]
  },
  {
   "cell_type": "code",
   "execution_count": null,
   "metadata": {
    "scrolled": true
   },
   "outputs": [],
   "source": [
    "act19.isnull().sum()"
   ]
  },
  {
   "cell_type": "markdown",
   "metadata": {},
   "source": [
    "### 2d) Check nulls in SAT17"
   ]
  },
  {
   "cell_type": "code",
   "execution_count": null,
   "metadata": {
    "scrolled": true
   },
   "outputs": [],
   "source": [
    "sat17.isnull().sum()"
   ]
  },
  {
   "cell_type": "markdown",
   "metadata": {},
   "source": [
    "### 2e) Check nulls in SAT18"
   ]
  },
  {
   "cell_type": "code",
   "execution_count": null,
   "metadata": {
    "scrolled": true
   },
   "outputs": [],
   "source": [
    "sat18.isnull().sum()"
   ]
  },
  {
   "cell_type": "markdown",
   "metadata": {},
   "source": [
    "### 2f) Check nulls in SAT19"
   ]
  },
  {
   "cell_type": "code",
   "execution_count": null,
   "metadata": {
    "scrolled": true
   },
   "outputs": [],
   "source": [
    "sat19.isnull().sum()"
   ]
  },
  {
   "cell_type": "markdown",
   "metadata": {},
   "source": [
    "### 2g) Check nulls in ACT19CA"
   ]
  },
  {
   "cell_type": "code",
   "execution_count": null,
   "metadata": {
    "scrolled": true
   },
   "outputs": [],
   "source": [
    "act19ca.isnull().sum()"
   ]
  },
  {
   "cell_type": "code",
   "execution_count": null,
   "metadata": {},
   "outputs": [],
   "source": [
    "msno.matrix(act19ca);"
   ]
  },
  {
   "cell_type": "markdown",
   "metadata": {},
   "source": [
    "### 2h) Check nulls in SAT19CA"
   ]
  },
  {
   "cell_type": "code",
   "execution_count": null,
   "metadata": {
    "scrolled": true
   },
   "outputs": [],
   "source": [
    "sat19ca.isnull().sum()"
   ]
  },
  {
   "cell_type": "code",
   "execution_count": null,
   "metadata": {},
   "outputs": [],
   "source": [
    "msno.matrix(sat19ca);"
   ]
  },
  {
   "cell_type": "markdown",
   "metadata": {},
   "source": [
    "### 2i) Check nulls in GDP data by County"
   ]
  },
  {
   "cell_type": "code",
   "execution_count": null,
   "metadata": {
    "scrolled": true
   },
   "outputs": [],
   "source": [
    "gdpcounty.isnull().sum()"
   ]
  },
  {
   "cell_type": "markdown",
   "metadata": {},
   "source": [
    "### 2j) Check nulls in GDP data by State"
   ]
  },
  {
   "cell_type": "code",
   "execution_count": null,
   "metadata": {
    "scrolled": false
   },
   "outputs": [],
   "source": [
    "gdpstate.isnull().sum()"
   ]
  },
  {
   "cell_type": "markdown",
   "metadata": {},
   "source": [
    "### 2k) Check nulls in California counties dataset"
   ]
  },
  {
   "cell_type": "code",
   "execution_count": null,
   "metadata": {},
   "outputs": [],
   "source": [
    "countystats.isnull().sum()"
   ]
  },
  {
   "cell_type": "markdown",
   "metadata": {},
   "source": [
    "### 2l) Check nulls in population by State data"
   ]
  },
  {
   "cell_type": "code",
   "execution_count": null,
   "metadata": {
    "scrolled": true
   },
   "outputs": [],
   "source": [
    "popstate.isnull().sum()"
   ]
  },
  {
   "cell_type": "markdown",
   "metadata": {},
   "source": [
    "### 2m) Check nulls in unemployment rate by State data"
   ]
  },
  {
   "cell_type": "code",
   "execution_count": null,
   "metadata": {},
   "outputs": [],
   "source": [
    "unemployrate.isnull().sum()"
   ]
  },
  {
   "cell_type": "markdown",
   "metadata": {},
   "source": [
    "### 2n) Check nulls in State codes and census region data"
   ]
  },
  {
   "cell_type": "code",
   "execution_count": null,
   "metadata": {},
   "outputs": [],
   "source": [
    "statecode.isnull().sum()"
   ]
  },
  {
   "cell_type": "markdown",
   "metadata": {},
   "source": [
    "## Step 3, 4, 5 and 6. Observe, fix any errors, display data types\n",
    "- We are only interested in the participation rates and not the scores."
   ]
  },
  {
   "cell_type": "markdown",
   "metadata": {},
   "source": [
    "### 3a) Cleaning act17 dataset"
   ]
  },
  {
   "cell_type": "code",
   "execution_count": null,
   "metadata": {
    "scrolled": false
   },
   "outputs": [],
   "source": [
    "act17.describe()"
   ]
  },
  {
   "cell_type": "markdown",
   "metadata": {},
   "source": [
    "#### We can see that the min value of Science is very low. This could be an error."
   ]
  },
  {
   "cell_type": "code",
   "execution_count": null,
   "metadata": {
    "scrolled": false
   },
   "outputs": [],
   "source": [
    "#replace 2.3 with 23.0\n",
    "act17.loc[[21],['Science']] = 23.0 \n",
    "\n",
    "#replace 20.2x with 20.2\n",
    "act17.loc[[51],['Composite']] = 20.2 \n",
    "\n",
    "#change composite columns to float\n",
    "act17['Composite'] = pd.to_numeric(act17['Composite'])\n",
    "\n",
    "#change % numbers into float decimals\n",
    "act17['Participation'] = act17['Participation'].map(clean_pct) "
   ]
  },
  {
   "cell_type": "code",
   "execution_count": null,
   "metadata": {
    "scrolled": true
   },
   "outputs": [],
   "source": [
    "act17.info()"
   ]
  },
  {
   "cell_type": "markdown",
   "metadata": {},
   "source": [
    "### 3b) Cleaning act18 dataset"
   ]
  },
  {
   "cell_type": "code",
   "execution_count": null,
   "metadata": {},
   "outputs": [],
   "source": [
    "act18.describe()"
   ]
  },
  {
   "cell_type": "code",
   "execution_count": null,
   "metadata": {},
   "outputs": [],
   "source": [
    "#change % numbers into float decimals\n",
    "act18['Participation'] = act18['Participation'].map(clean_pct)\n",
    "\n",
    "#change c to C as in Columbia\n",
    "act18.loc[[8],['State']]='District of Columbia' \n",
    "\n",
    "#drop duplicate values\n",
    "act18 = act18.drop_duplicates()"
   ]
  },
  {
   "cell_type": "code",
   "execution_count": null,
   "metadata": {
    "scrolled": false
   },
   "outputs": [],
   "source": [
    "act18.info()"
   ]
  },
  {
   "cell_type": "markdown",
   "metadata": {},
   "source": [
    "### 3c) Cleaning act19 dataset"
   ]
  },
  {
   "cell_type": "code",
   "execution_count": null,
   "metadata": {},
   "outputs": [],
   "source": [
    "act19.describe()"
   ]
  },
  {
   "cell_type": "code",
   "execution_count": null,
   "metadata": {},
   "outputs": [],
   "source": [
    "#change % numbers into float decimals\n",
    "act19['Participation'] = act19['Participation'].map(clean_pct) "
   ]
  },
  {
   "cell_type": "code",
   "execution_count": null,
   "metadata": {
    "scrolled": true
   },
   "outputs": [],
   "source": [
    "act19.info()"
   ]
  },
  {
   "cell_type": "markdown",
   "metadata": {},
   "source": [
    "### 3d) Cleaning sat17 dataset"
   ]
  },
  {
   "cell_type": "code",
   "execution_count": null,
   "metadata": {
    "scrolled": false
   },
   "outputs": [],
   "source": [
    "sat17.describe()"
   ]
  },
  {
   "cell_type": "markdown",
   "metadata": {},
   "source": [
    "#### Min value of Math is likely to be 520 instead of 52"
   ]
  },
  {
   "cell_type": "code",
   "execution_count": null,
   "metadata": {
    "scrolled": true
   },
   "outputs": [],
   "source": [
    "#find where is the index of the wrong math value\n",
    "sat17[sat17['Math']==52]"
   ]
  },
  {
   "cell_type": "code",
   "execution_count": null,
   "metadata": {},
   "outputs": [],
   "source": [
    "#change 52 to 520\n",
    "sat17.loc[20,'Math']=520\n",
    "\n",
    "#change % numbers into float decimals\n",
    "sat17['Participation'] = sat17['Participation'].map(clean_pct) "
   ]
  },
  {
   "cell_type": "code",
   "execution_count": null,
   "metadata": {},
   "outputs": [],
   "source": [
    "sat17.describe()"
   ]
  },
  {
   "cell_type": "code",
   "execution_count": null,
   "metadata": {},
   "outputs": [],
   "source": [
    "sat17.info()"
   ]
  },
  {
   "cell_type": "markdown",
   "metadata": {},
   "source": [
    "### 3e) Cleaning sat18 dataset"
   ]
  },
  {
   "cell_type": "code",
   "execution_count": null,
   "metadata": {},
   "outputs": [],
   "source": [
    "sat18.describe()"
   ]
  },
  {
   "cell_type": "code",
   "execution_count": null,
   "metadata": {
    "scrolled": true
   },
   "outputs": [],
   "source": [
    "#change % numbers into float decimals\n",
    "sat18['Participation'] = sat18['Participation'].map(clean_pct) "
   ]
  },
  {
   "cell_type": "code",
   "execution_count": null,
   "metadata": {},
   "outputs": [],
   "source": [
    "sat18.info() #sat18 cleaned!"
   ]
  },
  {
   "cell_type": "markdown",
   "metadata": {},
   "source": [
    "### 3f) Cleaning sat19 dataset"
   ]
  },
  {
   "cell_type": "code",
   "execution_count": null,
   "metadata": {},
   "outputs": [],
   "source": [
    "sat19.describe()"
   ]
  },
  {
   "cell_type": "code",
   "execution_count": null,
   "metadata": {
    "scrolled": true
   },
   "outputs": [],
   "source": [
    "#change % numbers into float decimals\n",
    "sat19['Participation Rate'] = sat19['Participation Rate'].map(clean_pct)\n",
    "\n",
    "#remove rows with null values\n",
    "sat19.dropna(axis=0, inplace=True)\n",
    "\n",
    "#reset the index\n",
    "sat19.reset_index(drop=True, inplace=True)"
   ]
  },
  {
   "cell_type": "code",
   "execution_count": null,
   "metadata": {},
   "outputs": [],
   "source": [
    "sat19.info()"
   ]
  },
  {
   "cell_type": "markdown",
   "metadata": {},
   "source": [
    "### 3g) Cleaning act19ca dataset"
   ]
  },
  {
   "cell_type": "code",
   "execution_count": null,
   "metadata": {
    "scrolled": true
   },
   "outputs": [],
   "source": [
    "act19ca.describe()"
   ]
  },
  {
   "cell_type": "code",
   "execution_count": null,
   "metadata": {
    "scrolled": false
   },
   "outputs": [],
   "source": [
    "#do the cleaning for the dataset\n",
    "\n",
    "#drop the redundant column at the end\n",
    "act19ca.drop(['Unnamed: 17'], axis=1, inplace=True)\n",
    "\n",
    "#last entry there is a row with all nan values\n",
    "act19ca.drop(2309, axis=0, inplace=True)\n",
    "\n",
    "#Substitute * in score columns with NaN. * means that the enrollment number is low.\n",
    "act19ca[['AvgScrRead','AvgScrEng','AvgScrMath','AvgScrSci','NumGE21','PctGE21']] \\\n",
    "=act19ca[['AvgScrRead','AvgScrEng','AvgScrMath','AvgScrSci','NumGE21','PctGE21']].replace('*', np.nan)\n",
    "\n",
    "#in \"Year\" column, replace 2018-19 with integer value 2019\n",
    "act19ca['Year'] = int(2019)\n",
    "\n",
    "#change datatype of all the scores from string to float\n",
    "act19ca[['AvgScrRead','AvgScrEng','AvgScrMath','\\\n",
    "AvgScrSci','NumGE21','PctGE21']] = \\\n",
    "act19ca[['AvgScrRead','AvgScrEng','AvgScrMath','\\\n",
    "AvgScrSci','NumGE21','PctGE21']].astype(float)\n",
    "\n",
    "act19ca.info()"
   ]
  },
  {
   "cell_type": "markdown",
   "metadata": {},
   "source": [
    "#### We want to check the accuracy of the dataset by looking at the number of students grouped by county and state."
   ]
  },
  {
   "cell_type": "code",
   "execution_count": null,
   "metadata": {
    "scrolled": true
   },
   "outputs": [],
   "source": [
    "#Find the number of test takers grouped by type (C=county, X=state, D=district, S=school)\n",
    "act19ca.groupby('RType')['NumTstTakr'].sum()"
   ]
  },
  {
   "cell_type": "markdown",
   "metadata": {},
   "source": [
    "#### Filter out rows where Rtype = C, drop all unnecessary columns and reset index"
   ]
  },
  {
   "cell_type": "code",
   "execution_count": null,
   "metadata": {},
   "outputs": [],
   "source": [
    "#Filter rows\n",
    "act19ca = act19ca[act19ca['RType']=='C']\n",
    "\n",
    "#Drop unnecessary columns\n",
    "act19ca.drop(['CDCode','SCode','RType','SName','DName'],axis=1,inplace=True)\n",
    "\n",
    "#reset index\n",
    "act19ca.reset_index(drop=True,inplace=True)\n",
    "act19ca.info()"
   ]
  },
  {
   "cell_type": "markdown",
   "metadata": {},
   "source": [
    "#### We still have some null values in the columns representing counties with low participation rates, but otherwise dataset is clean."
   ]
  },
  {
   "cell_type": "markdown",
   "metadata": {},
   "source": [
    "### 3h) Cleaning sat19ca dataset"
   ]
  },
  {
   "cell_type": "code",
   "execution_count": null,
   "metadata": {
    "scrolled": false
   },
   "outputs": [],
   "source": [
    "sat19ca.describe()"
   ]
  },
  {
   "cell_type": "code",
   "execution_count": null,
   "metadata": {},
   "outputs": [],
   "source": [
    "#drop the redundant column at the end, as well as columns for students in grade11\n",
    "sat19ca.drop(['Enroll11','NumTSTTakr11','NumERWBenchmark11','PctERWBenchmark11','PctERWBenchmark11',\\\n",
    "              'NumMathBenchmark11','PctMathBenchmark11','TotNumBothBenchmark11',\\\n",
    "              'PctBothBenchmark11','Unnamed: 25'], axis=1, inplace=True)\n",
    "\n",
    "#Substitute * in score columns with NaN\n",
    "sat19ca[['Enroll12','NumTSTTakr12','NumERWBenchmark12','PctERWBenchmark12','NumMathBenchmark12',\\\n",
    "         'PctMathBenchmark12','TotNumBothBenchmark12','PctBothBenchmark12']]= \\\n",
    "sat19ca[['Enroll12','NumTSTTakr12','NumERWBenchmark12','PctERWBenchmark12','NumMathBenchmark12',\\\n",
    "         'PctMathBenchmark12','TotNumBothBenchmark12','PctBothBenchmark12']].replace('*',np.nan)\n",
    "\n",
    "#last entry there is a row with all nan values\n",
    "sat19ca.drop(2579, axis=0, inplace=True)\n",
    "\n",
    "#in \"Year\" column, replace 2018-19 with integer value 2019\n",
    "sat19ca['Year'] = int(2019)\n",
    "\n",
    "#change datatype of all the scores from string to float\n",
    "sat19ca[['Enroll12','NumTSTTakr12','NumERWBenchmark12','PctERWBenchmark12','NumMathBenchmark12',\\\n",
    "         'PctMathBenchmark12','TotNumBothBenchmark12','PctBothBenchmark12']]= \\\n",
    "sat19ca[['Enroll12','NumTSTTakr12','NumERWBenchmark12','PctERWBenchmark12','NumMathBenchmark12',\\\n",
    "         'PctMathBenchmark12','TotNumBothBenchmark12','PctBothBenchmark12']].astype(float)"
   ]
  },
  {
   "cell_type": "markdown",
   "metadata": {},
   "source": [
    "#### We want to check the accuracy of the dataset by looking at the number of students grouped by county and state."
   ]
  },
  {
   "cell_type": "code",
   "execution_count": null,
   "metadata": {},
   "outputs": [],
   "source": [
    "#Find the number of test takers grouped by type (C=county, X=state, D=district, S=school)\n",
    "sat19ca.groupby('RType')['NumTSTTakr12'].sum()"
   ]
  },
  {
   "cell_type": "markdown",
   "metadata": {},
   "source": [
    "#### Filter out rows where Rtype = C and drop all unnecessary columns"
   ]
  },
  {
   "cell_type": "code",
   "execution_count": null,
   "metadata": {},
   "outputs": [],
   "source": [
    "#Filter rows\n",
    "sat19ca = sat19ca[sat19ca['RType']=='C']\n",
    "\n",
    "#Drop unnecessary columns\n",
    "sat19ca.drop(['CDCode','SCode','RType','SName','DName'],axis=1,inplace=True)\n",
    "\n",
    "#reset index\n",
    "sat19ca.reset_index(drop=True,inplace=True)\n",
    "sat19ca.info()"
   ]
  },
  {
   "cell_type": "markdown",
   "metadata": {},
   "source": [
    "### 3i) Cleaning gdpcounty dataset to extract values from California counties only"
   ]
  },
  {
   "cell_type": "code",
   "execution_count": null,
   "metadata": {
    "scrolled": true
   },
   "outputs": [],
   "source": [
    "gdpcounty.info()"
   ]
  },
  {
   "cell_type": "markdown",
   "metadata": {},
   "source": [
    "#### We are only interested in the GDP for California counties"
   ]
  },
  {
   "cell_type": "code",
   "execution_count": null,
   "metadata": {
    "scrolled": true
   },
   "outputs": [],
   "source": [
    "#Get the GDP for California counties\n",
    "gdpcountyca = gdpcounty[gdpcounty['GeoName'].apply(lambda x: x[-2:]=='CA')]\n",
    "\n",
    "#Extract only the county names\n",
    "gdpcountyca['GeoName']=gdpcountyca['GeoName'].apply(lambda x: x.split(',')[0])\n",
    "\n",
    "#Change data type of GDP to float\n",
    "gdpcountyca[['2017','2018','2019']] = gdpcountyca[['2017','2018','2019']].astype(float)\n",
    "\n",
    "gdpcountyca.reset_index(drop=True,inplace=True)\n",
    "gdpcountyca.info()"
   ]
  },
  {
   "cell_type": "code",
   "execution_count": null,
   "metadata": {
    "scrolled": true
   },
   "outputs": [],
   "source": [
    "gdpcountyca.head()"
   ]
  },
  {
   "cell_type": "markdown",
   "metadata": {},
   "source": [
    "### 3j) Clean gdpstate dataset"
   ]
  },
  {
   "cell_type": "code",
   "execution_count": null,
   "metadata": {},
   "outputs": [],
   "source": [
    "gdpstate.info()"
   ]
  },
  {
   "cell_type": "markdown",
   "metadata": {},
   "source": [
    "### 3k) Clean countystats dataset"
   ]
  },
  {
   "cell_type": "code",
   "execution_count": null,
   "metadata": {},
   "outputs": [],
   "source": [
    "countystats.info()"
   ]
  },
  {
   "cell_type": "markdown",
   "metadata": {},
   "source": [
    "#### Some numerical data types of the dataset are in strings and should be converted to floats."
   ]
  },
  {
   "cell_type": "code",
   "execution_count": null,
   "metadata": {},
   "outputs": [],
   "source": [
    "#convert % in employment rate to float\n",
    "countystats['Unemployment_Rate_2018'] = countystats['Unemployment_Rate_2018'].apply(clean_pct)*100\n",
    "\n",
    "#convert % in poverty all age to float\n",
    "countystats['Poverty_AllAgePct_2017'] = countystats['Poverty_AllAgePct_2017'].apply(clean_pct)*100\n",
    "\n",
    "#convert % in poverty u18 to float\n",
    "countystats['Poverty_U18Pct_2017'] = countystats['Poverty_U18Pct_2017'].apply(clean_pct)*100\n",
    "\n",
    "#convert household income and education from $ figures into float\n",
    "countystats['Household_Income_2017'] = countystats['Household_Income_2017'].\\\n",
    "apply(lambda x: x.strip('$').strip().replace(',',''))\n",
    "\n",
    "countystats['Education'] = countystats['Education'].\\\n",
    "apply(lambda x: x.replace('$',\"\").strip().replace(',',''))\n",
    "\n",
    "countystats[['Household_Income_2017','Education']] =\\\n",
    "countystats[['Household_Income_2017','Education']].astype(float)"
   ]
  },
  {
   "cell_type": "code",
   "execution_count": null,
   "metadata": {},
   "outputs": [],
   "source": [
    "countystats.info()"
   ]
  },
  {
   "cell_type": "markdown",
   "metadata": {},
   "source": [
    "### 3l) Clean popstate dataset"
   ]
  },
  {
   "cell_type": "code",
   "execution_count": null,
   "metadata": {},
   "outputs": [],
   "source": [
    "popstate.info()"
   ]
  },
  {
   "cell_type": "markdown",
   "metadata": {},
   "source": [
    "### 3m) Clean unemployrate dataset"
   ]
  },
  {
   "cell_type": "code",
   "execution_count": null,
   "metadata": {
    "scrolled": true
   },
   "outputs": [],
   "source": [
    "unemployrate.info()"
   ]
  },
  {
   "cell_type": "markdown",
   "metadata": {},
   "source": [
    "### 3n) Clean statecode dataset"
   ]
  },
  {
   "cell_type": "code",
   "execution_count": null,
   "metadata": {},
   "outputs": [],
   "source": [
    "statecode.info()"
   ]
  },
  {
   "cell_type": "markdown",
   "metadata": {},
   "source": [
    "## Step 7. Rename columns"
   ]
  },
  {
   "cell_type": "markdown",
   "metadata": {},
   "source": [
    "#### Define ACT dataset columns list"
   ]
  },
  {
   "cell_type": "code",
   "execution_count": null,
   "metadata": {},
   "outputs": [],
   "source": [
    "act17_col_list = [\n",
    "    'state',\n",
    "    'act17_part',\n",
    "    'act17_eng',\n",
    "    'act17_math',\n",
    "    'act17_read',\n",
    "    'act17_sci',\n",
    "    'act17_comp'\n",
    "]\n",
    "\n",
    "act18_col_list = [\n",
    "    'state',\n",
    "    'act18_part',\n",
    "    'act18_comp'\n",
    "]\n",
    "\n",
    "act19_col_list = [\n",
    "    'state',\n",
    "    'act19_part',\n",
    "    'act19_comp'\n",
    "]"
   ]
  },
  {
   "cell_type": "markdown",
   "metadata": {},
   "source": [
    "#### Define SAT dataset columns list"
   ]
  },
  {
   "cell_type": "code",
   "execution_count": null,
   "metadata": {},
   "outputs": [],
   "source": [
    "sat17_col_list = [\n",
    "    'state',\n",
    "    'sat17_part',\n",
    "    'sat17_ebrw',\n",
    "    'sat17_math',\n",
    "    'sat17_total'\n",
    "]\n",
    "\n",
    "sat18_col_list = [\n",
    "    'state',\n",
    "    'sat18_part',\n",
    "    'sat18_ebrw',\n",
    "    'sat18_math',\n",
    "    'sat18_total'\n",
    "]\n",
    "\n",
    "sat19_col_list = [\n",
    "    'state',\n",
    "    'sat19_part',\n",
    "    'sat19_ebrw',\n",
    "    'sat19_math',\n",
    "    'sat19_total'\n",
    "]"
   ]
  },
  {
   "cell_type": "markdown",
   "metadata": {},
   "source": [
    "#### Define California counties stats dataset columns list"
   ]
  },
  {
   "cell_type": "code",
   "execution_count": null,
   "metadata": {},
   "outputs": [],
   "source": [
    "gdpcountyca_col_list = [\n",
    "    'fips',\n",
    "    'county',\n",
    "    'gdp17',\n",
    "    'gdp18',\n",
    "    'gdp19',\n",
    "]\n",
    "\n",
    "countystats_col_list = [\n",
    "    'county',\n",
    "    'pop',\n",
    "    'employ',\n",
    "    'unemploy',\n",
    "    'unemployrate',\n",
    "    'pov_all',\n",
    "    'pov_all_pct',\n",
    "    'pov_u18',\n",
    "    'pov_u18_pct',\n",
    "    'household',\n",
    "    'education',\n",
    "    'caucus'\n",
    "]"
   ]
  },
  {
   "cell_type": "markdown",
   "metadata": {},
   "source": [
    "#### Rename the columns of the dataset"
   ]
  },
  {
   "cell_type": "code",
   "execution_count": null,
   "metadata": {},
   "outputs": [],
   "source": [
    "act17.columns = act17_col_list\n",
    "act18.columns = act18_col_list\n",
    "act19.columns = act19_col_list\n",
    "\n",
    "sat17.columns = sat17_col_list\n",
    "sat18.columns = sat18_col_list\n",
    "sat19.columns = sat19_col_list\n",
    "\n",
    "gdpcountyca.columns = gdpcountyca_col_list\n",
    "countystats.columns = countystats_col_list"
   ]
  },
  {
   "cell_type": "markdown",
   "metadata": {},
   "source": [
    "#### Rename all the datasets for State statistics (without defining column lists)"
   ]
  },
  {
   "cell_type": "code",
   "execution_count": null,
   "metadata": {},
   "outputs": [],
   "source": [
    "gdpstate.rename(columns={'GeoFips':'geofips',\n",
    "                    'GeoName':'state',\n",
    "                   '2019':'gdp'}, inplace=True)\n",
    "\n",
    "popstate.rename(columns={'STATE':'statenumber',\n",
    "                    'NAME':'state',\n",
    "                   'POPESTIMATE2019':'pop19'}, inplace=True)\n",
    "\n",
    "unemployrate.rename(columns={'State':'state',\n",
    "                    'Unemployment':'unemployrate',\n",
    "                   'Rank':'urank'}, inplace=True)\n",
    "\n",
    "statecode.rename(columns={'State':'state',\n",
    "                          'Abbrev':'stateabv',\n",
    "                          'Code':'code',\n",
    "                          'CensusRegion':'census'}, inplace=True)"
   ]
  },
  {
   "cell_type": "markdown",
   "metadata": {},
   "source": [
    "## Step 9. Remove unnecessary rows"
   ]
  },
  {
   "cell_type": "code",
   "execution_count": null,
   "metadata": {},
   "outputs": [],
   "source": [
    "sat19"
   ]
  },
  {
   "cell_type": "code",
   "execution_count": null,
   "metadata": {},
   "outputs": [],
   "source": [
    "#remove National row\n",
    "act17 = act17.drop(act17[act17['state']==\"National\"].index)\n",
    "\n",
    "#remove National row\n",
    "act19 = act19.drop(act19[act19['state']==\"National\"].index) "
   ]
  },
  {
   "cell_type": "markdown",
   "metadata": {},
   "source": [
    "## Step 10. Merge datasets"
   ]
  },
  {
   "cell_type": "markdown",
   "metadata": {},
   "source": [
    "### 10.1 Dataset #1: Merge ACT and SAT state files for 2017, 2018, 2019 to get a single dataset of participation and scores by state"
   ]
  },
  {
   "cell_type": "code",
   "execution_count": null,
   "metadata": {},
   "outputs": [],
   "source": [
    "act1718 = pd.merge(act17, act18, on='state')\n",
    "actall = pd.merge(act1718, act19, on='state')\n",
    "sat1718 = pd.merge(sat17, sat18, on='state')\n",
    "satall = pd.merge(sat1718, sat19, on='state')\n",
    "act_sat_bystate = pd.merge(actall, satall, on='state')\n",
    "act_sat_bystate.drop(act_sat_bystate.columns[[2,3,4,5,12,13,16,17,20,21]], axis=1, inplace=True)"
   ]
  },
  {
   "cell_type": "code",
   "execution_count": null,
   "metadata": {
    "scrolled": false
   },
   "outputs": [],
   "source": [
    "act_sat_bystate.info() #final cleaned dataset"
   ]
  },
  {
   "cell_type": "code",
   "execution_count": null,
   "metadata": {
    "scrolled": true
   },
   "outputs": [],
   "source": [
    "act_sat_bystate"
   ]
  },
  {
   "cell_type": "markdown",
   "metadata": {},
   "source": [
    "### Dataset #2: Merge SAT and ACT 2019 data for California State to get the enrollment, participation and performance of students in California in 2019"
   ]
  },
  {
   "cell_type": "code",
   "execution_count": null,
   "metadata": {
    "scrolled": true
   },
   "outputs": [],
   "source": [
    "act19ca.info()"
   ]
  },
  {
   "cell_type": "code",
   "execution_count": null,
   "metadata": {},
   "outputs": [],
   "source": [
    "sat19ca.info()"
   ]
  },
  {
   "cell_type": "code",
   "execution_count": null,
   "metadata": {
    "scrolled": true
   },
   "outputs": [],
   "source": [
    "#join act19ca and sat19ca files into one dataframe\n",
    "\n",
    "#drop unnecessary columns in ACT19CA and SAT19CA datasets\n",
    "act19ca.drop(act19ca.columns[[0,1,5,6,7,8,9,11]],axis=1,inplace=True)\n",
    "sat19ca.drop(sat19ca.columns[[0,1,3,5,6,7,8,9,11]],axis=1,inplace=True)\n",
    "\n",
    "#merge the two files first\n",
    "actsat19ca = pd.merge(act19ca, sat19ca, on='CName')\n",
    "actsat19ca.rename(columns={'CName':'county',\n",
    "                         'Enroll12':'enroll',\n",
    "                         'NumTstTakr':'act_takers',\n",
    "                         'PctGE21':'pct_act_bm',\n",
    "                         'NumTSTTakr12':'sat_takers',\n",
    "                         'PctBothBenchmark12':'pct_sat_bm'}, inplace=True)\n",
    "\n",
    "#find the participation rates for both tests\n",
    "actsat19ca['act_part'] = round(actsat19ca['act_takers']/actsat19ca['enroll']*100,2)\n",
    "actsat19ca['sat_part'] = round(actsat19ca['sat_takers']/actsat19ca['enroll']*100,2)\n",
    "actsat19ca = actsat19ca[['county','act_part','sat_part','pct_act_bm','pct_sat_bm']]\n",
    "\n",
    "actsat19ca.head()"
   ]
  },
  {
   "cell_type": "markdown",
   "metadata": {},
   "source": [
    "### Dataset #3: Merge California GDP and County Stats data for 2019"
   ]
  },
  {
   "cell_type": "code",
   "execution_count": null,
   "metadata": {},
   "outputs": [],
   "source": [
    "ca_county_stats = pd.merge(gdpcountyca, countystats, on='county')"
   ]
  },
  {
   "cell_type": "code",
   "execution_count": null,
   "metadata": {},
   "outputs": [],
   "source": [
    "ca_county_stats.info()"
   ]
  },
  {
   "cell_type": "code",
   "execution_count": null,
   "metadata": {},
   "outputs": [],
   "source": [
    "#need to calculate 2 columns for gdp per capita and education budget per capita of each county\n",
    "ca_county_stats['gdppercap'] = round(ca_county_stats['gdp19']/ca_county_stats['pop'],2)\n",
    "ca_county_stats['edupercap'] = round(ca_county_stats['education']/ca_county_stats['pop'],2)\n",
    "\n",
    "#drop unnecessary columns\n",
    "ca_county_stats.drop(ca_county_stats.columns[[2,3,4,6,7,9,11,14]], axis=1, inplace=True)"
   ]
  },
  {
   "cell_type": "code",
   "execution_count": null,
   "metadata": {
    "scrolled": false
   },
   "outputs": [],
   "source": [
    "col_order = [0,1,2,8,3,4,5,6,9,7] # setting column's order\n",
    "ca_county_stats = ca_county_stats[[ca_county_stats.columns[i] for i in col_order]]\n",
    "\n",
    "ca_county_stats.info()"
   ]
  },
  {
   "cell_type": "markdown",
   "metadata": {},
   "source": [
    "### Dataset 4: Merge dataset #2 and #3 together to do EDA and visualisation for California counties later on"
   ]
  },
  {
   "cell_type": "code",
   "execution_count": null,
   "metadata": {
    "scrolled": true
   },
   "outputs": [],
   "source": [
    "ca_cleaned = pd.merge(ca_county_stats, actsat19ca, on='county')\n",
    "ca_cleaned.head()"
   ]
  },
  {
   "cell_type": "markdown",
   "metadata": {},
   "source": [
    "### Dataset 5: Merge GDP, population, unemployment, region classification and state code data into single dataset"
   ]
  },
  {
   "cell_type": "code",
   "execution_count": null,
   "metadata": {
    "scrolled": true
   },
   "outputs": [],
   "source": [
    "gdp_pop = pd.merge(gdpstate, popstate, on='state')\n",
    "gdp_pop_unemployrate = pd.merge(gdp_pop, unemployrate, on='state')\n",
    "state_info = pd.merge(gdp_pop_unemployrate, statecode, on='state')\n",
    "state_info['gdppercap']= round(state_info['gdp']/state_info['pop19']*1e6,0)\n",
    "\n",
    "#drop unnecessary columns\n",
    "state_info.drop(state_info.columns[[3,6,7]], axis=1, inplace=True)\n",
    "\n",
    "# setting column's order\n",
    "col_order = [0,1,5,2,3,7,4,6] \n",
    "state_info = state_info[[state_info.columns[i] for i in col_order]]\n",
    "state_info.head()"
   ]
  },
  {
   "cell_type": "markdown",
   "metadata": {},
   "source": [
    "### Dataset 6: Merge state statistics information (df5) together with state test info (df1) for analysis later"
   ]
  },
  {
   "cell_type": "code",
   "execution_count": null,
   "metadata": {},
   "outputs": [],
   "source": [
    "state_cleaned = pd.merge(state_info, act_sat_bystate, on='state')\n",
    "state_cleaned.head()"
   ]
  },
  {
   "cell_type": "markdown",
   "metadata": {},
   "source": [
    "## Step 11. Save to csv file"
   ]
  },
  {
   "cell_type": "code",
   "execution_count": null,
   "metadata": {},
   "outputs": [],
   "source": [
    "act_sat_bystate.to_csv('../data/df1_act_sat_bystate.csv')\n",
    "actsat19ca.to_csv('../data/df2_actsat19ca.csv')\n",
    "ca_county_stats.to_csv('../data/df3_ca_county_stats.csv')\n",
    "ca_cleaned.to_csv('../data/df4_ca_cleaned.csv')\n",
    "state_info.to_csv('../data/df5_state_info.csv')\n",
    "state_cleaned.to_csv('../data/df6_state_cleaned.csv')\n"
   ]
  },
  {
   "cell_type": "markdown",
   "metadata": {},
   "source": [
    "### Data Dictionary\n",
    "\n",
    "Now that we've fixed our data, and given it appropriate names, let's create a [data dictionary](http://library.ucmerced.edu/node/10249). \n",
    "\n",
    "A data dictionary provides a quick overview of features/variables/columns, alongside data types and descriptions. The more descriptive you can be, the more useful this document is.\n",
    "\n",
    "Example of a Fictional Data Dictionary Entry: \n",
    "\n",
    "|Feature|Type|Dataset|Description|\n",
    "|---|---|---|---|\n",
    "|**county_pop**|*integer*|2010 census|The population of the county (units in thousands, where 2.5 represents 2500 people).| \n",
    "|**per_poverty**|*float*|2010 census|The percent of the county over the age of 18 living below the 200% of official US poverty rate (units percent to two decimal places 98.10 means 98.1%)|\n",
    "\n",
    "[Here's a quick link to a short guide for formatting markdown in Jupyter notebooks](https://jupyter-notebook.readthedocs.io/en/stable/examples/Notebook/Working%20With%20Markdown%20Cells.html).\n",
    "\n",
    "Provided is the skeleton for formatting a markdown table, with columns headers that will help you create a data dictionary to quickly summarize your data, as well as some examples. **This would be a great thing to copy and paste into your custom README for this project.**\n",
    "\n",
    "*Note*: if you are unsure of what a feature is, check the source of the data! This can be found in the README."
   ]
  },
  {
   "cell_type": "markdown",
   "metadata": {},
   "source": [
    "# REDO THIS AFTER FIXING EVERYTHING"
   ]
  },
  {
   "cell_type": "markdown",
   "metadata": {},
   "source": [
    "**To-Do:** *Edit the table below to create your own data dictionary for the datasets you chose.*\n",
    "\n",
    "|Feature|Type|Dataset|Description|\n",
    "|---|---|---|---|\n",
    "|column name|int/float/object|ACT/SAT|This is an example| \n"
   ]
  },
  {
   "cell_type": "markdown",
   "metadata": {},
   "source": [
    "**Data Dictionary for ACT 2017, SAT 2017**\n",
    " \n",
    "|Feature|Type|Dataset|Description|\n",
    "|---|---|---|---|\n",
    "|state|obj|ACT/SAT|State|\n",
    "|sat17_part|float64|ACT/SAT|Statewide SAT Participation Rate, 2017| \n",
    "|sat17_ebrw|int64|ACT/SAT|State mean score, SAT Reading/Writing (200-800), 2017| \n",
    "|sat17_math|int64|ACT/SAT|State mean score, SAT Math (200-800), 2017| \n",
    "|sat17_total|int64|ACT/SAT|State mean total SAT score (400-1600), 2017| \n",
    "|act17_part|float64|ACT/SAT|Statewide ACT Participation Rate, 2017| \n",
    "|act17_eng|float64|ACT/SAT|State mean score, ACT English (1-36), 2017| \n",
    "|act17_math|float64|ACT/SAT|State mean score, ACT English (1-36), 2017| \n",
    "|act17_read|float64|ACT/SAT|State mean score, ACT Reading (1-36), 2017| \n",
    "|act17_sci|float64|ACT/SAT|State mean score, ACT Science (1-36), 2017| \n",
    "|act17_comp|float64|ACT/SAT|State mean ACT Composite Score (1-36), 2017|\n"
   ]
  },
  {
   "cell_type": "markdown",
   "metadata": {},
   "source": [
    "**Data Dictionary for ACT 2018, SAT 2018**\n",
    " \n",
    "|Feature|Type|Dataset|Description|\n",
    "|---|---|---|---|\n",
    "|state|obj|ACT/SAT|State|\n",
    "|sat18_part|float64|ACT/SAT|Statewide SAT Participation Rate, 2018| \n",
    "|sat18_ebrw|int64|ACT/SAT|State mean score, SAT Reading/Writing (200-800), 2018| \n",
    "|sat18_math|int64|ACT/SAT|State mean score, SAT Math (200-800), 2018| \n",
    "|sat18_total|int64|ACT/SAT|State mean total SAT score (400-1600), 2018| \n",
    "|act18_part|float64|ACT/SAT|Statewide ACT Participation Rate, 2018| \n",
    "|act18_eng|float64|ACT/SAT|State mean score, ACT English (1-36), 2018| \n",
    "|act18_math|float64|ACT/SAT|State mean score, ACT English (1-36), 2018| \n",
    "|act18_read|float64|ACT/SAT|State mean score, ACT Reading (1-36), 2018| \n",
    "|act18_sci|float64|ACT/SAT|State mean score, ACT Science (1-36), 2018| \n",
    "|act18_comp|float64|ACT/SAT|State mean ACT Composite Score (1-36), 2018|\n"
   ]
  },
  {
   "cell_type": "markdown",
   "metadata": {},
   "source": [
    "**Data Dictionary for ACT 2019, SAT 2019**\n",
    " \n",
    "|Feature|Type|Dataset|Description|\n",
    "|---|---|---|---|\n",
    "|state|obj|ACT/SAT|State|\n",
    "|sat19_part|float64|ACT/SAT|Statewide SAT Participation Rate, 2019| \n",
    "|sat19_ebrw|int64|ACT/SAT|State mean score, SAT Reading/Writing (200-800), 2019| \n",
    "|sat19_math|int64|ACT/SAT|State mean score, SAT Math (200-800), 2019| \n",
    "|sat19_total|int64|ACT/SAT|State mean total SAT score (400-1600), 2019| \n",
    "|act19_part|float64|ACT/SAT|Statewide ACT Participation Rate, 2019| \n",
    "|act19_eng|float64|ACT/SAT|State mean score, ACT English (1-36), 2019| \n",
    "|act19_math|float64|ACT/SAT|State mean score, ACT English (1-36), 2019| \n",
    "|act19_read|float64|ACT/SAT|State mean score, ACT Reading (1-36), 2019| \n",
    "|act19_sci|float64|ACT/SAT|State mean score, ACT Science (1-36), 2019| \n",
    "|act19_comp|float64|ACT/SAT|State mean ACT Composite Score (1-36), 2019|"
   ]
  },
  {
   "cell_type": "markdown",
   "metadata": {},
   "source": [
    "**Data Dictionary for ACT 2019 California**\n",
    " \n",
    "|Feature|Type|Dataset|Description|\n",
    "|---|---|---|---|\n",
    "|cds|obj|ACT 2019 CA|County/District/School Code|\n",
    "|ccode|float64|ACT 2019 CA|County Code| \n",
    "|cname|int64|ACT 2019 CA|County Name| \n",
    "|enroll|int64|ACT 2019 CA|Enrollment of Grade 12| \n",
    "|num_tst_takr|int64|ACT 2019 CA|Number of Test Takers of Grade 12| \n",
    "|avg_scr_read|float64|ACT 2019 CA|Statewide ACT Participation Rate, 2019| \n",
    "|avg_scr_eng|float64|ACT 2019 CA|State mean score, ACT English (1-36), 2019| \n",
    "|avg_scr_math|float64|ACT 2019 CA|State mean score, ACT Math (1-36), 2019| \n",
    "|avg_scr_sci|float64|ACT 2019 CA|State mean score, ACT Science (1-36), 2019| \n",
    "|num_ge_21|float64|ACT 2019 CA|Number of Test Takers Whose ACT Composite Scores Are Greater or Equal to 21| \n",
    "|pct_ge_21|float64|ACT 2019 CA|Percent of Test Takers Whose ACT Composite Scores Are Greater or Equal to 21|\n",
    "|year|float64|ACT 2019 CA|Test Administration Academic Year|"
   ]
  },
  {
   "cell_type": "markdown",
   "metadata": {},
   "source": [
    "**Data Dictionary for SAT 2019 California**\n",
    " \n",
    "|Feature|Type|Dataset|Description|\n",
    "|---|---|---|---|\n",
    "|cds|obj|SAT 2019 CA|County/District/School Code|\n",
    "|ccode|float64|SAT 2019 CA|County Code| \n",
    "|cname|int64|SAT 2019 CA|County Name| \n",
    "|enroll|int64|SAT 2019 CA|Enrollment of Grade 12| \n",
    "|num_tst_takr|int64|SAT 2019 CA|Number of Test Takers of Grade 12| \n",
    "|num_erw_bm|float64|SAT 2019 CA|Statewide ACT Participation Rate, 2019| \n",
    "|pct_erw_bm|float64|SAT 2019 CA|The percent of students who met or exceeded the benchmark for Evidence-Based Reading & Writing (ERW)| \n",
    "|num_math_bm|float64|SAT 2019 CA|The number of students who met or exceeded the benchmark for SAT Math test| \n",
    "|pct_math_bm|float64|SAT 2019 CA|The percent of students who met or exceeded the benchmark for SAT Math test| \n",
    "|tot_num_both_bm|float64|SAT 2019 CA|The total number of students who met the benchmark of both Evidence-Based Reading & Writing (ERW) and Math| \n",
    "|pct_both_bm|float64|SAT 2019 CA|The percent of students who met the benchmark of both Evidence-Based Reading & Writing (ERW) and Math), 2019|\n",
    "|year|float64|SAT 2019 CA|Test Administration Academic Year|"
   ]
  },
  {
   "cell_type": "markdown",
   "metadata": {},
   "source": [
    "## Exploratory Data Analysis\n",
    "\n",
    "Complete the following steps to explore your data. You are welcome to do more EDA than the steps outlined here as you feel necessary:\n",
    "1. Summary Statistics.\n",
    "2. Use a **dictionary comprehension** to apply the standard deviation function you create in part 1 to each numeric column in the dataframe.  **No loops**.\n",
    "    - Assign the output to variable `sd` as a dictionary where: \n",
    "        - Each column name is now a key \n",
    "        - That standard deviation of the column is the value \n",
    "        - *Example Output :* `{'ACT_Math': 120, 'ACT_Reading': 120, ...}`\n",
    "3. Investigate trends in the data.\n",
    "    - Using sorting and/or masking (along with the `.head()` method to avoid printing our entire dataframe), consider questions relevant to your problem statement. Some examples are provided below (but feel free to change these questions for your specific problem):\n",
    "        - Which states have the highest and lowest participation rates for the 2017, 2019, or 2019 SAT and ACT?\n",
    "        - Which states have the highest and lowest mean total/composite scores for the 2017, 2019, or 2019 SAT and ACT?\n",
    "        - Do any states with 100% participation on a given test have a rate change year-to-year?\n",
    "        - Do any states show have >50% participation on *both* tests each year?\n",
    "        - Which colleges have the highest median SAT and ACT scores for admittance?\n",
    "        - Which California school districts have the highest and lowest mean test scores?\n",
    "    - **You should comment on your findings at each step in a markdown cell below your code block**. Make sure you include at least one example of sorting your dataframe by a column, and one example of using boolean filtering (i.e., masking) to select a subset of the dataframe."
   ]
  },
  {
   "cell_type": "markdown",
   "metadata": {},
   "source": [
    "**To-Do:** *Edit this cell with your findings on trends in the data (step 3 above).*"
   ]
  },
  {
   "cell_type": "markdown",
   "metadata": {},
   "source": [
    "### Standard deviation of the values in the first dataframe"
   ]
  },
  {
   "cell_type": "code",
   "execution_count": null,
   "metadata": {
    "scrolled": true
   },
   "outputs": [],
   "source": [
    "df1_std = {col : round(manual_std(act_sat_bystate[col]),3) for col in act_sat_bystate.columns if act_sat_bystate[col].dtypes != object}\n",
    "df1_std"
   ]
  },
  {
   "cell_type": "code",
   "execution_count": null,
   "metadata": {
    "scrolled": true
   },
   "outputs": [],
   "source": [
    "#exploring the information in the new dataset\n",
    "ca_cleaned.describe()"
   ]
  },
  {
   "cell_type": "code",
   "execution_count": null,
   "metadata": {},
   "outputs": [],
   "source": [
    "Image('../data/US_by_states.png')"
   ]
  },
  {
   "cell_type": "markdown",
   "metadata": {},
   "source": [
    "### EDA1: Which states have the highest and lowest ACT participation in 2017, 2018 and 2019?"
   ]
  },
  {
   "cell_type": "code",
   "execution_count": null,
   "metadata": {},
   "outputs": [],
   "source": [
    "#Highest ACT participation\n",
    "state_cleaned[state_cleaned.columns[[1,7,8,10,12,14,16,18]]].\\\n",
    "sort_values(['act19_part','act18_part','act17_part'],ascending=False).head()"
   ]
  },
  {
   "cell_type": "code",
   "execution_count": null,
   "metadata": {},
   "outputs": [],
   "source": [
    "#Highest SAT participation\n",
    "state_cleaned[state_cleaned.columns[[1,7,8,10,12,14,16,18]]].\\\n",
    "sort_values(['sat19_part','sat18_part','sat17_part'],ascending=False).head()"
   ]
  },
  {
   "cell_type": "code",
   "execution_count": null,
   "metadata": {},
   "outputs": [],
   "source": [
    "#Lowest ACT participation\n",
    "state_cleaned[state_cleaned.columns[[1,7,8,10,12,14,16,18]]].\\\n",
    "sort_values(['act19_part','act18_part','act17_part'],ascending=True).head()"
   ]
  },
  {
   "cell_type": "code",
   "execution_count": null,
   "metadata": {},
   "outputs": [],
   "source": [
    "#Lowest SAT participation\n",
    "state_cleaned[state_cleaned.columns[[1,7,8,10,12,14,16,18]]].\\\n",
    "sort_values(['sat19_part','sat18_part','sat17_part'],ascending=True).head()"
   ]
  },
  {
   "cell_type": "markdown",
   "metadata": {},
   "source": [
    "### EDA2: Which states have the highest and lowest mean total/composite score in 2017, 2018 and 2019?"
   ]
  },
  {
   "cell_type": "code",
   "execution_count": null,
   "metadata": {
    "scrolled": false
   },
   "outputs": [],
   "source": [
    "#Highest ACT score\n",
    "state_cleaned[state_cleaned.columns[[1,7,9,11,13,15,17,19]]].\\\n",
    "sort_values(['act19_comp','act18_comp','act17_comp'],ascending=False).head()"
   ]
  },
  {
   "cell_type": "code",
   "execution_count": null,
   "metadata": {},
   "outputs": [],
   "source": [
    "#Highest SAT score\n",
    "state_cleaned[state_cleaned.columns[[1,7,9,11,13,15,17,19]]].\\\n",
    "sort_values(['sat19_total','sat18_total','sat17_total'],ascending=False).head()"
   ]
  },
  {
   "cell_type": "code",
   "execution_count": null,
   "metadata": {},
   "outputs": [],
   "source": [
    "#Lowest ACT score\n",
    "state_cleaned[state_cleaned.columns[[1,7,9,11,13,15,17,19]]].\\\n",
    "sort_values(['act19_comp','act18_comp','act17_comp'],ascending=True).head()"
   ]
  },
  {
   "cell_type": "code",
   "execution_count": null,
   "metadata": {},
   "outputs": [],
   "source": [
    "#Highest SAT score\n",
    "state_cleaned[state_cleaned.columns[[1,7,9,11,13,15,17,19]]].\\\n",
    "sort_values(['sat19_total','sat18_total','sat17_total'],ascending=True).head()"
   ]
  },
  {
   "cell_type": "markdown",
   "metadata": {},
   "source": [
    "### EDA3: Do any states with 100% participation on a given test have a rate change year-to-year?"
   ]
  },
  {
   "cell_type": "code",
   "execution_count": null,
   "metadata": {},
   "outputs": [],
   "source": [
    "#States with 100% participation on a given test having a rate change yoy\n",
    "\n",
    "state_cleaned[state_cleaned.columns[[1,7,8,10,12,14,16,18]]]\\\n",
    "[((state_cleaned['act17_part']==1) & (state_cleaned['act18_part']!=1))|\\\n",
    " ((state_cleaned['act18_part']==1) & (state_cleaned['act19_part']!=1))]\n",
    "#filter for act17 or act18 100% but the next year not 100%"
   ]
  },
  {
   "cell_type": "code",
   "execution_count": null,
   "metadata": {},
   "outputs": [],
   "source": [
    "#States with 100% participation on a given test having a rate change yoy\n",
    "\n",
    "state_cleaned[state_cleaned.columns[[1,7,8,10,12,14,16,18]]]\\\n",
    "[((state_cleaned['sat17_part']==1) & (state_cleaned['sat18_part']!=1))|\\\n",
    " ((state_cleaned['sat18_part']==1) & (state_cleaned['sat19_part']!=1))]\n",
    "#filter for sat17 or sat18 100% but the next year not 100%"
   ]
  },
  {
   "cell_type": "markdown",
   "metadata": {},
   "source": [
    "### EDA4: Do any states show have >50% participation on both tests each year?"
   ]
  },
  {
   "cell_type": "code",
   "execution_count": null,
   "metadata": {
    "scrolled": true
   },
   "outputs": [],
   "source": [
    "state_cleaned[state_cleaned.columns[[1,7,8,10,12,14,16,18]]]\\\n",
    "[((state_cleaned['act17_part']>0.5) & (state_cleaned['sat17_part']>0.5))&\\\n",
    " ((state_cleaned['act18_part']>0.5) & (state_cleaned['sat18_part']>0.5))&\\\n",
    " ((state_cleaned['act19_part']>0.5) & (state_cleaned['sat19_part']>0.5))]"
   ]
  },
  {
   "cell_type": "markdown",
   "metadata": {},
   "source": [
    "### EDA5: Which California counties have the highest and lowest participation in each test in 2019?"
   ]
  },
  {
   "cell_type": "code",
   "execution_count": null,
   "metadata": {},
   "outputs": [],
   "source": [
    "#Highest ACT participation in 2019\n",
    "ca_cleaned[ca_cleaned.columns[[1,9,10,11,12,13]]].\\\n",
    "sort_values('act_part',ascending=False).head()"
   ]
  },
  {
   "cell_type": "code",
   "execution_count": null,
   "metadata": {},
   "outputs": [],
   "source": [
    "#Highest SAT participation in 2019\n",
    "ca_cleaned[ca_cleaned.columns[[1,9,10,11,12,13]]].\\\n",
    "sort_values('sat_part',ascending=False).head()"
   ]
  },
  {
   "cell_type": "code",
   "execution_count": null,
   "metadata": {},
   "outputs": [],
   "source": [
    "#Lowest ACT participation in 2019\n",
    "ca_cleaned[ca_cleaned.columns[[1,9,10,11,12,13]]].\\\n",
    "sort_values('act_part',ascending=True).head()"
   ]
  },
  {
   "cell_type": "code",
   "execution_count": null,
   "metadata": {},
   "outputs": [],
   "source": [
    "#Lowest SAT participation in 2019\n",
    "ca_cleaned[ca_cleaned.columns[[1,9,10,11,12,13]]].\\\n",
    "sort_values('sat_part',ascending=True).head()"
   ]
  },
  {
   "cell_type": "markdown",
   "metadata": {},
   "source": [
    "### EDA6: Which California counties have the highest and lowest percentage of takers performing above the benchmark in each test in 2019?"
   ]
  },
  {
   "cell_type": "code",
   "execution_count": null,
   "metadata": {},
   "outputs": [],
   "source": [
    "#Highest percentage above benchmark for ACT takers in 2019\n",
    "ca_cleaned[ca_cleaned.columns[[1,9,10,11,12,13]]].\\\n",
    "sort_values('pct_act_bm',ascending=False).head()"
   ]
  },
  {
   "cell_type": "code",
   "execution_count": null,
   "metadata": {},
   "outputs": [],
   "source": [
    "#Highest percentage above benchmark for SAT takers in 2019\n",
    "ca_cleaned[ca_cleaned.columns[[1,9,10,11,12,13]]].\\\n",
    "sort_values('pct_sat_bm',ascending=False).head()"
   ]
  },
  {
   "cell_type": "code",
   "execution_count": null,
   "metadata": {},
   "outputs": [],
   "source": [
    "#Lowest percentage above benchmark for ACT takers in 2019\n",
    "ca_cleaned[ca_cleaned.columns[[1,9,10,11,12,13]]].\\\n",
    "sort_values('pct_act_bm',ascending=True).head()"
   ]
  },
  {
   "cell_type": "code",
   "execution_count": null,
   "metadata": {},
   "outputs": [],
   "source": [
    "#Lowest percentage above benchmark for SAT takers in 2019\n",
    "ca_cleaned[ca_cleaned.columns[[1,9,10,11,12,13]]].\\\n",
    "sort_values('pct_sat_bm',ascending=True).head()"
   ]
  },
  {
   "cell_type": "markdown",
   "metadata": {},
   "source": [
    "### EDA7: What is the mean participation rates of the states grouped by regions in the US? "
   ]
  },
  {
   "cell_type": "code",
   "execution_count": null,
   "metadata": {
    "scrolled": false
   },
   "outputs": [],
   "source": [
    "round(state_cleaned.groupby('census')\\\n",
    "      [['act17_part','act18_part','act19_part','sat17_part','sat18_part','sat19_part']].mean(),2)"
   ]
  },
  {
   "cell_type": "markdown",
   "metadata": {},
   "source": [
    "### EDA8: What is the mean scores of the states grouped by regions in the US? "
   ]
  },
  {
   "cell_type": "code",
   "execution_count": null,
   "metadata": {},
   "outputs": [],
   "source": [
    "round(state_cleaned.groupby('census')\\\n",
    "      [['act17_comp','act18_comp','act19_comp','sat17_total','sat18_total','sat19_total']].mean(),1)"
   ]
  },
  {
   "cell_type": "markdown",
   "metadata": {},
   "source": [
    "#### Question: Why is it that the region that does better in ACT does worse than others in SAT?"
   ]
  },
  {
   "cell_type": "markdown",
   "metadata": {},
   "source": [
    "### EDA9: Where are the richer areas in the US and what do their unemployment rates look like?"
   ]
  },
  {
   "cell_type": "code",
   "execution_count": null,
   "metadata": {
    "scrolled": false
   },
   "outputs": [],
   "source": [
    "round(state_cleaned.groupby('census')\\\n",
    "      [['gdppercap','unemployrate']].mean(),1).sort_values('gdppercap',ascending=False)"
   ]
  },
  {
   "cell_type": "code",
   "execution_count": null,
   "metadata": {
    "scrolled": true
   },
   "outputs": [],
   "source": [
    "plt.figure(figsize=(16,16))\n",
    "sns.boxplot(x='census',y='unemployrate',data=state_cleaned)\n",
    "#state_cleaned.groupby('census').boxplot(column='unemployrate')\n",
    "plt.tight_layout()"
   ]
  },
  {
   "cell_type": "markdown",
   "metadata": {},
   "source": [
    "## Visualize the Data\n",
    "\n",
    "There's not a magic bullet recommendation for the right number of plots to understand a given dataset, but visualizing your data is *always* a good idea. Not only does it allow you to quickly convey your findings (even if you have a non-technical audience), it will often reveal trends in your data that escaped you when you were looking only at numbers. It is important to not only create visualizations, but to **interpret your visualizations** as well.\n",
    "\n",
    "**Every plot should**:\n",
    "- Have a title\n",
    "- Have axis labels\n",
    "- Have appropriate tick labels\n",
    "- Text is legible in a plot\n",
    "- Plots demonstrate meaningful and valid relationships\n",
    "- Have an interpretation to aid understanding\n",
    "\n",
    "Here is an example of what your plots should look like following the above guidelines. Note that while the content of this example is unrelated, the principles of visualization hold:\n",
    "\n",
    "![](https://snag.gy/hCBR1U.jpg)\n",
    "*Interpretation: The above image shows that as we increase our spending on advertising, our sales numbers also tend to increase. There is a positive correlation between advertising spending and sales.*\n",
    "\n",
    "---\n",
    "\n",
    "Here are some prompts to get you started with visualizations. Feel free to add additional visualizations as you see fit:\n",
    "1. Use Seaborn's heatmap with pandas `.corr()` to visualize correlations between all numeric features.\n",
    "    - Heatmaps are generally not appropriate for presentations, and should often be excluded from reports as they can be visually overwhelming. **However**, they can be extremely useful in identify relationships of potential interest (as well as identifying potential collinearity before modeling).\n",
    "    - Please take time to format your output, adding a title. Look through some of the additional arguments and options. (Axis labels aren't really necessary, as long as the title is informative).\n",
    "2. Visualize distributions using histograms. If you have a lot, consider writing a custom function and use subplots.\n",
    "    - *OPTIONAL*: Summarize the underlying distributions of your features (in words & statistics)\n",
    "         - Be thorough in your verbal description of these distributions.\n",
    "         - Be sure to back up these summaries with statistics.\n",
    "         - We generally assume that data we sample from a population will be normally distributed. Do we observe this trend? Explain your answers for each distribution and how you think this will affect estimates made from these data.\n",
    "3. Plot and interpret boxplots. \n",
    "    - Boxplots demonstrate central tendency and spread in variables. In a certain sense, these are somewhat redundant with histograms, but you may be better able to identify clear outliers or differences in IQR, etc.\n",
    "    - Multiple values can be plotted to a single boxplot as long as they are of the same relative scale (meaning they have similar min/max values).\n",
    "    - Each boxplot should:\n",
    "        - Only include variables of a similar scale\n",
    "        - Have clear labels for each variable\n",
    "        - Have appropriate titles and labels\n",
    "4. Plot and interpret scatter plots to view relationships between features. Feel free to write a custom function, and subplot if you'd like. Functions save both time and space.\n",
    "    - Your plots should have:\n",
    "        - Two clearly labeled axes\n",
    "        - A proper title\n",
    "        - Colors and symbols that are clear and unmistakable\n",
    "5. Additional plots of your choosing.\n",
    "    - Are there any additional trends or relationships you haven't explored? Was there something interesting you saw that you'd like to dive further into? It's likely that there are a few more plots you might want to generate to support your narrative and recommendations that you are building toward. **As always, make sure you're interpreting your plots as you go**."
   ]
  },
  {
   "cell_type": "markdown",
   "metadata": {},
   "source": [
    "## Heatmap of correlation (state level)"
   ]
  },
  {
   "cell_type": "code",
   "execution_count": null,
   "metadata": {},
   "outputs": [],
   "source": [
    "f,ax = plt.subplots(figsize=(16,6))\n",
    "sns.heatmap(state_cleaned.corr(),cmap='coolwarm',annot=True)\n",
    "plt.title('Correlation of various factors (state level)');"
   ]
  },
  {
   "cell_type": "markdown",
   "metadata": {},
   "source": [
    "#### This is a little too messy to see, so we shall use other plots to visualize."
   ]
  },
  {
   "cell_type": "markdown",
   "metadata": {},
   "source": [
    "### We want to see if GDP per capita and the unemployment is related."
   ]
  },
  {
   "cell_type": "code",
   "execution_count": null,
   "metadata": {},
   "outputs": [],
   "source": [
    "state_cleaned.iplot(kind='scatter',x='unemployrate',y='gdppercap',mode='markers',size=10)"
   ]
  },
  {
   "cell_type": "markdown",
   "metadata": {},
   "source": [
    "#### Other than a single outlier point, the rest of the data point clearly shows that there is little correlation between the unemployment rate and gdp per capita. Size of the state population also does not correlate with the unemployment rate or GDP per capita, as can be seen below."
   ]
  },
  {
   "cell_type": "code",
   "execution_count": null,
   "metadata": {},
   "outputs": [],
   "source": [
    "state_cleaned.iplot(kind='bubble',x='unemployrate',y='gdppercap',size='pop19')"
   ]
  },
  {
   "cell_type": "markdown",
   "metadata": {},
   "source": [
    "### How has the participation in ACT and SAT changed between 2017 to 2019?"
   ]
  },
  {
   "cell_type": "code",
   "execution_count": null,
   "metadata": {
    "scrolled": true
   },
   "outputs": [],
   "source": [
    "state_cleaned[state_cleaned.columns[[8,10,12,14,16,18]]].iplot(kind='box')"
   ]
  },
  {
   "cell_type": "markdown",
   "metadata": {},
   "source": [
    "#### From 2017 to 2019, we can clearly see that ACT participation has droppped, while SAT participation has increased."
   ]
  },
  {
   "cell_type": "code",
   "execution_count": null,
   "metadata": {},
   "outputs": [],
   "source": [
    "sns.jointplot(x='act19_part',y='sat19_part',data=state_cleaned,kind='reg')\n",
    "plt.suptitle('ACT v SAT 2019 participation rate')\n",
    "plt.tight_layout();"
   ]
  },
  {
   "cell_type": "markdown",
   "metadata": {},
   "source": [
    "#### SAT and ACT participation seems to have a negative relationship. States with higher participation in ACT have lower participation in SAT and vice versa."
   ]
  },
  {
   "cell_type": "markdown",
   "metadata": {},
   "source": [
    "### Participation rate trend in California state"
   ]
  },
  {
   "cell_type": "code",
   "execution_count": null,
   "metadata": {
    "scrolled": true
   },
   "outputs": [],
   "source": [
    "state_cleaned[state_cleaned['state']=='California'][['act17_part','act18_part','act19_part']]"
   ]
  },
  {
   "cell_type": "code",
   "execution_count": null,
   "metadata": {
    "scrolled": true
   },
   "outputs": [],
   "source": [
    "state_cleaned[state_cleaned['state']=='California'][['sat17_part','sat18_part','sat19_part']]"
   ]
  },
  {
   "cell_type": "markdown",
   "metadata": {},
   "source": [
    "#### ACT participation has been dropping while SAT participation has increased in California. We will investigate this later when we look at the macroeconomic factors in different California countries."
   ]
  },
  {
   "cell_type": "markdown",
   "metadata": {},
   "source": [
    "### Visualizing GDP data and unemployment by state"
   ]
  },
  {
   "cell_type": "code",
   "execution_count": null,
   "metadata": {},
   "outputs": [],
   "source": [
    "data = dict(type = 'choropleth',\n",
    "            locations = state_cleaned['code'],\n",
    "            locationmode = 'USA-states',\n",
    "            colorscale= 'Reds',\n",
    "            text= state_cleaned['state'],\n",
    "            z= state_cleaned['gdppercap'],\n",
    "            colorbar = {'title':'GDP per capita'})\n",
    "layout = dict(geo = {'scope':'usa'})\n",
    "choromap = go.Figure(data = [data],layout = layout)\n",
    "iplot(choromap)"
   ]
  },
  {
   "cell_type": "code",
   "execution_count": null,
   "metadata": {},
   "outputs": [],
   "source": [
    "data = dict(type = 'choropleth',\n",
    "            locations = state_info['code'],\n",
    "            locationmode = 'USA-states',\n",
    "            colorscale= 'Blues',\n",
    "            text= state_info['state'],\n",
    "            z= state_info['unemployrate'],\n",
    "            colorbar = {'title':'Unemployment rate (%)'})\n",
    "layout = dict(geo = {'scope':'usa'})\n",
    "choromap = go.Figure(data = [data],layout = layout)\n",
    "iplot(choromap)"
   ]
  },
  {
   "cell_type": "markdown",
   "metadata": {},
   "source": [
    "#### We can see that California state seems to have a fairly high GDP per capita but also a fairly high unemployment rate."
   ]
  },
  {
   "cell_type": "code",
   "execution_count": null,
   "metadata": {},
   "outputs": [],
   "source": [
    "byregion = state_cleaned.groupby('census')[['act19_part','sat19_part','act19_comp','sat19_total']].mean()\n",
    "byregion.iplot(kind='line')"
   ]
  },
  {
   "cell_type": "markdown",
   "metadata": {},
   "source": [
    "### Interestingly, states with lower participation rates have higher scores. This is true for both ACT and SAT."
   ]
  },
  {
   "cell_type": "code",
   "execution_count": null,
   "metadata": {
    "scrolled": true
   },
   "outputs": [],
   "source": [
    "sns.jointplot(x='act19_part',y='act19_comp',data=state_cleaned,kind='reg');"
   ]
  },
  {
   "cell_type": "code",
   "execution_count": null,
   "metadata": {},
   "outputs": [],
   "source": [
    "sns.jointplot(x='sat19_part',y='sat19_total',data=state_cleaned,kind='reg');"
   ]
  },
  {
   "cell_type": "markdown",
   "metadata": {},
   "source": [
    "### Heatmap of correlation of SAT and ACT participation and performance in California state only against various economic factors"
   ]
  },
  {
   "cell_type": "code",
   "execution_count": null,
   "metadata": {},
   "outputs": [],
   "source": [
    "state_cleaned.sort_values('unemployrate',ascending=False).head(11)"
   ]
  },
  {
   "cell_type": "code",
   "execution_count": null,
   "metadata": {
    "scrolled": true
   },
   "outputs": [],
   "source": [
    "f,ax = plt.subplots(figsize=(16,6))\n",
    "sns.heatmap(ca_cleaned.corr(),cmap='viridis',annot=True)\n",
    "plt.title('Correlation of various factors');"
   ]
  },
  {
   "cell_type": "markdown",
   "metadata": {},
   "source": [
    "#### Interpretation: The heatmap above shows the pairwise correlation of the various factors. A higher positive number indicates a higher correlation. For e.g.  between SAT participation and household income, we can see that these two factors are highly positively correlated with a value of 0.68. This means it is likely that a higher household income indicates a higher SAT participation rate."
   ]
  },
  {
   "cell_type": "markdown",
   "metadata": {},
   "source": [
    "### A map of the counties in California grouped by caucus"
   ]
  },
  {
   "cell_type": "code",
   "execution_count": null,
   "metadata": {},
   "outputs": [],
   "source": [
    "Image('../data/California_county_caucus.png')"
   ]
  },
  {
   "cell_type": "markdown",
   "metadata": {},
   "source": [
    "### Do urban counties have bigger population?"
   ]
  },
  {
   "cell_type": "code",
   "execution_count": null,
   "metadata": {},
   "outputs": [],
   "source": [
    "ca_cleaned[['county','caucus','pop']].sort_values('pop',ascending=False).head(5)"
   ]
  },
  {
   "cell_type": "markdown",
   "metadata": {},
   "source": [
    "### Scatter of Unemployment vs ACT and SAT test participation"
   ]
  },
  {
   "cell_type": "code",
   "execution_count": null,
   "metadata": {},
   "outputs": [],
   "source": [
    "#set hue order based on above colors\n",
    "hue_order = ['Urban','Suburban','Rural']\n",
    "\n",
    "#plot scatter plot of ACT and SAT participation, based on above hue\n",
    "p = sns.jointplot(x='unemployrate', y='act_part', data=ca_cleaned, kind='scatter',\\\n",
    "                  hue='caucus', palette=[\"orange\", \"red\", \"blue\"], hue_order=hue_order)\n",
    "\n",
    "#set title, xlabel and ylabel\n",
    "plt.suptitle('Unemployment rate v ACT participation rate')\n",
    "plt.tight_layout()\n",
    "p.ax_joint.set_xlabel('Unemployment Rate (%)')\n",
    "p.ax_joint.set_ylabel('ACT Participation Rate (%)');"
   ]
  },
  {
   "cell_type": "code",
   "execution_count": null,
   "metadata": {},
   "outputs": [],
   "source": [
    "#set hue order based on above colors\n",
    "hue_order = ['Urban','Suburban','Rural']\n",
    "\n",
    "#plot scatter plot of ACT and SAT participation, based on above hue\n",
    "p = sns.jointplot(x='unemployrate', y='sat_part', data=ca_cleaned, kind='scatter',\\\n",
    "                  hue='caucus', palette=[\"orange\", \"red\", \"blue\"], hue_order=hue_order)\n",
    "\n",
    "#set title, xlabel and ylabel\n",
    "plt.suptitle('Unemployment rate v SAT participation rate')\n",
    "plt.tight_layout()\n",
    "p.ax_joint.set_xlabel('Unemployment Rate (%)')\n",
    "p.ax_joint.set_ylabel('SAT Participation Rate (%)');"
   ]
  },
  {
   "cell_type": "code",
   "execution_count": null,
   "metadata": {},
   "outputs": [],
   "source": []
  },
  {
   "cell_type": "code",
   "execution_count": null,
   "metadata": {},
   "outputs": [],
   "source": []
  },
  {
   "cell_type": "code",
   "execution_count": null,
   "metadata": {},
   "outputs": [],
   "source": []
  },
  {
   "cell_type": "markdown",
   "metadata": {},
   "source": [
    "### Do the urban areas have higher ACT and SAT partcipation?"
   ]
  },
  {
   "cell_type": "code",
   "execution_count": null,
   "metadata": {},
   "outputs": [],
   "source": [
    "ca_cleaned.iloc[[24,51,20]]"
   ]
  },
  {
   "cell_type": "code",
   "execution_count": null,
   "metadata": {},
   "outputs": [],
   "source": [
    "#set hue order based on above colors\n",
    "hue_order = ['Urban','Suburban','Rural']\n",
    "\n",
    "#plot scatter plot of ACT and SAT participation, based on above hue\n",
    "p = sns.jointplot(x='act_part', y='sat_part', data=ca_cleaned, kind='scatter',\\\n",
    "                  hue='caucus', palette=[\"orange\", \"red\", \"blue\"], hue_order=hue_order)\n",
    "\n",
    "#set title, xlabel and ylabel\n",
    "plt.suptitle('ACT v SAT participation rate')\n",
    "plt.tight_layout()\n",
    "p.ax_joint.set_xlabel('ACT Participation Rate (%)')\n",
    "p.ax_joint.set_ylabel('SAT Participation Rate (%)');"
   ]
  },
  {
   "cell_type": "code",
   "execution_count": null,
   "metadata": {},
   "outputs": [],
   "source": [
    "#set hue order based on above colors\n",
    "hue_order = ['Urban','Suburban','Rural']\n",
    "\n",
    "#ACT participation rates\n",
    "f, ax = plt.subplots(figsize=(16,6))\n",
    "act_part = sns.barplot(x='county', y='act_part',\\\n",
    "                       data=ca_cleaned,\\\n",
    "                       hue='caucus', hue_order=hue_order, palette=[\"orange\", \"red\", \"blue\"],\\\n",
    "                       order=ca_cleaned.sort_values('act_part')['county'], dodge=False)\n",
    "act_part.set_xticklabels(ca_cleaned['county'],rotation=90);\n",
    "\n",
    "#set title, xlabel and ylabel\n",
    "plt.title('ACT participation rates in California counties')\n",
    "plt.xlabel('County')\n",
    "plt.ylabel('ACT Participation rates (%)');"
   ]
  },
  {
   "cell_type": "code",
   "execution_count": null,
   "metadata": {},
   "outputs": [],
   "source": [
    "#set hue order based on above colors\n",
    "hue_order = ['Urban','Suburban','Rural']\n",
    "\n",
    "#ACT participation rates\n",
    "f, ax = plt.subplots(figsize=(16,6))\n",
    "act_part = sns.barplot(x='county', y='sat_part',\\\n",
    "                       data=ca_cleaned.sort_values('sat_part',ascending=False),\\\n",
    "                       hue='caucus', hue_order=hue_order, palette=[\"orange\", \"red\", \"blue\"], dodge=False)\n",
    "act_part.set_xticklabels(act_part.get_xticklabels(),rotation=90);\n",
    "\n",
    "#set title, xlabel and ylabel\n",
    "plt.title('SAT participation rates in California counties')\n",
    "plt.xlabel('County')\n",
    "plt.ylabel('SAT Participation rates (%)');"
   ]
  },
  {
   "cell_type": "markdown",
   "metadata": {},
   "source": [
    "#### Yes, looking at the distribution plots based on the categorisation of the different counties, urban areas have the highest participation in both SAT and ACT exams, followed by suburban areas then rural areas."
   ]
  },
  {
   "cell_type": "markdown",
   "metadata": {},
   "source": [
    "### Unemployment rate is positively correlated with the poverty rate in a county. (3 different charts showing same thing, see which one you all wna use!)"
   ]
  },
  {
   "cell_type": "code",
   "execution_count": null,
   "metadata": {},
   "outputs": [],
   "source": [
    "#set hue order based on above colors\n",
    "hue_order = ['Urban','Suburban','Rural']\n",
    "\n",
    "#ACT participation rates\n",
    "f, ax = plt.subplots(figsize=(16,6))\n",
    "unemploy = sns.barplot(x='county', y='unemployrate',\\\n",
    "                       data=ca_cleaned,\\\n",
    "                       hue='caucus', hue_order=hue_order, palette=[\"orange\", \"red\", \"blue\"],\\\n",
    "                       order=ca_cleaned.sort_values('unemployrate')['county'])\n",
    "unemploy.set_xticklabels(unemploy.get_xticklabels(),rotation=90);\n",
    "\n",
    "#set title, xlabel and ylabel\n",
    "plt.title('Unemployment rates in California counties')\n",
    "plt.xlabel('County')\n",
    "plt.ylabel('Unemployment rates (%)');"
   ]
  },
  {
   "cell_type": "code",
   "execution_count": null,
   "metadata": {
    "scrolled": true
   },
   "outputs": [],
   "source": [
    "#set hue order based on above colors\n",
    "hue_order = ['Urban','Suburban','Rural']\n",
    "\n",
    "#ACT participation rates\n",
    "f, ax = plt.subplots(figsize=(16,6))\n",
    "unemploy = sns.barplot(x='county', y='pov_all_pct',\\\n",
    "                       data=ca_cleaned,\\\n",
    "                       hue='caucus', hue_order=hue_order, palette=[\"orange\", \"red\", \"blue\"],\\\n",
    "                       order=ca_cleaned.sort_values('pov_all_pct')['county'])\n",
    "unemploy.set_xticklabels(unemploy.get_xticklabels(),rotation=90);\n",
    "\n",
    "#set title, xlabel and ylabel\n",
    "plt.title('Poverty levels in California counties')\n",
    "plt.xlabel('County')\n",
    "plt.ylabel('Poverty levels (%)');"
   ]
  },
  {
   "cell_type": "code",
   "execution_count": null,
   "metadata": {},
   "outputs": [],
   "source": [
    "ca_cleaned[['county','unemployrate','pov_all_pct','caucus']]\\\n",
    "[(ca_cleaned['unemployrate']>5)&(ca_cleaned['pov_all_pct']>20)].\\\n",
    "sort_values(['unemployrate','pov_all_pct'],ascending=False)"
   ]
  },
  {
   "cell_type": "markdown",
   "metadata": {},
   "source": [
    "### Chart 1"
   ]
  },
  {
   "cell_type": "code",
   "execution_count": null,
   "metadata": {},
   "outputs": [],
   "source": [
    "#set hue order based on above colors\n",
    "hue_order = ['Urban','Suburban','Rural']\n",
    "\n",
    "#plot scatter plot of unemployment rate and poverty\n",
    "p = sns.jointplot(x='unemployrate', y='pov_all_pct', data=ca_cleaned, kind='scatter',\\\n",
    "              hue='caucus', palette=[\"orange\", \"red\", \"blue\"], hue_order=hue_order,\\\n",
    "             xlim=(0,20), ylim=(0,30));\n",
    "\n",
    "#set title, xlabel and ylabel\n",
    "plt.suptitle('Unemployment rate (%) vs Poverty level (%)')\n",
    "plt.tight_layout()\n",
    "p.ax_joint.set_xlabel('Unemployment Rate (%)')\n",
    "p.ax_joint.set_ylabel('Poverty Level All Ages (%)');"
   ]
  },
  {
   "cell_type": "markdown",
   "metadata": {},
   "source": [
    "### Chart 2"
   ]
  },
  {
   "cell_type": "code",
   "execution_count": null,
   "metadata": {},
   "outputs": [],
   "source": [
    "#set hue order based on above colors\n",
    "hue_order = ['Urban','Suburban','Rural']\n",
    "g = sns.lmplot(data=ca_cleaned, x=\"unemployrate\", y=\"act_part\", hue=\"caucus\", height=7,\n",
    "               palette=[\"orange\", \"red\", \"blue\"], hue_order=hue_order)\n",
    "# Provide the title, x axis and y axis\n",
    "plt.suptitle(\"Multiple regressions of ACT Participation (%) vs Unemployment Rate (%)\")\n",
    "plt.tight_layout()\n",
    "g.set_axis_labels(\"Unemployment Rate (%)\", \"ACT Participation (%)\");"
   ]
  },
  {
   "cell_type": "code",
   "execution_count": null,
   "metadata": {},
   "outputs": [],
   "source": [
    "#set hue order based on above colors\n",
    "hue_order = ['Urban','Suburban','Rural']\n",
    "\n",
    "# Plot sepal width as a function of sepal_length across days\n",
    "g = sns.lmplot(data=ca_cleaned, x=\"unemployrate\", y=\"pov_all_pct\", hue=\"caucus\", height=7,\\\n",
    "               palette=[\"orange\", \"red\", \"blue\"], hue_order=hue_order)\n",
    "\n",
    "# Use more informative axis labels than are provided by default\n",
    "plt.suptitle(\"Multiple regressions of Unemployment rate vs poverty level\")\n",
    "plt.tight_layout()\n",
    "g.set_axis_labels(\"Unemployment rate (%)\", \"Poverty level (%)\");"
   ]
  },
  {
   "cell_type": "markdown",
   "metadata": {},
   "source": [
    "### Chart 3"
   ]
  },
  {
   "cell_type": "code",
   "execution_count": null,
   "metadata": {},
   "outputs": [],
   "source": [
    "#plot regression line of unemployment rate and poverty\n",
    "p = sns.jointplot(x='unemployrate',y='pov_all_pct',data=ca_cleaned,kind='reg')\n",
    "\n",
    "#set title, xlabel and ylabel\n",
    "plt.suptitle('Unemployment rate (%) vs Poverty level (%)')\n",
    "plt.tight_layout()\n",
    "p.ax_joint.set_xlabel('Unemployment Rate (%)')\n",
    "p.ax_joint.set_ylabel('Poverty Level All Ages (%)');"
   ]
  },
  {
   "cell_type": "markdown",
   "metadata": {},
   "source": [
    "### Suburban and urban areas have lower level of unemployment, compared to rural areas"
   ]
  },
  {
   "cell_type": "code",
   "execution_count": null,
   "metadata": {
    "scrolled": false
   },
   "outputs": [],
   "source": [
    "#set hue order based on above colors\n",
    "hue_order = ['Urban','Suburban','Rural']\n",
    "\n",
    "#Unemployment rates, sorted by county with highest rates\n",
    "f, ax = plt.subplots(figsize=(18,6))\n",
    "unemployrate_county = sns.barplot(x='county', y='unemployrate',\\\n",
    "                                  data=ca_cleaned.sort_values('unemployrate',ascending=False),\\\n",
    "                                  hue='caucus', hue_order=hue_order, palette=[\"orange\", \"red\", \"blue\"])\n",
    "unemployrate_county.set_xticklabels(ca_cleaned['county'],rotation=90);\n",
    "\n",
    "\n",
    "#set title, xlabel and ylabel\n",
    "plt.title('Unemployment rate in California counties')\n",
    "plt.xlabel('County')\n",
    "plt.ylabel('Unemployment Rate (%)');"
   ]
  },
  {
   "cell_type": "markdown",
   "metadata": {},
   "source": [
    "### Smaller unemployment rate does not really correlate with higher participation rates."
   ]
  },
  {
   "cell_type": "code",
   "execution_count": null,
   "metadata": {
    "scrolled": true
   },
   "outputs": [],
   "source": [
    "ca_cleaned.iplot(kind='bubble', x='act_part', y='sat_part',\\\n",
    "                 size='unemployrate', colors='lightblue',\\\n",
    "                 xTitle='ACT participation rate (%)', yTitle='SAT participation rate (%)',\\\n",
    "                 title='SAT and ACT participation rates based on size of unemployment rates'\n",
    "                 )"
   ]
  },
  {
   "cell_type": "code",
   "execution_count": null,
   "metadata": {},
   "outputs": [],
   "source": [
    "#plot regression line of unemployment rate and SAT participation\n",
    "p = sns.jointplot(x='unemployrate',y='act_part',data=ca_cleaned,kind='reg')\n",
    "\n",
    "#set title, xlabel and ylabel\n",
    "plt.suptitle('Unemployment rate (%) vs ACT participation (%)')\n",
    "plt.tight_layout()\n",
    "p.ax_joint.set_xlabel('Unemployment Rate (%)')\n",
    "p.ax_joint.set_ylabel('ACT participation (%)');"
   ]
  },
  {
   "cell_type": "code",
   "execution_count": null,
   "metadata": {
    "scrolled": false
   },
   "outputs": [],
   "source": [
    "#plot regression line of unemployment rate and SAT participation\n",
    "p = sns.jointplot(x='unemployrate',y='sat_part',data=ca_cleaned,kind='reg')\n",
    "\n",
    "#set title, xlabel and ylabel\n",
    "plt.suptitle('Unemployment rate (%) vs SAT participation (%)')\n",
    "plt.tight_layout()\n",
    "p.ax_joint.set_xlabel('Unemployment Rate (%)')\n",
    "p.ax_joint.set_ylabel('SAT participation (%)');"
   ]
  },
  {
   "cell_type": "code",
   "execution_count": null,
   "metadata": {},
   "outputs": [],
   "source": [
    "#set hue order based on the following color: Urban - Orange, Suburban - Red, Rural - Blue\n",
    "hue_order = ['Urban','Suburban','Rural']\n",
    "\n",
    "#create plot\n",
    "f, ax = plt.subplots(figsize=(16,6))\n",
    "act_sorted = sns.barplot(x='county', y='household', data=ca_cleaned.dropna().sort_values('household',ascending=False),\\\n",
    "             hue='caucus', hue_order=hue_order, palette=[\"orange\", \"red\", \"blue\"], dodge=False)\n",
    "\n",
    "#set x axis tick labels\n",
    "ax.set_xticklabels(act_sorted.get_xticklabels(),rotation=90);\n",
    "\n",
    "#set title, xlabel and ylabel\n",
    "ax.set_title('Household income in California counties', fontsize=15)\n",
    "ax.set_xlabel('County', fontsize=15)\n",
    "ax.set_ylabel('Household', fontsize=15)\n",
    "\n",
    "#plot horizontal mean lines\n",
    "ax.axhline(y=ca_cleaned['household'].mean(), color='black')\n",
    "plt.tight_layout();"
   ]
  },
  {
   "cell_type": "markdown",
   "metadata": {},
   "source": [
    "## Test visualisation"
   ]
  },
  {
   "cell_type": "markdown",
   "metadata": {},
   "source": [
    "## Conclusions and Recommendations"
   ]
  },
  {
   "cell_type": "markdown",
   "metadata": {},
   "source": [
    "Based on your exploration of the data, what are you key takeaways and recommendations? Make sure to answer your question of interest or address your problem statement here."
   ]
  },
  {
   "cell_type": "markdown",
   "metadata": {},
   "source": [
    "**To-Do:** *Edit this cell with your conclusions and recommendations.*"
   ]
  },
  {
   "cell_type": "code",
   "execution_count": null,
   "metadata": {},
   "outputs": [],
   "source": []
  },
  {
   "cell_type": "markdown",
   "metadata": {},
   "source": [
    "Don't forget to create your README!\n",
    "\n",
    "**To-Do:** *If you combine your problem statement, data dictionary, brief summary of your analysis, and conclusions/recommendations, you have an amazing README.md file that quickly aligns your audience to the contents of your project.* Don't forget to cite your data sources!"
   ]
  }
 ],
 "metadata": {
  "anaconda-cloud": {},
  "kernelspec": {
   "display_name": "Python 3 (ipykernel)",
   "language": "python",
   "name": "python3"
  },
  "language_info": {
   "codemirror_mode": {
    "name": "ipython",
    "version": 3
   },
   "file_extension": ".py",
   "mimetype": "text/x-python",
   "name": "python",
   "nbconvert_exporter": "python",
   "pygments_lexer": "ipython3",
   "version": "3.9.7"
  }
 },
 "nbformat": 4,
 "nbformat_minor": 4
}
