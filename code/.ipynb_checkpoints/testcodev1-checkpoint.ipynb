{
 "cells": [
  {
   "cell_type": "markdown",
   "metadata": {},
   "source": [
    "<img src=\"http://imgur.com/1ZcRyrc.png\" style=\"float: left; margin: 20px; height: 55px\">\n",
    "\n",
    "# Project 1: Standardized Test Analysis"
   ]
  },
  {
   "cell_type": "markdown",
   "metadata": {},
   "source": [
    "--- \n",
    "# Part 1\n",
    "\n",
    "Part 1 requires knowledge of basic Python.\n",
    "\n",
    "---"
   ]
  },
  {
   "cell_type": "markdown",
   "metadata": {},
   "source": [
    "## Problem Statement"
   ]
  },
  {
   "cell_type": "markdown",
   "metadata": {},
   "source": [
    "Decide on your problem statement that will guide your analysis for this project. For guidelines, sample prompts, or inspiration, check out the README.\n",
    "\n",
    "**To-Do:** *Replace this cell with your problem statement.*"
   ]
  },
  {
   "cell_type": "markdown",
   "metadata": {},
   "source": [
    "### Contents:\n",
    "- [Background](#Background)\n",
    "- [Data Import & Cleaning](#Data-Import-and-Cleaning)\n",
    "- [Exploratory Data Analysis](#Exploratory-Data-Analysis)\n",
    "- [Data Visualization](#Visualize-the-Data)\n",
    "- [Conclusions and Recommendations](#Conclusions-and-Recommendations)"
   ]
  },
  {
   "cell_type": "markdown",
   "metadata": {},
   "source": [
    "## Background"
   ]
  },
  {
   "cell_type": "markdown",
   "metadata": {},
   "source": [
    "The SAT and ACT are standardized tests that many colleges and universities in the United States require for their admissions process. This score is used along with other materials such as grade point average (GPA) and essay responses to determine whether or not a potential student will be accepted to the university.\n",
    "\n",
    "The SAT has two sections of the test: Evidence-Based Reading and Writing and Math ([*source*](https://www.princetonreview.com/college/sat-sections)). The ACT has 4 sections: English, Mathematics, Reading, and Science, with an additional optional writing section ([*source*](https://www.act.org/content/act/en/products-and-services/the-act/scores/understanding-your-scores.html)). They have different score ranges, which you can read more about on their websites or additional outside sources (a quick Google search will help you understand the scores for each test):\n",
    "* [SAT](https://collegereadiness.collegeboard.org/sat)\n",
    "* [ACT](https://www.act.org/content/act/en.html)\n",
    "\n",
    "Standardized tests have long been a controversial topic for students, administrators, and legislators. Since the 1940's, an increasing number of colleges have been using scores from sudents' performances on tests like the SAT and the ACT as a measure for college readiness and aptitude ([*source*](https://www.minotdailynews.com/news/local-news/2017/04/a-brief-history-of-the-sat-and-act/)). Supporters of these tests argue that these scores can be used as an objective measure to determine college admittance. Opponents of these tests claim that these tests are not accurate measures of students potential or ability and serve as an inequitable barrier to entry. Lately, more and more schools are opting to drop the SAT/ACT requirement for their Fall 2021 applications ([*read more about this here*](https://www.cnn.com/2020/04/14/us/coronavirus-colleges-sat-act-test-trnd/index.html))."
   ]
  },
  {
   "cell_type": "markdown",
   "metadata": {},
   "source": [
    "**To-Do:** *Fill out this cell (or edit the above cell) with any other background or information that is necessary for your problem statement.*"
   ]
  },
  {
   "cell_type": "markdown",
   "metadata": {},
   "source": [
    "### Choose your Data\n",
    "\n",
    "There are 10 datasets included in the [`data`](./data/) folder for this project. You are required to pick **at least two** of these to complete your analysis. Feel free to use more than two if you would like, or add other relevant datasets you find online.\n",
    "\n",
    "* [`act_2017.csv`](./data/act_2017.csv): 2017 ACT Scores by State\n",
    "* [`act_2018.csv`](./data/act_2018.csv): 2018 ACT Scores by State\n",
    "* [`act_2019.csv`](./data/act_2019.csv): 2019 ACT Scores by State\n",
    "* [`act_2019_ca.csv`](./data/act_2019_ca.csv): 2019 ACT Scores in California by School\n",
    "* [`sat_2017.csv`](./data/sat_2017.csv): 2017 SAT Scores by State\n",
    "* [`sat_2018.csv`](./data/sat_2018.csv): 2018 SAT Scores by State\n",
    "* [`sat_2019.csv`](./data/sat_2019.csv): 2019 SAT Scores by State\n",
    "* [`sat_2019_by_intended_college_major.csv`](./data/sat_2019_by_intended_college_major.csv): 2019 SAT Scores by Intended College Major\n",
    "* [`sat_2019_ca.csv`](./data/sat_2019_ca.csv): 2019 SAT Scores in California by School\n",
    "* [`sat_act_by_college.csv`](./data/sat_act_by_college.csv): Ranges of Accepted ACT & SAT Student Scores by Colleges"
   ]
  },
  {
   "cell_type": "markdown",
   "metadata": {},
   "source": [
    "**To-Do:** *Fill out this cell with the datasets you will use for your analysis. Write a brief description of the contents for each dataset that you choose.*"
   ]
  },
  {
   "cell_type": "markdown",
   "metadata": {},
   "source": [
    "### Outside Research"
   ]
  },
  {
   "cell_type": "markdown",
   "metadata": {},
   "source": [
    "Based on your problem statement and your chosen datasets, spend some time doing outside research on state policies or additional information that might be relevant. Summarize your findings below. If you bring in any outside tables or charts, make sure you are explicit about having borrowed them. If you quote any text, make sure that it renders as being quoted. **Make sure that you cite your sources.**"
   ]
  },
  {
   "cell_type": "markdown",
   "metadata": {},
   "source": [
    "**To-Do:** *Fill out this cell with outside research or any additional background information that will support your analysis.*"
   ]
  },
  {
   "cell_type": "markdown",
   "metadata": {},
   "source": [
    "### Coding Challenges\n",
    "\n",
    "1. Manually calculate mean:\n",
    "\n",
    "    Write a function that takes in values and returns the mean of the values. Create a list of numbers that you test on your function to check to make sure your function works!\n",
    "    \n",
    "    *Note*: Do not use any mean methods built-in to any Python libraries to do this! This should be done without importing any additional libraries."
   ]
  },
  {
   "cell_type": "code",
   "execution_count": 1,
   "metadata": {},
   "outputs": [],
   "source": [
    "# Code:\n",
    "def manual_mean(listofnum):\n",
    "    totalsum = 0\n",
    "    for num in listofnum:\n",
    "        totalsum += num\n",
    "    return totalsum/len(listofnum)"
   ]
  },
  {
   "cell_type": "markdown",
   "metadata": {},
   "source": [
    "2. Manually calculate standard deviation:\n",
    "\n",
    "    The formula for standard deviation is below:\n",
    "\n",
    "    $$\\sigma = \\sqrt{\\frac{1}{n}\\sum_{i=1}^n(x_i - \\mu)^2}$$\n",
    "\n",
    "    Where $x_i$ represents each value in the dataset, $\\mu$ represents the mean of all values in the dataset and $n$ represents the number of values in the dataset.\n",
    "\n",
    "    Write a function that takes in values and returns the standard deviation of the values using the formula above. Hint: use the function you wrote above to calculate the mean! Use the list of numbers you created above to test on your function.\n",
    "    \n",
    "    *Note*: Do not use any standard deviation methods built-in to any Python libraries to do this! This should be done without importing any additional libraries."
   ]
  },
  {
   "cell_type": "code",
   "execution_count": 2,
   "metadata": {},
   "outputs": [],
   "source": [
    "# Code:\n",
    "def manual_std(listofnum):\n",
    "    mean = manual_mean(listofnum)\n",
    "    totalsum = 0\n",
    "    for num in listofnum:\n",
    "        totalsum += (num - mean)**2\n",
    "    return (totalsum/len(listofnum))**0.5"
   ]
  },
  {
   "cell_type": "code",
   "execution_count": 3,
   "metadata": {},
   "outputs": [
    {
     "data": {
      "text/plain": [
       "1.4142135623730951"
      ]
     },
     "execution_count": 3,
     "metadata": {},
     "output_type": "execute_result"
    }
   ],
   "source": [
    "manual_std([1,2,3,4,5])"
   ]
  },
  {
   "cell_type": "markdown",
   "metadata": {},
   "source": [
    "3. Data cleaning function:\n",
    "    \n",
    "    Write a function that takes in a string that is a number and a percent symbol (ex. '50%', '30.5%', etc.) and converts this to a float that is the decimal approximation of the percent. For example, inputting '50%' in your function should return 0.5, '30.5%' should return 0.305, etc. Make sure to test your function to make sure it works!\n",
    "\n",
    "You will use these functions later on in the project!"
   ]
  },
  {
   "cell_type": "code",
   "execution_count": 4,
   "metadata": {},
   "outputs": [],
   "source": [
    "# Code:\n",
    "def clean_pct(string):\n",
    "    try:\n",
    "        return float(string.strip('%'))/100\n",
    "    except:\n",
    "        pass"
   ]
  },
  {
   "cell_type": "code",
   "execution_count": 5,
   "metadata": {},
   "outputs": [
    {
     "data": {
      "text/plain": [
       "0.44"
      ]
     },
     "execution_count": 5,
     "metadata": {},
     "output_type": "execute_result"
    }
   ],
   "source": [
    "clean_pct('44%')"
   ]
  },
  {
   "cell_type": "markdown",
   "metadata": {},
   "source": [
    "--- \n",
    "# Part 2\n",
    "\n",
    "Part 2 requires knowledge of Pandas, EDA, data cleaning, and data visualization.\n",
    "\n",
    "---"
   ]
  },
  {
   "cell_type": "markdown",
   "metadata": {},
   "source": [
    "*All libraries used should be added here*"
   ]
  },
  {
   "cell_type": "code",
   "execution_count": 6,
   "metadata": {},
   "outputs": [],
   "source": [
    "# Imports:\n",
    "import numpy as np\n",
    "import pandas as pd\n",
    "import matplotlib.pyplot as plt\n",
    "import seaborn as sns\n",
    "%matplotlib inline"
   ]
  },
  {
   "cell_type": "markdown",
   "metadata": {},
   "source": [
    "## Data Import and Cleaning"
   ]
  },
  {
   "cell_type": "markdown",
   "metadata": {},
   "source": [
    "### Data Import & Cleaning\n",
    "\n",
    "Import the datasets that you selected for this project and go through the following steps at a minimum. You are welcome to do further cleaning as you feel necessary:\n",
    "1. Display the data: print the first 5 rows of each dataframe to your Jupyter notebook.\n",
    "2. Check for missing values.\n",
    "3. Check for any obvious issues with the observations (keep in mind the minimum & maximum possible values for each test/subtest).\n",
    "4. Fix any errors you identified in steps 2-3.\n",
    "5. Display the data types of each feature.\n",
    "6. Fix any incorrect data types found in step 5.\n",
    "    - Fix any individual values preventing other columns from being the appropriate type.\n",
    "    - If your dataset has a column of percents (ex. '50%', '30.5%', etc.), use the function you wrote in Part 1 (coding challenges, number 3) to convert this to floats! *Hint*: use `.map()` or `.apply()`.\n",
    "7. Rename Columns.\n",
    "    - Column names should be all lowercase.\n",
    "    - Column names should not contain spaces (underscores will suffice--this allows for using the `df.column_name` method to access columns in addition to `df['column_name']`).\n",
    "    - Column names should be unique and informative.\n",
    "8. Drop unnecessary rows (if needed).\n",
    "9. Merge dataframes that can be merged.\n",
    "10. Perform any additional cleaning that you feel is necessary.\n",
    "11. Save your cleaned and merged dataframes as csv files."
   ]
  },
  {
   "cell_type": "markdown",
   "metadata": {},
   "source": [
    "## Step 1. Import and display datasets"
   ]
  },
  {
   "cell_type": "code",
   "execution_count": 7,
   "metadata": {},
   "outputs": [],
   "source": [
    "act19 = pd.read_csv(\"../data/act_2019.csv\")\n",
    "sat19 = pd.read_csv(\"../data/sat_2019.csv\")\n",
    "act19ca = pd.read_csv(\"../data/act_2019_ca.csv\")\n",
    "sat19ca = pd.read_csv(\"../data/sat_2019_ca.csv\")\n",
    "gdpcounty = pd.read_csv(\"../data/gdp_county_2017to2019.csv\")\n",
    "countystats = pd.read_csv(\"../data/countystats.csv\", thousands=\",\")"
   ]
  },
  {
   "cell_type": "markdown",
   "metadata": {},
   "source": [
    "### Display ACT19"
   ]
  },
  {
   "cell_type": "code",
   "execution_count": 8,
   "metadata": {
    "scrolled": true
   },
   "outputs": [
    {
     "data": {
      "text/html": [
       "<div>\n",
       "<style scoped>\n",
       "    .dataframe tbody tr th:only-of-type {\n",
       "        vertical-align: middle;\n",
       "    }\n",
       "\n",
       "    .dataframe tbody tr th {\n",
       "        vertical-align: top;\n",
       "    }\n",
       "\n",
       "    .dataframe thead th {\n",
       "        text-align: right;\n",
       "    }\n",
       "</style>\n",
       "<table border=\"1\" class=\"dataframe\">\n",
       "  <thead>\n",
       "    <tr style=\"text-align: right;\">\n",
       "      <th></th>\n",
       "      <th>State</th>\n",
       "      <th>Participation</th>\n",
       "      <th>Composite</th>\n",
       "    </tr>\n",
       "  </thead>\n",
       "  <tbody>\n",
       "    <tr>\n",
       "      <th>0</th>\n",
       "      <td>Alabama</td>\n",
       "      <td>100%</td>\n",
       "      <td>18.9</td>\n",
       "    </tr>\n",
       "    <tr>\n",
       "      <th>1</th>\n",
       "      <td>Alaska</td>\n",
       "      <td>38%</td>\n",
       "      <td>20.1</td>\n",
       "    </tr>\n",
       "    <tr>\n",
       "      <th>2</th>\n",
       "      <td>Arizona</td>\n",
       "      <td>73%</td>\n",
       "      <td>19.0</td>\n",
       "    </tr>\n",
       "    <tr>\n",
       "      <th>3</th>\n",
       "      <td>Arkansas</td>\n",
       "      <td>100%</td>\n",
       "      <td>19.3</td>\n",
       "    </tr>\n",
       "    <tr>\n",
       "      <th>4</th>\n",
       "      <td>California</td>\n",
       "      <td>23%</td>\n",
       "      <td>22.6</td>\n",
       "    </tr>\n",
       "  </tbody>\n",
       "</table>\n",
       "</div>"
      ],
      "text/plain": [
       "        State Participation  Composite\n",
       "0     Alabama          100%       18.9\n",
       "1      Alaska           38%       20.1\n",
       "2     Arizona           73%       19.0\n",
       "3    Arkansas          100%       19.3\n",
       "4  California           23%       22.6"
      ]
     },
     "execution_count": 8,
     "metadata": {},
     "output_type": "execute_result"
    }
   ],
   "source": [
    "act19.head()"
   ]
  },
  {
   "cell_type": "markdown",
   "metadata": {},
   "source": [
    "### Display SAT19"
   ]
  },
  {
   "cell_type": "code",
   "execution_count": 9,
   "metadata": {
    "scrolled": true
   },
   "outputs": [
    {
     "data": {
      "text/html": [
       "<div>\n",
       "<style scoped>\n",
       "    .dataframe tbody tr th:only-of-type {\n",
       "        vertical-align: middle;\n",
       "    }\n",
       "\n",
       "    .dataframe tbody tr th {\n",
       "        vertical-align: top;\n",
       "    }\n",
       "\n",
       "    .dataframe thead th {\n",
       "        text-align: right;\n",
       "    }\n",
       "</style>\n",
       "<table border=\"1\" class=\"dataframe\">\n",
       "  <thead>\n",
       "    <tr style=\"text-align: right;\">\n",
       "      <th></th>\n",
       "      <th>State</th>\n",
       "      <th>Participation Rate</th>\n",
       "      <th>EBRW</th>\n",
       "      <th>Math</th>\n",
       "      <th>Total</th>\n",
       "    </tr>\n",
       "  </thead>\n",
       "  <tbody>\n",
       "    <tr>\n",
       "      <th>0</th>\n",
       "      <td>Alabama</td>\n",
       "      <td>7%</td>\n",
       "      <td>583</td>\n",
       "      <td>560</td>\n",
       "      <td>1143</td>\n",
       "    </tr>\n",
       "    <tr>\n",
       "      <th>1</th>\n",
       "      <td>Alaska</td>\n",
       "      <td>41%</td>\n",
       "      <td>556</td>\n",
       "      <td>541</td>\n",
       "      <td>1097</td>\n",
       "    </tr>\n",
       "    <tr>\n",
       "      <th>2</th>\n",
       "      <td>Arizona</td>\n",
       "      <td>31%</td>\n",
       "      <td>569</td>\n",
       "      <td>565</td>\n",
       "      <td>1134</td>\n",
       "    </tr>\n",
       "    <tr>\n",
       "      <th>3</th>\n",
       "      <td>Arkansas</td>\n",
       "      <td>6%</td>\n",
       "      <td>582</td>\n",
       "      <td>559</td>\n",
       "      <td>1141</td>\n",
       "    </tr>\n",
       "    <tr>\n",
       "      <th>4</th>\n",
       "      <td>California</td>\n",
       "      <td>63%</td>\n",
       "      <td>534</td>\n",
       "      <td>531</td>\n",
       "      <td>1065</td>\n",
       "    </tr>\n",
       "  </tbody>\n",
       "</table>\n",
       "</div>"
      ],
      "text/plain": [
       "        State Participation Rate  EBRW  Math  Total\n",
       "0     Alabama                 7%   583   560   1143\n",
       "1      Alaska                41%   556   541   1097\n",
       "2     Arizona                31%   569   565   1134\n",
       "3    Arkansas                 6%   582   559   1141\n",
       "4  California                63%   534   531   1065"
      ]
     },
     "execution_count": 9,
     "metadata": {},
     "output_type": "execute_result"
    }
   ],
   "source": [
    "sat19.head()"
   ]
  },
  {
   "cell_type": "markdown",
   "metadata": {},
   "source": [
    "### Display ACT19 scores for California State"
   ]
  },
  {
   "cell_type": "code",
   "execution_count": 10,
   "metadata": {
    "scrolled": true
   },
   "outputs": [
    {
     "data": {
      "text/html": [
       "<div>\n",
       "<style scoped>\n",
       "    .dataframe tbody tr th:only-of-type {\n",
       "        vertical-align: middle;\n",
       "    }\n",
       "\n",
       "    .dataframe tbody tr th {\n",
       "        vertical-align: top;\n",
       "    }\n",
       "\n",
       "    .dataframe thead th {\n",
       "        text-align: right;\n",
       "    }\n",
       "</style>\n",
       "<table border=\"1\" class=\"dataframe\">\n",
       "  <thead>\n",
       "    <tr style=\"text-align: right;\">\n",
       "      <th></th>\n",
       "      <th>CDS</th>\n",
       "      <th>CCode</th>\n",
       "      <th>CDCode</th>\n",
       "      <th>SCode</th>\n",
       "      <th>RType</th>\n",
       "      <th>SName</th>\n",
       "      <th>DName</th>\n",
       "      <th>CName</th>\n",
       "      <th>Enroll12</th>\n",
       "      <th>NumTstTakr</th>\n",
       "      <th>AvgScrRead</th>\n",
       "      <th>AvgScrEng</th>\n",
       "      <th>AvgScrMath</th>\n",
       "      <th>AvgScrSci</th>\n",
       "      <th>NumGE21</th>\n",
       "      <th>PctGE21</th>\n",
       "      <th>Year</th>\n",
       "      <th>Unnamed: 17</th>\n",
       "    </tr>\n",
       "  </thead>\n",
       "  <tbody>\n",
       "    <tr>\n",
       "      <th>0</th>\n",
       "      <td>3.366993e+13</td>\n",
       "      <td>33.0</td>\n",
       "      <td>3366993.0</td>\n",
       "      <td>129882.0</td>\n",
       "      <td>S</td>\n",
       "      <td>21st Century Learning Institute</td>\n",
       "      <td>Beaumont Unified</td>\n",
       "      <td>Riverside</td>\n",
       "      <td>18.0</td>\n",
       "      <td>0.0</td>\n",
       "      <td>NaN</td>\n",
       "      <td>NaN</td>\n",
       "      <td>NaN</td>\n",
       "      <td>NaN</td>\n",
       "      <td>NaN</td>\n",
       "      <td>NaN</td>\n",
       "      <td>2018-19</td>\n",
       "      <td>NaN</td>\n",
       "    </tr>\n",
       "    <tr>\n",
       "      <th>1</th>\n",
       "      <td>1.964212e+13</td>\n",
       "      <td>19.0</td>\n",
       "      <td>1964212.0</td>\n",
       "      <td>1995596.0</td>\n",
       "      <td>S</td>\n",
       "      <td>ABC Secondary (Alternative)</td>\n",
       "      <td>ABC Unified</td>\n",
       "      <td>Los Angeles</td>\n",
       "      <td>58.0</td>\n",
       "      <td>0.0</td>\n",
       "      <td>NaN</td>\n",
       "      <td>NaN</td>\n",
       "      <td>NaN</td>\n",
       "      <td>NaN</td>\n",
       "      <td>NaN</td>\n",
       "      <td>NaN</td>\n",
       "      <td>2018-19</td>\n",
       "      <td>NaN</td>\n",
       "    </tr>\n",
       "    <tr>\n",
       "      <th>2</th>\n",
       "      <td>1.563776e+13</td>\n",
       "      <td>15.0</td>\n",
       "      <td>1563776.0</td>\n",
       "      <td>1530377.0</td>\n",
       "      <td>S</td>\n",
       "      <td>Abraham Lincoln Alternative</td>\n",
       "      <td>Southern Kern Unified</td>\n",
       "      <td>Kern</td>\n",
       "      <td>18.0</td>\n",
       "      <td>0.0</td>\n",
       "      <td>NaN</td>\n",
       "      <td>NaN</td>\n",
       "      <td>NaN</td>\n",
       "      <td>NaN</td>\n",
       "      <td>NaN</td>\n",
       "      <td>NaN</td>\n",
       "      <td>2018-19</td>\n",
       "      <td>NaN</td>\n",
       "    </tr>\n",
       "    <tr>\n",
       "      <th>3</th>\n",
       "      <td>4.369666e+13</td>\n",
       "      <td>43.0</td>\n",
       "      <td>4369666.0</td>\n",
       "      <td>4333795.0</td>\n",
       "      <td>S</td>\n",
       "      <td>Abraham Lincoln High</td>\n",
       "      <td>San Jose Unified</td>\n",
       "      <td>Santa Clara</td>\n",
       "      <td>463.0</td>\n",
       "      <td>53.0</td>\n",
       "      <td>23</td>\n",
       "      <td>22</td>\n",
       "      <td>22</td>\n",
       "      <td>23</td>\n",
       "      <td>34</td>\n",
       "      <td>64.15</td>\n",
       "      <td>2018-19</td>\n",
       "      <td>NaN</td>\n",
       "    </tr>\n",
       "    <tr>\n",
       "      <th>4</th>\n",
       "      <td>1.964733e+13</td>\n",
       "      <td>19.0</td>\n",
       "      <td>1964733.0</td>\n",
       "      <td>1935121.0</td>\n",
       "      <td>S</td>\n",
       "      <td>Abraham Lincoln Senior High</td>\n",
       "      <td>Los Angeles Unified</td>\n",
       "      <td>Los Angeles</td>\n",
       "      <td>226.0</td>\n",
       "      <td>19.0</td>\n",
       "      <td>21</td>\n",
       "      <td>20</td>\n",
       "      <td>23</td>\n",
       "      <td>22</td>\n",
       "      <td>11</td>\n",
       "      <td>57.89</td>\n",
       "      <td>2018-19</td>\n",
       "      <td>NaN</td>\n",
       "    </tr>\n",
       "  </tbody>\n",
       "</table>\n",
       "</div>"
      ],
      "text/plain": [
       "            CDS  CCode     CDCode      SCode RType  \\\n",
       "0  3.366993e+13   33.0  3366993.0   129882.0     S   \n",
       "1  1.964212e+13   19.0  1964212.0  1995596.0     S   \n",
       "2  1.563776e+13   15.0  1563776.0  1530377.0     S   \n",
       "3  4.369666e+13   43.0  4369666.0  4333795.0     S   \n",
       "4  1.964733e+13   19.0  1964733.0  1935121.0     S   \n",
       "\n",
       "                             SName                  DName        CName  \\\n",
       "0  21st Century Learning Institute       Beaumont Unified    Riverside   \n",
       "1      ABC Secondary (Alternative)            ABC Unified  Los Angeles   \n",
       "2      Abraham Lincoln Alternative  Southern Kern Unified         Kern   \n",
       "3             Abraham Lincoln High       San Jose Unified  Santa Clara   \n",
       "4      Abraham Lincoln Senior High    Los Angeles Unified  Los Angeles   \n",
       "\n",
       "   Enroll12  NumTstTakr AvgScrRead AvgScrEng AvgScrMath AvgScrSci NumGE21  \\\n",
       "0      18.0         0.0        NaN       NaN        NaN       NaN     NaN   \n",
       "1      58.0         0.0        NaN       NaN        NaN       NaN     NaN   \n",
       "2      18.0         0.0        NaN       NaN        NaN       NaN     NaN   \n",
       "3     463.0        53.0         23        22         22        23      34   \n",
       "4     226.0        19.0         21        20         23        22      11   \n",
       "\n",
       "  PctGE21     Year  Unnamed: 17  \n",
       "0     NaN  2018-19          NaN  \n",
       "1     NaN  2018-19          NaN  \n",
       "2     NaN  2018-19          NaN  \n",
       "3   64.15  2018-19          NaN  \n",
       "4   57.89  2018-19          NaN  "
      ]
     },
     "execution_count": 10,
     "metadata": {},
     "output_type": "execute_result"
    }
   ],
   "source": [
    "act19ca.head()"
   ]
  },
  {
   "cell_type": "markdown",
   "metadata": {},
   "source": [
    "### Display SAT19 scores for California State"
   ]
  },
  {
   "cell_type": "code",
   "execution_count": 11,
   "metadata": {
    "scrolled": false
   },
   "outputs": [
    {
     "data": {
      "text/html": [
       "<div>\n",
       "<style scoped>\n",
       "    .dataframe tbody tr th:only-of-type {\n",
       "        vertical-align: middle;\n",
       "    }\n",
       "\n",
       "    .dataframe tbody tr th {\n",
       "        vertical-align: top;\n",
       "    }\n",
       "\n",
       "    .dataframe thead th {\n",
       "        text-align: right;\n",
       "    }\n",
       "</style>\n",
       "<table border=\"1\" class=\"dataframe\">\n",
       "  <thead>\n",
       "    <tr style=\"text-align: right;\">\n",
       "      <th></th>\n",
       "      <th>CDS</th>\n",
       "      <th>CCode</th>\n",
       "      <th>CDCode</th>\n",
       "      <th>SCode</th>\n",
       "      <th>RType</th>\n",
       "      <th>SName</th>\n",
       "      <th>DName</th>\n",
       "      <th>CName</th>\n",
       "      <th>Enroll12</th>\n",
       "      <th>NumTSTTakr12</th>\n",
       "      <th>...</th>\n",
       "      <th>NumERWBenchmark11</th>\n",
       "      <th>PctERWBenchmark11</th>\n",
       "      <th>NumMathBenchmark11</th>\n",
       "      <th>PctMathBenchmark11</th>\n",
       "      <th>TotNumBothBenchmark12</th>\n",
       "      <th>PctBothBenchmark12</th>\n",
       "      <th>TotNumBothBenchmark11</th>\n",
       "      <th>PctBothBenchmark11</th>\n",
       "      <th>Year</th>\n",
       "      <th>Unnamed: 25</th>\n",
       "    </tr>\n",
       "  </thead>\n",
       "  <tbody>\n",
       "    <tr>\n",
       "      <th>0</th>\n",
       "      <td>6.615981e+12</td>\n",
       "      <td>6.0</td>\n",
       "      <td>661598.0</td>\n",
       "      <td>630046.0</td>\n",
       "      <td>S</td>\n",
       "      <td>Colusa Alternative Home</td>\n",
       "      <td>Colusa Unified</td>\n",
       "      <td>Colusa</td>\n",
       "      <td>18.0</td>\n",
       "      <td>0.0</td>\n",
       "      <td>...</td>\n",
       "      <td>NaN</td>\n",
       "      <td>NaN</td>\n",
       "      <td>NaN</td>\n",
       "      <td>NaN</td>\n",
       "      <td>NaN</td>\n",
       "      <td>NaN</td>\n",
       "      <td>NaN</td>\n",
       "      <td>NaN</td>\n",
       "      <td>2018-19</td>\n",
       "      <td>NaN</td>\n",
       "    </tr>\n",
       "    <tr>\n",
       "      <th>1</th>\n",
       "      <td>6.616061e+12</td>\n",
       "      <td>6.0</td>\n",
       "      <td>661606.0</td>\n",
       "      <td>634758.0</td>\n",
       "      <td>S</td>\n",
       "      <td>Maxwell Sr High</td>\n",
       "      <td>Maxwell Unified</td>\n",
       "      <td>Colusa</td>\n",
       "      <td>29.0</td>\n",
       "      <td>10.0</td>\n",
       "      <td>...</td>\n",
       "      <td>*</td>\n",
       "      <td>*</td>\n",
       "      <td>*</td>\n",
       "      <td>*</td>\n",
       "      <td>*</td>\n",
       "      <td>*</td>\n",
       "      <td>*</td>\n",
       "      <td>*</td>\n",
       "      <td>2018-19</td>\n",
       "      <td>NaN</td>\n",
       "    </tr>\n",
       "    <tr>\n",
       "      <th>2</th>\n",
       "      <td>1.964733e+13</td>\n",
       "      <td>19.0</td>\n",
       "      <td>1964733.0</td>\n",
       "      <td>1930924.0</td>\n",
       "      <td>S</td>\n",
       "      <td>Belmont Senior High</td>\n",
       "      <td>Los Angeles Unified</td>\n",
       "      <td>Los Angeles</td>\n",
       "      <td>206.0</td>\n",
       "      <td>102.0</td>\n",
       "      <td>...</td>\n",
       "      <td>42</td>\n",
       "      <td>24.14</td>\n",
       "      <td>12</td>\n",
       "      <td>6.90</td>\n",
       "      <td>14</td>\n",
       "      <td>13.73</td>\n",
       "      <td>11</td>\n",
       "      <td>6.32</td>\n",
       "      <td>2018-19</td>\n",
       "      <td>NaN</td>\n",
       "    </tr>\n",
       "    <tr>\n",
       "      <th>3</th>\n",
       "      <td>1.964733e+13</td>\n",
       "      <td>19.0</td>\n",
       "      <td>1964733.0</td>\n",
       "      <td>1931476.0</td>\n",
       "      <td>S</td>\n",
       "      <td>Canoga Park Senior High</td>\n",
       "      <td>Los Angeles Unified</td>\n",
       "      <td>Los Angeles</td>\n",
       "      <td>227.0</td>\n",
       "      <td>113.0</td>\n",
       "      <td>...</td>\n",
       "      <td>97</td>\n",
       "      <td>35.27</td>\n",
       "      <td>37</td>\n",
       "      <td>13.45</td>\n",
       "      <td>18</td>\n",
       "      <td>15.93</td>\n",
       "      <td>35</td>\n",
       "      <td>12.73</td>\n",
       "      <td>2018-19</td>\n",
       "      <td>NaN</td>\n",
       "    </tr>\n",
       "    <tr>\n",
       "      <th>4</th>\n",
       "      <td>1.964733e+13</td>\n",
       "      <td>19.0</td>\n",
       "      <td>1964733.0</td>\n",
       "      <td>1931856.0</td>\n",
       "      <td>S</td>\n",
       "      <td>Whitman Continuation</td>\n",
       "      <td>Los Angeles Unified</td>\n",
       "      <td>Los Angeles</td>\n",
       "      <td>18.0</td>\n",
       "      <td>14.0</td>\n",
       "      <td>...</td>\n",
       "      <td>*</td>\n",
       "      <td>*</td>\n",
       "      <td>*</td>\n",
       "      <td>*</td>\n",
       "      <td>*</td>\n",
       "      <td>*</td>\n",
       "      <td>*</td>\n",
       "      <td>*</td>\n",
       "      <td>2018-19</td>\n",
       "      <td>NaN</td>\n",
       "    </tr>\n",
       "  </tbody>\n",
       "</table>\n",
       "<p>5 rows × 26 columns</p>\n",
       "</div>"
      ],
      "text/plain": [
       "            CDS  CCode     CDCode      SCode RType                    SName  \\\n",
       "0  6.615981e+12    6.0   661598.0   630046.0     S  Colusa Alternative Home   \n",
       "1  6.616061e+12    6.0   661606.0   634758.0     S          Maxwell Sr High   \n",
       "2  1.964733e+13   19.0  1964733.0  1930924.0     S      Belmont Senior High   \n",
       "3  1.964733e+13   19.0  1964733.0  1931476.0     S  Canoga Park Senior High   \n",
       "4  1.964733e+13   19.0  1964733.0  1931856.0     S     Whitman Continuation   \n",
       "\n",
       "                 DName        CName  Enroll12  NumTSTTakr12  ...  \\\n",
       "0       Colusa Unified       Colusa      18.0           0.0  ...   \n",
       "1      Maxwell Unified       Colusa      29.0          10.0  ...   \n",
       "2  Los Angeles Unified  Los Angeles     206.0         102.0  ...   \n",
       "3  Los Angeles Unified  Los Angeles     227.0         113.0  ...   \n",
       "4  Los Angeles Unified  Los Angeles      18.0          14.0  ...   \n",
       "\n",
       "  NumERWBenchmark11 PctERWBenchmark11 NumMathBenchmark11 PctMathBenchmark11  \\\n",
       "0               NaN               NaN                NaN                NaN   \n",
       "1                 *                 *                  *                  *   \n",
       "2                42             24.14                 12               6.90   \n",
       "3                97             35.27                 37              13.45   \n",
       "4                 *                 *                  *                  *   \n",
       "\n",
       "   TotNumBothBenchmark12  PctBothBenchmark12 TotNumBothBenchmark11  \\\n",
       "0                    NaN                 NaN                   NaN   \n",
       "1                      *                   *                     *   \n",
       "2                     14               13.73                    11   \n",
       "3                     18               15.93                    35   \n",
       "4                      *                   *                     *   \n",
       "\n",
       "  PctBothBenchmark11     Year Unnamed: 25  \n",
       "0                NaN  2018-19         NaN  \n",
       "1                  *  2018-19         NaN  \n",
       "2               6.32  2018-19         NaN  \n",
       "3              12.73  2018-19         NaN  \n",
       "4                  *  2018-19         NaN  \n",
       "\n",
       "[5 rows x 26 columns]"
      ]
     },
     "execution_count": 11,
     "metadata": {},
     "output_type": "execute_result"
    }
   ],
   "source": [
    "sat19ca.head()"
   ]
  },
  {
   "cell_type": "markdown",
   "metadata": {},
   "source": [
    "### Display GDP Data by County"
   ]
  },
  {
   "cell_type": "code",
   "execution_count": 12,
   "metadata": {
    "scrolled": false
   },
   "outputs": [
    {
     "data": {
      "text/html": [
       "<div>\n",
       "<style scoped>\n",
       "    .dataframe tbody tr th:only-of-type {\n",
       "        vertical-align: middle;\n",
       "    }\n",
       "\n",
       "    .dataframe tbody tr th {\n",
       "        vertical-align: top;\n",
       "    }\n",
       "\n",
       "    .dataframe thead th {\n",
       "        text-align: right;\n",
       "    }\n",
       "</style>\n",
       "<table border=\"1\" class=\"dataframe\">\n",
       "  <thead>\n",
       "    <tr style=\"text-align: right;\">\n",
       "      <th></th>\n",
       "      <th>GeoFips</th>\n",
       "      <th>GeoName</th>\n",
       "      <th>2017</th>\n",
       "      <th>2018</th>\n",
       "      <th>2019</th>\n",
       "    </tr>\n",
       "  </thead>\n",
       "  <tbody>\n",
       "    <tr>\n",
       "      <th>0</th>\n",
       "      <td>1001</td>\n",
       "      <td>Autauga, AL</td>\n",
       "      <td>1587695</td>\n",
       "      <td>1602077</td>\n",
       "      <td>1540762</td>\n",
       "    </tr>\n",
       "    <tr>\n",
       "      <th>1</th>\n",
       "      <td>1003</td>\n",
       "      <td>Baldwin, AL</td>\n",
       "      <td>6453588</td>\n",
       "      <td>6799715</td>\n",
       "      <td>7134734</td>\n",
       "    </tr>\n",
       "    <tr>\n",
       "      <th>2</th>\n",
       "      <td>1005</td>\n",
       "      <td>Barbour, AL</td>\n",
       "      <td>721125</td>\n",
       "      <td>730518</td>\n",
       "      <td>729105</td>\n",
       "    </tr>\n",
       "    <tr>\n",
       "      <th>3</th>\n",
       "      <td>1007</td>\n",
       "      <td>Bibb, AL</td>\n",
       "      <td>353234</td>\n",
       "      <td>353016</td>\n",
       "      <td>380453</td>\n",
       "    </tr>\n",
       "    <tr>\n",
       "      <th>4</th>\n",
       "      <td>1009</td>\n",
       "      <td>Blount, AL</td>\n",
       "      <td>920401</td>\n",
       "      <td>967135</td>\n",
       "      <td>932215</td>\n",
       "    </tr>\n",
       "  </tbody>\n",
       "</table>\n",
       "</div>"
      ],
      "text/plain": [
       "   GeoFips      GeoName     2017     2018     2019\n",
       "0     1001  Autauga, AL  1587695  1602077  1540762\n",
       "1     1003  Baldwin, AL  6453588  6799715  7134734\n",
       "2     1005  Barbour, AL   721125   730518   729105\n",
       "3     1007     Bibb, AL   353234   353016   380453\n",
       "4     1009   Blount, AL   920401   967135   932215"
      ]
     },
     "execution_count": 12,
     "metadata": {},
     "output_type": "execute_result"
    }
   ],
   "source": [
    "gdpcounty.head()"
   ]
  },
  {
   "cell_type": "markdown",
   "metadata": {},
   "source": [
    "### Display County Stats of California"
   ]
  },
  {
   "cell_type": "code",
   "execution_count": 13,
   "metadata": {},
   "outputs": [
    {
     "data": {
      "text/html": [
       "<div>\n",
       "<style scoped>\n",
       "    .dataframe tbody tr th:only-of-type {\n",
       "        vertical-align: middle;\n",
       "    }\n",
       "\n",
       "    .dataframe tbody tr th {\n",
       "        vertical-align: top;\n",
       "    }\n",
       "\n",
       "    .dataframe thead th {\n",
       "        text-align: right;\n",
       "    }\n",
       "</style>\n",
       "<table border=\"1\" class=\"dataframe\">\n",
       "  <thead>\n",
       "    <tr style=\"text-align: right;\">\n",
       "      <th></th>\n",
       "      <th>County</th>\n",
       "      <th>Population_2019</th>\n",
       "      <th>Employed_2018</th>\n",
       "      <th>Unemployed_2018</th>\n",
       "      <th>Unemployment_Rate_2018</th>\n",
       "      <th>Poverty_AllAge_2017</th>\n",
       "      <th>Poverty_AllAgePct_2017</th>\n",
       "      <th>Poverty_U18_2017</th>\n",
       "      <th>Poverty_U18Pct_2017</th>\n",
       "      <th>Household_Income_2017</th>\n",
       "      <th>Education</th>\n",
       "      <th>Caucus</th>\n",
       "    </tr>\n",
       "  </thead>\n",
       "  <tbody>\n",
       "    <tr>\n",
       "      <th>0</th>\n",
       "      <td>Alameda</td>\n",
       "      <td>1669301</td>\n",
       "      <td>822800</td>\n",
       "      <td>25400</td>\n",
       "      <td>3.00%</td>\n",
       "      <td>152087</td>\n",
       "      <td>9.30%</td>\n",
       "      <td>35658</td>\n",
       "      <td>10.50%</td>\n",
       "      <td>$95,550</td>\n",
       "      <td>$30,350,182</td>\n",
       "      <td>Urban</td>\n",
       "    </tr>\n",
       "    <tr>\n",
       "      <th>1</th>\n",
       "      <td>Alpine</td>\n",
       "      <td>1162</td>\n",
       "      <td>520</td>\n",
       "      <td>30</td>\n",
       "      <td>4.60%</td>\n",
       "      <td>202</td>\n",
       "      <td>18.10%</td>\n",
       "      <td>67</td>\n",
       "      <td>35.30%</td>\n",
       "      <td>$55,755</td>\n",
       "      <td>$545,096</td>\n",
       "      <td>Rural</td>\n",
       "    </tr>\n",
       "    <tr>\n",
       "      <th>2</th>\n",
       "      <td>Amador</td>\n",
       "      <td>38294</td>\n",
       "      <td>14120</td>\n",
       "      <td>590</td>\n",
       "      <td>4.00%</td>\n",
       "      <td>3762</td>\n",
       "      <td>10.90%</td>\n",
       "      <td>908</td>\n",
       "      <td>15.70%</td>\n",
       "      <td>$60,588</td>\n",
       "      <td>$1,175,318</td>\n",
       "      <td>Rural</td>\n",
       "    </tr>\n",
       "    <tr>\n",
       "      <th>3</th>\n",
       "      <td>Butte</td>\n",
       "      <td>226466</td>\n",
       "      <td>97600</td>\n",
       "      <td>5100</td>\n",
       "      <td>4.90%</td>\n",
       "      <td>40728</td>\n",
       "      <td>18.10%</td>\n",
       "      <td>10208</td>\n",
       "      <td>22.60%</td>\n",
       "      <td>$48,634</td>\n",
       "      <td>$3,793,432</td>\n",
       "      <td>Suburban</td>\n",
       "    </tr>\n",
       "    <tr>\n",
       "      <th>4</th>\n",
       "      <td>Calaveras</td>\n",
       "      <td>45117</td>\n",
       "      <td>20510</td>\n",
       "      <td>850</td>\n",
       "      <td>4.00%</td>\n",
       "      <td>5904</td>\n",
       "      <td>13.10%</td>\n",
       "      <td>1590</td>\n",
       "      <td>21.10%</td>\n",
       "      <td>$58,536</td>\n",
       "      <td>$865,248</td>\n",
       "      <td>Rural</td>\n",
       "    </tr>\n",
       "  </tbody>\n",
       "</table>\n",
       "</div>"
      ],
      "text/plain": [
       "      County  Population_2019  Employed_2018  Unemployed_2018  \\\n",
       "0    Alameda          1669301         822800            25400   \n",
       "1     Alpine             1162            520               30   \n",
       "2     Amador            38294          14120              590   \n",
       "3      Butte           226466          97600             5100   \n",
       "4  Calaveras            45117          20510              850   \n",
       "\n",
       "  Unemployment_Rate_2018  Poverty_AllAge_2017 Poverty_AllAgePct_2017  \\\n",
       "0                  3.00%               152087                  9.30%   \n",
       "1                  4.60%                  202                 18.10%   \n",
       "2                  4.00%                 3762                 10.90%   \n",
       "3                  4.90%                40728                 18.10%   \n",
       "4                  4.00%                 5904                 13.10%   \n",
       "\n",
       "   Poverty_U18_2017 Poverty_U18Pct_2017 Household_Income_2017    Education  \\\n",
       "0             35658              10.50%               $95,550  $30,350,182   \n",
       "1                67              35.30%               $55,755     $545,096   \n",
       "2               908              15.70%               $60,588   $1,175,318   \n",
       "3             10208              22.60%               $48,634   $3,793,432   \n",
       "4              1590              21.10%               $58,536     $865,248   \n",
       "\n",
       "     Caucus  \n",
       "0     Urban  \n",
       "1     Rural  \n",
       "2     Rural  \n",
       "3  Suburban  \n",
       "4     Rural  "
      ]
     },
     "execution_count": 13,
     "metadata": {},
     "output_type": "execute_result"
    }
   ],
   "source": [
    "countystats.head()"
   ]
  },
  {
   "cell_type": "markdown",
   "metadata": {},
   "source": [
    "## Step 2. Check for missing values"
   ]
  },
  {
   "cell_type": "markdown",
   "metadata": {},
   "source": [
    "### Use missingno as visualisation for missing values"
   ]
  },
  {
   "cell_type": "code",
   "execution_count": 14,
   "metadata": {
    "scrolled": true
   },
   "outputs": [
    {
     "data": {
      "image/png": "[encoded data removed]",
      "text/plain": [
       "<Figure size 1800x720 with 2 Axes>"
      ]
     },
     "metadata": {
      "needs_background": "light"
     },
     "output_type": "display_data"
    }
   ],
   "source": [
    "import missingno as msno\n",
    "%matplotlib inline\n",
    "msno.matrix(act19);"
   ]
  },
  {
   "cell_type": "markdown",
   "metadata": {},
   "source": [
    "### Check nulls in ACT19"
   ]
  },
  {
   "cell_type": "code",
   "execution_count": 15,
   "metadata": {
    "scrolled": true
   },
   "outputs": [
    {
     "data": {
      "text/plain": [
       "State            0\n",
       "Participation    0\n",
       "Composite        0\n",
       "dtype: int64"
      ]
     },
     "execution_count": 15,
     "metadata": {},
     "output_type": "execute_result"
    }
   ],
   "source": [
    "act19.isnull().sum()"
   ]
  },
  {
   "cell_type": "markdown",
   "metadata": {},
   "source": [
    "### Check nulls in SAT19"
   ]
  },
  {
   "cell_type": "code",
   "execution_count": 16,
   "metadata": {
    "scrolled": true
   },
   "outputs": [
    {
     "data": {
      "text/plain": [
       "State                 0\n",
       "Participation Rate    0\n",
       "EBRW                  0\n",
       "Math                  0\n",
       "Total                 0\n",
       "dtype: int64"
      ]
     },
     "execution_count": 16,
     "metadata": {},
     "output_type": "execute_result"
    }
   ],
   "source": [
    "sat19.isnull().sum()"
   ]
  },
  {
   "cell_type": "markdown",
   "metadata": {},
   "source": [
    "### Check nulls in ACT19_CA"
   ]
  },
  {
   "cell_type": "code",
   "execution_count": 17,
   "metadata": {
    "scrolled": true
   },
   "outputs": [
    {
     "data": {
      "text/plain": [
       "CDS               1\n",
       "CCode             1\n",
       "CDCode            1\n",
       "SCode           523\n",
       "RType             1\n",
       "SName           581\n",
       "DName            59\n",
       "CName             1\n",
       "Enroll12          1\n",
       "NumTstTakr        1\n",
       "AvgScrRead      357\n",
       "AvgScrEng       357\n",
       "AvgScrMath      357\n",
       "AvgScrSci       357\n",
       "NumGE21         357\n",
       "PctGE21         357\n",
       "Year              1\n",
       "Unnamed: 17    2310\n",
       "dtype: int64"
      ]
     },
     "execution_count": 17,
     "metadata": {},
     "output_type": "execute_result"
    }
   ],
   "source": [
    "act19ca.isnull().sum()"
   ]
  },
  {
   "cell_type": "markdown",
   "metadata": {},
   "source": [
    "### Check nulls in SAT19_CA"
   ]
  },
  {
   "cell_type": "code",
   "execution_count": 18,
   "metadata": {
    "scrolled": false
   },
   "outputs": [
    {
     "data": {
      "text/plain": [
       "CDS                         1\n",
       "CCode                       1\n",
       "CDCode                      1\n",
       "SCode                       1\n",
       "RType                       1\n",
       "SName                     598\n",
       "DName                      59\n",
       "CName                       1\n",
       "Enroll12                    1\n",
       "NumTSTTakr12                1\n",
       "NumERWBenchmark12         276\n",
       "PctERWBenchmark12         276\n",
       "NumMathBenchmark12        276\n",
       "PctMathBenchmark12        276\n",
       "Enroll11                    1\n",
       "NumTSTTakr11                1\n",
       "NumERWBenchmark11         311\n",
       "PctERWBenchmark11         311\n",
       "NumMathBenchmark11        311\n",
       "PctMathBenchmark11        311\n",
       "TotNumBothBenchmark12     276\n",
       "PctBothBenchmark12        276\n",
       "TotNumBothBenchmark11     311\n",
       "PctBothBenchmark11        311\n",
       "Year                        1\n",
       "Unnamed: 25              2580\n",
       "dtype: int64"
      ]
     },
     "execution_count": 18,
     "metadata": {},
     "output_type": "execute_result"
    }
   ],
   "source": [
    "sat19ca.isnull().sum()"
   ]
  },
  {
   "cell_type": "markdown",
   "metadata": {},
   "source": [
    "### Check nulls in GDP Data by County"
   ]
  },
  {
   "cell_type": "code",
   "execution_count": 19,
   "metadata": {
    "scrolled": true
   },
   "outputs": [
    {
     "data": {
      "text/plain": [
       "GeoFips    0\n",
       "GeoName    0\n",
       "2017       0\n",
       "2018       0\n",
       "2019       0\n",
       "dtype: int64"
      ]
     },
     "execution_count": 19,
     "metadata": {},
     "output_type": "execute_result"
    }
   ],
   "source": [
    "gdpcounty.isnull().sum()"
   ]
  },
  {
   "cell_type": "markdown",
   "metadata": {},
   "source": [
    "### Check nulls in County Stats"
   ]
  },
  {
   "cell_type": "code",
   "execution_count": 20,
   "metadata": {
    "scrolled": true
   },
   "outputs": [
    {
     "data": {
      "text/plain": [
       "County                    0\n",
       "Population_2019           0\n",
       "Employed_2018             0\n",
       "Unemployed_2018           0\n",
       "Unemployment_Rate_2018    0\n",
       "Poverty_AllAge_2017       0\n",
       "Poverty_AllAgePct_2017    0\n",
       "Poverty_U18_2017          0\n",
       "Poverty_U18Pct_2017       0\n",
       "Household_Income_2017     0\n",
       "Education                 0\n",
       "Caucus                    0\n",
       "dtype: int64"
      ]
     },
     "execution_count": 20,
     "metadata": {},
     "output_type": "execute_result"
    }
   ],
   "source": [
    "countystats.isnull().sum()"
   ]
  },
  {
   "cell_type": "markdown",
   "metadata": {},
   "source": [
    "## Step 3, 4, 5, 6. Observe, fix any errors, display data types"
   ]
  },
  {
   "cell_type": "markdown",
   "metadata": {},
   "source": [
    "### Cleaning ACT19 dataset"
   ]
  },
  {
   "cell_type": "code",
   "execution_count": 21,
   "metadata": {},
   "outputs": [
    {
     "data": {
      "text/html": [
       "<div>\n",
       "<style scoped>\n",
       "    .dataframe tbody tr th:only-of-type {\n",
       "        vertical-align: middle;\n",
       "    }\n",
       "\n",
       "    .dataframe tbody tr th {\n",
       "        vertical-align: top;\n",
       "    }\n",
       "\n",
       "    .dataframe thead th {\n",
       "        text-align: right;\n",
       "    }\n",
       "</style>\n",
       "<table border=\"1\" class=\"dataframe\">\n",
       "  <thead>\n",
       "    <tr style=\"text-align: right;\">\n",
       "      <th></th>\n",
       "      <th>Composite</th>\n",
       "    </tr>\n",
       "  </thead>\n",
       "  <tbody>\n",
       "    <tr>\n",
       "      <th>count</th>\n",
       "      <td>52.000000</td>\n",
       "    </tr>\n",
       "    <tr>\n",
       "      <th>mean</th>\n",
       "      <td>21.450000</td>\n",
       "    </tr>\n",
       "    <tr>\n",
       "      <th>std</th>\n",
       "      <td>2.175487</td>\n",
       "    </tr>\n",
       "    <tr>\n",
       "      <th>min</th>\n",
       "      <td>17.900000</td>\n",
       "    </tr>\n",
       "    <tr>\n",
       "      <th>25%</th>\n",
       "      <td>19.800000</td>\n",
       "    </tr>\n",
       "    <tr>\n",
       "      <th>50%</th>\n",
       "      <td>20.950000</td>\n",
       "    </tr>\n",
       "    <tr>\n",
       "      <th>75%</th>\n",
       "      <td>23.650000</td>\n",
       "    </tr>\n",
       "    <tr>\n",
       "      <th>max</th>\n",
       "      <td>25.500000</td>\n",
       "    </tr>\n",
       "  </tbody>\n",
       "</table>\n",
       "</div>"
      ],
      "text/plain": [
       "       Composite\n",
       "count  52.000000\n",
       "mean   21.450000\n",
       "std     2.175487\n",
       "min    17.900000\n",
       "25%    19.800000\n",
       "50%    20.950000\n",
       "75%    23.650000\n",
       "max    25.500000"
      ]
     },
     "execution_count": 21,
     "metadata": {},
     "output_type": "execute_result"
    }
   ],
   "source": [
    "act19.describe()"
   ]
  },
  {
   "cell_type": "code",
   "execution_count": 22,
   "metadata": {},
   "outputs": [],
   "source": [
    "act19['Participation'] = act19['Participation'].map(clean_pct) #change % numbers into float decimals"
   ]
  },
  {
   "cell_type": "code",
   "execution_count": 23,
   "metadata": {
    "scrolled": true
   },
   "outputs": [
    {
     "name": "stdout",
     "output_type": "stream",
     "text": [
      "<class 'pandas.core.frame.DataFrame'>\n",
      "RangeIndex: 52 entries, 0 to 51\n",
      "Data columns (total 3 columns):\n",
      " #   Column         Non-Null Count  Dtype  \n",
      "---  ------         --------------  -----  \n",
      " 0   State          52 non-null     object \n",
      " 1   Participation  52 non-null     float64\n",
      " 2   Composite      52 non-null     float64\n",
      "dtypes: float64(2), object(1)\n",
      "memory usage: 1.3+ KB\n"
     ]
    }
   ],
   "source": [
    "act19.info() #act19 cleaned!"
   ]
  },
  {
   "cell_type": "markdown",
   "metadata": {},
   "source": [
    "### Cleaning SAT19 dataset"
   ]
  },
  {
   "cell_type": "code",
   "execution_count": 24,
   "metadata": {},
   "outputs": [
    {
     "data": {
      "text/html": [
       "<div>\n",
       "<style scoped>\n",
       "    .dataframe tbody tr th:only-of-type {\n",
       "        vertical-align: middle;\n",
       "    }\n",
       "\n",
       "    .dataframe tbody tr th {\n",
       "        vertical-align: top;\n",
       "    }\n",
       "\n",
       "    .dataframe thead th {\n",
       "        text-align: right;\n",
       "    }\n",
       "</style>\n",
       "<table border=\"1\" class=\"dataframe\">\n",
       "  <thead>\n",
       "    <tr style=\"text-align: right;\">\n",
       "      <th></th>\n",
       "      <th>EBRW</th>\n",
       "      <th>Math</th>\n",
       "      <th>Total</th>\n",
       "    </tr>\n",
       "  </thead>\n",
       "  <tbody>\n",
       "    <tr>\n",
       "      <th>count</th>\n",
       "      <td>53.000000</td>\n",
       "      <td>53.000000</td>\n",
       "      <td>53.000000</td>\n",
       "    </tr>\n",
       "    <tr>\n",
       "      <th>mean</th>\n",
       "      <td>558.000000</td>\n",
       "      <td>548.471698</td>\n",
       "      <td>1106.528302</td>\n",
       "    </tr>\n",
       "    <tr>\n",
       "      <th>std</th>\n",
       "      <td>47.554422</td>\n",
       "      <td>53.785044</td>\n",
       "      <td>100.994784</td>\n",
       "    </tr>\n",
       "    <tr>\n",
       "      <th>min</th>\n",
       "      <td>483.000000</td>\n",
       "      <td>445.000000</td>\n",
       "      <td>935.000000</td>\n",
       "    </tr>\n",
       "    <tr>\n",
       "      <th>25%</th>\n",
       "      <td>518.000000</td>\n",
       "      <td>506.000000</td>\n",
       "      <td>1024.000000</td>\n",
       "    </tr>\n",
       "    <tr>\n",
       "      <th>50%</th>\n",
       "      <td>550.000000</td>\n",
       "      <td>545.000000</td>\n",
       "      <td>1097.000000</td>\n",
       "    </tr>\n",
       "    <tr>\n",
       "      <th>75%</th>\n",
       "      <td>610.000000</td>\n",
       "      <td>596.000000</td>\n",
       "      <td>1200.000000</td>\n",
       "    </tr>\n",
       "    <tr>\n",
       "      <th>max</th>\n",
       "      <td>636.000000</td>\n",
       "      <td>648.000000</td>\n",
       "      <td>1284.000000</td>\n",
       "    </tr>\n",
       "  </tbody>\n",
       "</table>\n",
       "</div>"
      ],
      "text/plain": [
       "             EBRW        Math        Total\n",
       "count   53.000000   53.000000    53.000000\n",
       "mean   558.000000  548.471698  1106.528302\n",
       "std     47.554422   53.785044   100.994784\n",
       "min    483.000000  445.000000   935.000000\n",
       "25%    518.000000  506.000000  1024.000000\n",
       "50%    550.000000  545.000000  1097.000000\n",
       "75%    610.000000  596.000000  1200.000000\n",
       "max    636.000000  648.000000  1284.000000"
      ]
     },
     "execution_count": 24,
     "metadata": {},
     "output_type": "execute_result"
    }
   ],
   "source": [
    "sat19.describe()"
   ]
  },
  {
   "cell_type": "code",
   "execution_count": 25,
   "metadata": {
    "scrolled": true
   },
   "outputs": [],
   "source": [
    "sat19['Participation Rate'] = sat19['Participation Rate'].map(clean_pct) #change % numbers into float decimals"
   ]
  },
  {
   "cell_type": "code",
   "execution_count": 26,
   "metadata": {
    "scrolled": false
   },
   "outputs": [
    {
     "name": "stdout",
     "output_type": "stream",
     "text": [
      "<class 'pandas.core.frame.DataFrame'>\n",
      "RangeIndex: 53 entries, 0 to 52\n",
      "Data columns (total 5 columns):\n",
      " #   Column              Non-Null Count  Dtype  \n",
      "---  ------              --------------  -----  \n",
      " 0   State               53 non-null     object \n",
      " 1   Participation Rate  51 non-null     float64\n",
      " 2   EBRW                53 non-null     int64  \n",
      " 3   Math                53 non-null     int64  \n",
      " 4   Total               53 non-null     int64  \n",
      "dtypes: float64(1), int64(3), object(1)\n",
      "memory usage: 2.2+ KB\n"
     ]
    }
   ],
   "source": [
    "sat19.info() #sat19 cleaned!"
   ]
  },
  {
   "cell_type": "markdown",
   "metadata": {},
   "source": [
    "### Cleaning ACT19 for California State "
   ]
  },
  {
   "cell_type": "code",
   "execution_count": 27,
   "metadata": {
    "scrolled": true
   },
   "outputs": [
    {
     "data": {
      "image/png": "[encoded data removed]",
      "text/plain": [
       "<Figure size 1800x720 with 2 Axes>"
      ]
     },
     "metadata": {
      "needs_background": "light"
     },
     "output_type": "display_data"
    }
   ],
   "source": [
    "#Using missingno to check for missing value in the ACT19CA dataset\n",
    "msno.matrix(act19ca);"
   ]
  },
  {
   "cell_type": "code",
   "execution_count": 28,
   "metadata": {},
   "outputs": [
    {
     "data": {
      "text/html": [
       "<div>\n",
       "<style scoped>\n",
       "    .dataframe tbody tr th:only-of-type {\n",
       "        vertical-align: middle;\n",
       "    }\n",
       "\n",
       "    .dataframe tbody tr th {\n",
       "        vertical-align: top;\n",
       "    }\n",
       "\n",
       "    .dataframe thead th {\n",
       "        text-align: right;\n",
       "    }\n",
       "</style>\n",
       "<table border=\"1\" class=\"dataframe\">\n",
       "  <thead>\n",
       "    <tr style=\"text-align: right;\">\n",
       "      <th></th>\n",
       "      <th>CDS</th>\n",
       "      <th>CCode</th>\n",
       "      <th>CDCode</th>\n",
       "      <th>SCode</th>\n",
       "      <th>Enroll12</th>\n",
       "      <th>NumTstTakr</th>\n",
       "      <th>Unnamed: 17</th>\n",
       "    </tr>\n",
       "  </thead>\n",
       "  <tbody>\n",
       "    <tr>\n",
       "      <th>count</th>\n",
       "      <td>2.309000e+03</td>\n",
       "      <td>2309.000000</td>\n",
       "      <td>2.309000e+03</td>\n",
       "      <td>1.787000e+03</td>\n",
       "      <td>2309.000000</td>\n",
       "      <td>2309.000000</td>\n",
       "      <td>0.0</td>\n",
       "    </tr>\n",
       "    <tr>\n",
       "      <th>mean</th>\n",
       "      <td>2.929718e+13</td>\n",
       "      <td>28.666522</td>\n",
       "      <td>2.855616e+06</td>\n",
       "      <td>1.902681e+06</td>\n",
       "      <td>828.172802</td>\n",
       "      <td>143.182763</td>\n",
       "      <td>NaN</td>\n",
       "    </tr>\n",
       "    <tr>\n",
       "      <th>std</th>\n",
       "      <td>1.444996e+13</td>\n",
       "      <td>14.425498</td>\n",
       "      <td>1.492574e+06</td>\n",
       "      <td>1.838954e+06</td>\n",
       "      <td>10667.048988</td>\n",
       "      <td>1816.545548</td>\n",
       "      <td>NaN</td>\n",
       "    </tr>\n",
       "    <tr>\n",
       "      <th>min</th>\n",
       "      <td>0.000000e+00</td>\n",
       "      <td>0.000000</td>\n",
       "      <td>0.000000e+00</td>\n",
       "      <td>0.000000e+00</td>\n",
       "      <td>0.000000</td>\n",
       "      <td>0.000000</td>\n",
       "      <td>NaN</td>\n",
       "    </tr>\n",
       "    <tr>\n",
       "      <th>25%</th>\n",
       "      <td>1.964725e+13</td>\n",
       "      <td>19.000000</td>\n",
       "      <td>1.964519e+06</td>\n",
       "      <td>1.254385e+05</td>\n",
       "      <td>78.000000</td>\n",
       "      <td>3.000000</td>\n",
       "      <td>NaN</td>\n",
       "    </tr>\n",
       "    <tr>\n",
       "      <th>50%</th>\n",
       "      <td>3.066647e+13</td>\n",
       "      <td>30.000000</td>\n",
       "      <td>3.066548e+06</td>\n",
       "      <td>1.930288e+06</td>\n",
       "      <td>218.000000</td>\n",
       "      <td>30.000000</td>\n",
       "      <td>NaN</td>\n",
       "    </tr>\n",
       "    <tr>\n",
       "      <th>75%</th>\n",
       "      <td>3.868478e+13</td>\n",
       "      <td>38.000000</td>\n",
       "      <td>3.777032e+06</td>\n",
       "      <td>3.435674e+06</td>\n",
       "      <td>497.000000</td>\n",
       "      <td>86.000000</td>\n",
       "      <td>NaN</td>\n",
       "    </tr>\n",
       "    <tr>\n",
       "      <th>max</th>\n",
       "      <td>5.872770e+13</td>\n",
       "      <td>58.000000</td>\n",
       "      <td>5.872769e+06</td>\n",
       "      <td>6.120893e+06</td>\n",
       "      <td>489650.000000</td>\n",
       "      <td>82668.000000</td>\n",
       "      <td>NaN</td>\n",
       "    </tr>\n",
       "  </tbody>\n",
       "</table>\n",
       "</div>"
      ],
      "text/plain": [
       "                CDS        CCode        CDCode         SCode       Enroll12  \\\n",
       "count  2.309000e+03  2309.000000  2.309000e+03  1.787000e+03    2309.000000   \n",
       "mean   2.929718e+13    28.666522  2.855616e+06  1.902681e+06     828.172802   \n",
       "std    1.444996e+13    14.425498  1.492574e+06  1.838954e+06   10667.048988   \n",
       "min    0.000000e+00     0.000000  0.000000e+00  0.000000e+00       0.000000   \n",
       "25%    1.964725e+13    19.000000  1.964519e+06  1.254385e+05      78.000000   \n",
       "50%    3.066647e+13    30.000000  3.066548e+06  1.930288e+06     218.000000   \n",
       "75%    3.868478e+13    38.000000  3.777032e+06  3.435674e+06     497.000000   \n",
       "max    5.872770e+13    58.000000  5.872769e+06  6.120893e+06  489650.000000   \n",
       "\n",
       "         NumTstTakr  Unnamed: 17  \n",
       "count   2309.000000          0.0  \n",
       "mean     143.182763          NaN  \n",
       "std     1816.545548          NaN  \n",
       "min        0.000000          NaN  \n",
       "25%        3.000000          NaN  \n",
       "50%       30.000000          NaN  \n",
       "75%       86.000000          NaN  \n",
       "max    82668.000000          NaN  "
      ]
     },
     "execution_count": 28,
     "metadata": {},
     "output_type": "execute_result"
    }
   ],
   "source": [
    "act19ca.describe()"
   ]
  },
  {
   "cell_type": "code",
   "execution_count": 29,
   "metadata": {
    "scrolled": false
   },
   "outputs": [
    {
     "name": "stdout",
     "output_type": "stream",
     "text": [
      "<class 'pandas.core.frame.DataFrame'>\n",
      "Int64Index: 2309 entries, 0 to 2308\n",
      "Data columns (total 17 columns):\n",
      " #   Column      Non-Null Count  Dtype  \n",
      "---  ------      --------------  -----  \n",
      " 0   CDS         2309 non-null   float64\n",
      " 1   CCode       2309 non-null   float64\n",
      " 2   CDCode      2309 non-null   float64\n",
      " 3   SCode       1787 non-null   float64\n",
      " 4   RType       2309 non-null   object \n",
      " 5   SName       1729 non-null   object \n",
      " 6   DName       2251 non-null   object \n",
      " 7   CName       2309 non-null   object \n",
      " 8   Enroll12    2309 non-null   float64\n",
      " 9   NumTstTakr  2309 non-null   float64\n",
      " 10  AvgScrRead  1421 non-null   float64\n",
      " 11  AvgScrEng   1421 non-null   float64\n",
      " 12  AvgScrMath  1421 non-null   float64\n",
      " 13  AvgScrSci   1421 non-null   float64\n",
      " 14  NumGE21     1421 non-null   float64\n",
      " 15  PctGE21     1421 non-null   float64\n",
      " 16  Year        2309 non-null   object \n",
      "dtypes: float64(12), object(5)\n",
      "memory usage: 324.7+ KB\n"
     ]
    }
   ],
   "source": [
    "#do the cleaning for the dataset\n",
    "\n",
    "#drop the redundant column at the end\n",
    "act19ca.drop(['Unnamed: 17'], axis=1, inplace=True)\n",
    "\n",
    "#last entry there is a row with all nan values\n",
    "act19ca.drop(2309, axis=0, inplace=True)\n",
    "\n",
    "#Substitute * in score columns with NaN. * means that the enrollment number is low.\n",
    "act19ca[['AvgScrRead','AvgScrEng','AvgScrMath','AvgScrSci','NumGE21','PctGE21']] \\\n",
    "=act19ca[['AvgScrRead','AvgScrEng','AvgScrMath','AvgScrSci','NumGE21','PctGE21']].replace('*', np.nan)\n",
    "\n",
    "\n",
    "#change datatype of all the scores from string to float\n",
    "act19ca[['AvgScrRead','AvgScrEng','AvgScrMath','\\\n",
    "AvgScrSci','NumGE21','PctGE21']] = \\\n",
    "act19ca[['AvgScrRead','AvgScrEng','AvgScrMath','\\\n",
    "AvgScrSci','NumGE21','PctGE21']].astype(float)\n",
    "\n",
    "\n",
    "act19ca.info()"
   ]
  },
  {
   "cell_type": "code",
   "execution_count": 30,
   "metadata": {
    "scrolled": true
   },
   "outputs": [
    {
     "data": {
      "text/plain": [
       "RType\n",
       "C    82668.0\n",
       "D    82619.0\n",
       "S    82654.0\n",
       "X    82668.0\n",
       "Name: NumTstTakr, dtype: float64"
      ]
     },
     "execution_count": 30,
     "metadata": {},
     "output_type": "execute_result"
    }
   ],
   "source": [
    "#Find the number of test takers grouped by type (C=county, X=state, D=district, S=school)\n",
    "act19ca.groupby('RType')['NumTstTakr'].sum()\n",
    "#we can see that number of students in county and in state are similar, so dataset is accurate"
   ]
  },
  {
   "cell_type": "code",
   "execution_count": 31,
   "metadata": {},
   "outputs": [],
   "source": [
    "#We can just filter out the rows where Rtype = C since we need county data\n",
    "act19ca = act19ca[act19ca['RType']=='C']\n",
    "\n",
    "#Drop unnecessary columns\n",
    "act19ca.drop(['CDS','CCode','CDCode','SCode','RType','SName','DName','Year'],axis=1,inplace=True)"
   ]
  },
  {
   "cell_type": "code",
   "execution_count": 32,
   "metadata": {
    "scrolled": false
   },
   "outputs": [
    {
     "name": "stdout",
     "output_type": "stream",
     "text": [
      "<class 'pandas.core.frame.DataFrame'>\n",
      "RangeIndex: 58 entries, 0 to 57\n",
      "Data columns (total 9 columns):\n",
      " #   Column      Non-Null Count  Dtype  \n",
      "---  ------      --------------  -----  \n",
      " 0   CName       58 non-null     object \n",
      " 1   Enroll12    58 non-null     float64\n",
      " 2   NumTstTakr  58 non-null     float64\n",
      " 3   AvgScrRead  54 non-null     float64\n",
      " 4   AvgScrEng   54 non-null     float64\n",
      " 5   AvgScrMath  54 non-null     float64\n",
      " 6   AvgScrSci   54 non-null     float64\n",
      " 7   NumGE21     54 non-null     float64\n",
      " 8   PctGE21     54 non-null     float64\n",
      "dtypes: float64(8), object(1)\n",
      "memory usage: 4.2+ KB\n"
     ]
    }
   ],
   "source": [
    "act19ca.reset_index(drop=True,inplace=True)\n",
    "act19ca.info()"
   ]
  },
  {
   "cell_type": "code",
   "execution_count": 33,
   "metadata": {},
   "outputs": [
    {
     "data": {
      "text/html": [
       "<div>\n",
       "<style scoped>\n",
       "    .dataframe tbody tr th:only-of-type {\n",
       "        vertical-align: middle;\n",
       "    }\n",
       "\n",
       "    .dataframe tbody tr th {\n",
       "        vertical-align: top;\n",
       "    }\n",
       "\n",
       "    .dataframe thead th {\n",
       "        text-align: right;\n",
       "    }\n",
       "</style>\n",
       "<table border=\"1\" class=\"dataframe\">\n",
       "  <thead>\n",
       "    <tr style=\"text-align: right;\">\n",
       "      <th></th>\n",
       "      <th>CName</th>\n",
       "      <th>Enroll12</th>\n",
       "      <th>NumTstTakr</th>\n",
       "      <th>AvgScrRead</th>\n",
       "      <th>AvgScrEng</th>\n",
       "      <th>AvgScrMath</th>\n",
       "      <th>AvgScrSci</th>\n",
       "      <th>NumGE21</th>\n",
       "      <th>PctGE21</th>\n",
       "    </tr>\n",
       "  </thead>\n",
       "  <tbody>\n",
       "    <tr>\n",
       "      <th>0</th>\n",
       "      <td>Sacramento</td>\n",
       "      <td>19540.0</td>\n",
       "      <td>3065.0</td>\n",
       "      <td>21.0</td>\n",
       "      <td>20.0</td>\n",
       "      <td>21.0</td>\n",
       "      <td>21.0</td>\n",
       "      <td>1526.0</td>\n",
       "      <td>49.79</td>\n",
       "    </tr>\n",
       "    <tr>\n",
       "      <th>1</th>\n",
       "      <td>San Joaquin</td>\n",
       "      <td>11778.0</td>\n",
       "      <td>1348.0</td>\n",
       "      <td>22.0</td>\n",
       "      <td>21.0</td>\n",
       "      <td>21.0</td>\n",
       "      <td>21.0</td>\n",
       "      <td>693.0</td>\n",
       "      <td>51.41</td>\n",
       "    </tr>\n",
       "    <tr>\n",
       "      <th>2</th>\n",
       "      <td>Kern</td>\n",
       "      <td>14229.0</td>\n",
       "      <td>1257.0</td>\n",
       "      <td>21.0</td>\n",
       "      <td>20.0</td>\n",
       "      <td>20.0</td>\n",
       "      <td>20.0</td>\n",
       "      <td>544.0</td>\n",
       "      <td>43.28</td>\n",
       "    </tr>\n",
       "    <tr>\n",
       "      <th>3</th>\n",
       "      <td>Shasta</td>\n",
       "      <td>2161.0</td>\n",
       "      <td>173.0</td>\n",
       "      <td>26.0</td>\n",
       "      <td>24.0</td>\n",
       "      <td>24.0</td>\n",
       "      <td>24.0</td>\n",
       "      <td>131.0</td>\n",
       "      <td>75.72</td>\n",
       "    </tr>\n",
       "    <tr>\n",
       "      <th>4</th>\n",
       "      <td>Sutter</td>\n",
       "      <td>1827.0</td>\n",
       "      <td>196.0</td>\n",
       "      <td>23.0</td>\n",
       "      <td>22.0</td>\n",
       "      <td>22.0</td>\n",
       "      <td>22.0</td>\n",
       "      <td>117.0</td>\n",
       "      <td>59.69</td>\n",
       "    </tr>\n",
       "  </tbody>\n",
       "</table>\n",
       "</div>"
      ],
      "text/plain": [
       "         CName  Enroll12  NumTstTakr  AvgScrRead  AvgScrEng  AvgScrMath  \\\n",
       "0   Sacramento   19540.0      3065.0        21.0       20.0        21.0   \n",
       "1  San Joaquin   11778.0      1348.0        22.0       21.0        21.0   \n",
       "2         Kern   14229.0      1257.0        21.0       20.0        20.0   \n",
       "3       Shasta    2161.0       173.0        26.0       24.0        24.0   \n",
       "4       Sutter    1827.0       196.0        23.0       22.0        22.0   \n",
       "\n",
       "   AvgScrSci  NumGE21  PctGE21  \n",
       "0       21.0   1526.0    49.79  \n",
       "1       21.0    693.0    51.41  \n",
       "2       20.0    544.0    43.28  \n",
       "3       24.0    131.0    75.72  \n",
       "4       22.0    117.0    59.69  "
      ]
     },
     "execution_count": 33,
     "metadata": {},
     "output_type": "execute_result"
    }
   ],
   "source": [
    "act19ca.head() #cleaned act19ca!"
   ]
  },
  {
   "cell_type": "markdown",
   "metadata": {},
   "source": [
    "### Cleaning SAT19 for California State"
   ]
  },
  {
   "cell_type": "code",
   "execution_count": 34,
   "metadata": {
    "scrolled": false
   },
   "outputs": [
    {
     "data": {
      "image/png": "[encoded data removed]",
      "text/plain": [
       "<Figure size 1800x720 with 2 Axes>"
      ]
     },
     "metadata": {
      "needs_background": "light"
     },
     "output_type": "display_data"
    }
   ],
   "source": [
    "#Using missingno to check for missing value in the SAT19CA dataset\n",
    "msno.matrix(sat19ca);"
   ]
  },
  {
   "cell_type": "code",
   "execution_count": 35,
   "metadata": {
    "scrolled": true
   },
   "outputs": [
    {
     "name": "stdout",
     "output_type": "stream",
     "text": [
      "<class 'pandas.core.frame.DataFrame'>\n",
      "RangeIndex: 2580 entries, 0 to 2579\n",
      "Data columns (total 26 columns):\n",
      " #   Column                 Non-Null Count  Dtype  \n",
      "---  ------                 --------------  -----  \n",
      " 0   CDS                    2579 non-null   float64\n",
      " 1   CCode                  2579 non-null   float64\n",
      " 2   CDCode                 2579 non-null   float64\n",
      " 3   SCode                  2579 non-null   float64\n",
      " 4   RType                  2579 non-null   object \n",
      " 5   SName                  1982 non-null   object \n",
      " 6   DName                  2521 non-null   object \n",
      " 7   CName                  2579 non-null   object \n",
      " 8   Enroll12               2579 non-null   float64\n",
      " 9   NumTSTTakr12           2579 non-null   float64\n",
      " 10  NumERWBenchmark12      2304 non-null   object \n",
      " 11  PctERWBenchmark12      2304 non-null   object \n",
      " 12  NumMathBenchmark12     2304 non-null   object \n",
      " 13  PctMathBenchmark12     2304 non-null   object \n",
      " 14  Enroll11               2579 non-null   float64\n",
      " 15  NumTSTTakr11           2579 non-null   float64\n",
      " 16  NumERWBenchmark11      2269 non-null   object \n",
      " 17  PctERWBenchmark11      2269 non-null   object \n",
      " 18  NumMathBenchmark11     2269 non-null   object \n",
      " 19  PctMathBenchmark11     2269 non-null   object \n",
      " 20  TotNumBothBenchmark12  2304 non-null   object \n",
      " 21  PctBothBenchmark12     2304 non-null   object \n",
      " 22  TotNumBothBenchmark11  2269 non-null   object \n",
      " 23  PctBothBenchmark11     2269 non-null   object \n",
      " 24  Year                   2579 non-null   object \n",
      " 25  Unnamed: 25            0 non-null      float64\n",
      "dtypes: float64(9), object(17)\n",
      "memory usage: 524.2+ KB\n"
     ]
    }
   ],
   "source": [
    "sat19ca.info()"
   ]
  },
  {
   "cell_type": "code",
   "execution_count": 36,
   "metadata": {},
   "outputs": [],
   "source": [
    "#do cleaning for sat19ca dataset\n",
    "\n",
    "#drop the redundant column at the end, as well as columns for students in grade11\n",
    "sat19ca.drop(['Enroll11','NumTSTTakr11','NumERWBenchmark11','PctERWBenchmark11','PctERWBenchmark11',\\\n",
    "              'NumMathBenchmark11','PctMathBenchmark11','TotNumBothBenchmark11',\\\n",
    "              'PctBothBenchmark11','Unnamed: 25'], axis=1, inplace=True)\n",
    "\n",
    "#Substitute * in score columns with NaN. * means that the enrollment number is low.\n",
    "sat19ca[['Enroll12','NumTSTTakr12','NumERWBenchmark12','PctERWBenchmark12','NumMathBenchmark12',\\\n",
    "         'PctMathBenchmark12','TotNumBothBenchmark12','PctBothBenchmark12']]= \\\n",
    "sat19ca[['Enroll12','NumTSTTakr12','NumERWBenchmark12','PctERWBenchmark12','NumMathBenchmark12',\\\n",
    "         'PctMathBenchmark12','TotNumBothBenchmark12','PctBothBenchmark12']].replace('*',np.nan)\n",
    "\n",
    "#last entry there is a row with all nan values\n",
    "sat19ca.drop(2579, axis=0, inplace=True)\n",
    "\n",
    "#change datatype of all the scores from string to float\n",
    "sat19ca[['Enroll12','NumTSTTakr12','NumERWBenchmark12','PctERWBenchmark12','NumMathBenchmark12',\\\n",
    "         'PctMathBenchmark12','TotNumBothBenchmark12','PctBothBenchmark12']]= \\\n",
    "sat19ca[['Enroll12','NumTSTTakr12','NumERWBenchmark12','PctERWBenchmark12','NumMathBenchmark12',\\\n",
    "         'PctMathBenchmark12','TotNumBothBenchmark12','PctBothBenchmark12']].astype(float)"
   ]
  },
  {
   "cell_type": "code",
   "execution_count": 37,
   "metadata": {},
   "outputs": [
    {
     "data": {
      "text/plain": [
       "RType\n",
       "C    170411.0\n",
       "D    170404.0\n",
       "S    170337.0\n",
       "X    170411.0\n",
       "Name: NumTSTTakr12, dtype: float64"
      ]
     },
     "execution_count": 37,
     "metadata": {},
     "output_type": "execute_result"
    }
   ],
   "source": [
    "#Find the number of test takers grouped by type (C=county, X=state, D=district, S=school)\n",
    "sat19ca.groupby('RType')['NumTSTTakr12'].sum()\n",
    "#we can see that number of students in county and in state are similar, so dataset is accurate"
   ]
  },
  {
   "cell_type": "code",
   "execution_count": 38,
   "metadata": {},
   "outputs": [],
   "source": [
    "#We can just filter out the rows where Rtype = C since we need county data\n",
    "sat19ca = sat19ca[sat19ca['RType']=='C']\n",
    "\n",
    "#Drop unnecessary columns\n",
    "sat19ca.drop(['CDS','CCode','CDCode','SCode','RType','SName','DName','Year'],axis=1,inplace=True)"
   ]
  },
  {
   "cell_type": "code",
   "execution_count": 39,
   "metadata": {},
   "outputs": [
    {
     "name": "stdout",
     "output_type": "stream",
     "text": [
      "<class 'pandas.core.frame.DataFrame'>\n",
      "RangeIndex: 58 entries, 0 to 57\n",
      "Data columns (total 9 columns):\n",
      " #   Column                 Non-Null Count  Dtype  \n",
      "---  ------                 --------------  -----  \n",
      " 0   CName                  58 non-null     object \n",
      " 1   Enroll12               58 non-null     float64\n",
      " 2   NumTSTTakr12           58 non-null     float64\n",
      " 3   NumERWBenchmark12      55 non-null     float64\n",
      " 4   PctERWBenchmark12      55 non-null     float64\n",
      " 5   NumMathBenchmark12     55 non-null     float64\n",
      " 6   PctMathBenchmark12     55 non-null     float64\n",
      " 7   TotNumBothBenchmark12  55 non-null     float64\n",
      " 8   PctBothBenchmark12     55 non-null     float64\n",
      "dtypes: float64(8), object(1)\n",
      "memory usage: 4.2+ KB\n"
     ]
    }
   ],
   "source": [
    "sat19ca.reset_index(drop=True,inplace=True)\n",
    "sat19ca.info()"
   ]
  },
  {
   "cell_type": "markdown",
   "metadata": {},
   "source": [
    "### Cleaning GDP by County dataset"
   ]
  },
  {
   "cell_type": "code",
   "execution_count": 40,
   "metadata": {},
   "outputs": [
    {
     "data": {
      "text/html": [
       "<div>\n",
       "<style scoped>\n",
       "    .dataframe tbody tr th:only-of-type {\n",
       "        vertical-align: middle;\n",
       "    }\n",
       "\n",
       "    .dataframe tbody tr th {\n",
       "        vertical-align: top;\n",
       "    }\n",
       "\n",
       "    .dataframe thead th {\n",
       "        text-align: right;\n",
       "    }\n",
       "</style>\n",
       "<table border=\"1\" class=\"dataframe\">\n",
       "  <thead>\n",
       "    <tr style=\"text-align: right;\">\n",
       "      <th></th>\n",
       "      <th>GeoFips</th>\n",
       "    </tr>\n",
       "  </thead>\n",
       "  <tbody>\n",
       "    <tr>\n",
       "      <th>count</th>\n",
       "      <td>3118.000000</td>\n",
       "    </tr>\n",
       "    <tr>\n",
       "      <th>mean</th>\n",
       "      <td>30158.531110</td>\n",
       "    </tr>\n",
       "    <tr>\n",
       "      <th>std</th>\n",
       "      <td>15132.739028</td>\n",
       "    </tr>\n",
       "    <tr>\n",
       "      <th>min</th>\n",
       "      <td>1001.000000</td>\n",
       "    </tr>\n",
       "    <tr>\n",
       "      <th>25%</th>\n",
       "      <td>18157.500000</td>\n",
       "    </tr>\n",
       "    <tr>\n",
       "      <th>50%</th>\n",
       "      <td>29144.000000</td>\n",
       "    </tr>\n",
       "    <tr>\n",
       "      <th>75%</th>\n",
       "      <td>45036.500000</td>\n",
       "    </tr>\n",
       "    <tr>\n",
       "      <th>max</th>\n",
       "      <td>56045.000000</td>\n",
       "    </tr>\n",
       "  </tbody>\n",
       "</table>\n",
       "</div>"
      ],
      "text/plain": [
       "            GeoFips\n",
       "count   3118.000000\n",
       "mean   30158.531110\n",
       "std    15132.739028\n",
       "min     1001.000000\n",
       "25%    18157.500000\n",
       "50%    29144.000000\n",
       "75%    45036.500000\n",
       "max    56045.000000"
      ]
     },
     "execution_count": 40,
     "metadata": {},
     "output_type": "execute_result"
    }
   ],
   "source": [
    "gdpcounty.describe()"
   ]
  },
  {
   "cell_type": "code",
   "execution_count": 41,
   "metadata": {
    "scrolled": false
   },
   "outputs": [
    {
     "name": "stdout",
     "output_type": "stream",
     "text": [
      "<class 'pandas.core.frame.DataFrame'>\n",
      "RangeIndex: 58 entries, 0 to 57\n",
      "Data columns (total 3 columns):\n",
      " #   Column   Non-Null Count  Dtype  \n",
      "---  ------   --------------  -----  \n",
      " 0   GeoFips  58 non-null     int64  \n",
      " 1   GeoName  58 non-null     object \n",
      " 2   2019     58 non-null     float64\n",
      "dtypes: float64(1), int64(1), object(1)\n",
      "memory usage: 1.5+ KB\n"
     ]
    },
    {
     "name": "stderr",
     "output_type": "stream",
     "text": [
      "C:\\Users\\finan\\AppData\\Local\\Temp/ipykernel_17372/1921726363.py:3: SettingWithCopyWarning: \n",
      "A value is trying to be set on a copy of a slice from a DataFrame.\n",
      "Try using .loc[row_indexer,col_indexer] = value instead\n",
      "\n",
      "See the caveats in the documentation: https://pandas.pydata.org/pandas-docs/stable/user_guide/indexing.html#returning-a-view-versus-a-copy\n",
      "  gdpcountyca['GeoName']=gdpcountyca['GeoName'].apply(lambda x: x.split(',')[0])\n",
      "C:\\Users\\finan\\anaconda3\\lib\\site-packages\\pandas\\core\\frame.py:4906: SettingWithCopyWarning: \n",
      "A value is trying to be set on a copy of a slice from a DataFrame\n",
      "\n",
      "See the caveats in the documentation: https://pandas.pydata.org/pandas-docs/stable/user_guide/indexing.html#returning-a-view-versus-a-copy\n",
      "  return super().drop(\n",
      "C:\\Users\\finan\\AppData\\Local\\Temp/ipykernel_17372/1921726363.py:5: SettingWithCopyWarning: \n",
      "A value is trying to be set on a copy of a slice from a DataFrame.\n",
      "Try using .loc[row_indexer,col_indexer] = value instead\n",
      "\n",
      "See the caveats in the documentation: https://pandas.pydata.org/pandas-docs/stable/user_guide/indexing.html#returning-a-view-versus-a-copy\n",
      "  gdpcountyca['2019'] = gdpcountyca['2019'].astype(float)\n"
     ]
    }
   ],
   "source": [
    "#Get the GDP for California counties\n",
    "gdpcountyca = gdpcounty[gdpcounty['GeoName'].apply(lambda x: x[-2:]=='CA')]\n",
    "gdpcountyca['GeoName']=gdpcountyca['GeoName'].apply(lambda x: x.split(',')[0])\n",
    "gdpcountyca.drop(['2017','2018'], axis=1, inplace=True)\n",
    "gdpcountyca['2019'] = gdpcountyca['2019'].astype(float)\n",
    "\n",
    "gdpcountyca.reset_index(drop=True,inplace=True)\n",
    "gdpcountyca.info()"
   ]
  },
  {
   "cell_type": "code",
   "execution_count": 42,
   "metadata": {},
   "outputs": [
    {
     "data": {
      "text/html": [
       "<div>\n",
       "<style scoped>\n",
       "    .dataframe tbody tr th:only-of-type {\n",
       "        vertical-align: middle;\n",
       "    }\n",
       "\n",
       "    .dataframe tbody tr th {\n",
       "        vertical-align: top;\n",
       "    }\n",
       "\n",
       "    .dataframe thead th {\n",
       "        text-align: right;\n",
       "    }\n",
       "</style>\n",
       "<table border=\"1\" class=\"dataframe\">\n",
       "  <thead>\n",
       "    <tr style=\"text-align: right;\">\n",
       "      <th></th>\n",
       "      <th>GeoFips</th>\n",
       "      <th>GeoName</th>\n",
       "      <th>2019</th>\n",
       "    </tr>\n",
       "  </thead>\n",
       "  <tbody>\n",
       "    <tr>\n",
       "      <th>0</th>\n",
       "      <td>6001</td>\n",
       "      <td>Alameda</td>\n",
       "      <td>126183638.0</td>\n",
       "    </tr>\n",
       "    <tr>\n",
       "      <th>1</th>\n",
       "      <td>6003</td>\n",
       "      <td>Alpine</td>\n",
       "      <td>104501.0</td>\n",
       "    </tr>\n",
       "    <tr>\n",
       "      <th>2</th>\n",
       "      <td>6005</td>\n",
       "      <td>Amador</td>\n",
       "      <td>1625096.0</td>\n",
       "    </tr>\n",
       "    <tr>\n",
       "      <th>3</th>\n",
       "      <td>6007</td>\n",
       "      <td>Butte</td>\n",
       "      <td>8701260.0</td>\n",
       "    </tr>\n",
       "    <tr>\n",
       "      <th>4</th>\n",
       "      <td>6009</td>\n",
       "      <td>Calaveras</td>\n",
       "      <td>1412753.0</td>\n",
       "    </tr>\n",
       "  </tbody>\n",
       "</table>\n",
       "</div>"
      ],
      "text/plain": [
       "   GeoFips    GeoName         2019\n",
       "0     6001    Alameda  126183638.0\n",
       "1     6003     Alpine     104501.0\n",
       "2     6005     Amador    1625096.0\n",
       "3     6007      Butte    8701260.0\n",
       "4     6009  Calaveras    1412753.0"
      ]
     },
     "execution_count": 42,
     "metadata": {},
     "output_type": "execute_result"
    }
   ],
   "source": [
    "gdpcountyca.head()"
   ]
  },
  {
   "cell_type": "markdown",
   "metadata": {},
   "source": [
    "### Clean County Stats"
   ]
  },
  {
   "cell_type": "code",
   "execution_count": 43,
   "metadata": {
    "scrolled": true
   },
   "outputs": [],
   "source": [
    "countystats.dropna(inplace=True)"
   ]
  },
  {
   "cell_type": "code",
   "execution_count": 44,
   "metadata": {
    "scrolled": false
   },
   "outputs": [
    {
     "name": "stdout",
     "output_type": "stream",
     "text": [
      "<class 'pandas.core.frame.DataFrame'>\n",
      "Int64Index: 58 entries, 0 to 57\n",
      "Data columns (total 12 columns):\n",
      " #   Column                  Non-Null Count  Dtype \n",
      "---  ------                  --------------  ----- \n",
      " 0   County                  58 non-null     object\n",
      " 1   Population_2019         58 non-null     int64 \n",
      " 2   Employed_2018           58 non-null     int64 \n",
      " 3   Unemployed_2018         58 non-null     int64 \n",
      " 4   Unemployment_Rate_2018  58 non-null     object\n",
      " 5   Poverty_AllAge_2017     58 non-null     int64 \n",
      " 6   Poverty_AllAgePct_2017  58 non-null     object\n",
      " 7   Poverty_U18_2017        58 non-null     int64 \n",
      " 8   Poverty_U18Pct_2017     58 non-null     object\n",
      " 9   Household_Income_2017   58 non-null     object\n",
      " 10  Education               58 non-null     object\n",
      " 11  Caucus                  58 non-null     object\n",
      "dtypes: int64(5), object(7)\n",
      "memory usage: 5.9+ KB\n"
     ]
    }
   ],
   "source": [
    "countystats.info()"
   ]
  },
  {
   "cell_type": "code",
   "execution_count": 45,
   "metadata": {},
   "outputs": [],
   "source": [
    "#convert % in employment rate to float\n",
    "countystats['Unemployment_Rate_2018'] = countystats['Unemployment_Rate_2018'].apply(clean_pct)*100\n",
    "\n",
    "#convert % in poverty all age to float\n",
    "countystats['Poverty_AllAgePct_2017'] = countystats['Poverty_AllAgePct_2017'].apply(clean_pct)*100\n",
    "\n",
    "#convert % in poverty u18 to float\n",
    "countystats['Poverty_U18Pct_2017'] = countystats['Poverty_U18Pct_2017'].apply(clean_pct)*100\n",
    "\n",
    "#convert household income and education from $ figures into float\n",
    "countystats['Household_Income_2017'] = countystats['Household_Income_2017'].apply(lambda x: x.strip('$').strip().replace(',',''))\n",
    "countystats['Education'] = countystats['Education'].apply(lambda x: x.replace('$',\"\").strip().replace(',',''))\n",
    "countystats[['Household_Income_2017','Education']] = countystats[['Household_Income_2017','Education']].astype(float)"
   ]
  },
  {
   "cell_type": "code",
   "execution_count": 46,
   "metadata": {},
   "outputs": [
    {
     "name": "stdout",
     "output_type": "stream",
     "text": [
      "<class 'pandas.core.frame.DataFrame'>\n",
      "Int64Index: 58 entries, 0 to 57\n",
      "Data columns (total 12 columns):\n",
      " #   Column                  Non-Null Count  Dtype  \n",
      "---  ------                  --------------  -----  \n",
      " 0   County                  58 non-null     object \n",
      " 1   Population_2019         58 non-null     int64  \n",
      " 2   Employed_2018           58 non-null     int64  \n",
      " 3   Unemployed_2018         58 non-null     int64  \n",
      " 4   Unemployment_Rate_2018  58 non-null     float64\n",
      " 5   Poverty_AllAge_2017     58 non-null     int64  \n",
      " 6   Poverty_AllAgePct_2017  58 non-null     float64\n",
      " 7   Poverty_U18_2017        58 non-null     int64  \n",
      " 8   Poverty_U18Pct_2017     58 non-null     float64\n",
      " 9   Household_Income_2017   58 non-null     float64\n",
      " 10  Education               58 non-null     float64\n",
      " 11  Caucus                  58 non-null     object \n",
      "dtypes: float64(5), int64(5), object(2)\n",
      "memory usage: 5.9+ KB\n"
     ]
    }
   ],
   "source": [
    "countystats.info()"
   ]
  },
  {
   "cell_type": "code",
   "execution_count": 47,
   "metadata": {
    "scrolled": true
   },
   "outputs": [
    {
     "data": {
      "text/html": [
       "<div>\n",
       "<style scoped>\n",
       "    .dataframe tbody tr th:only-of-type {\n",
       "        vertical-align: middle;\n",
       "    }\n",
       "\n",
       "    .dataframe tbody tr th {\n",
       "        vertical-align: top;\n",
       "    }\n",
       "\n",
       "    .dataframe thead th {\n",
       "        text-align: right;\n",
       "    }\n",
       "</style>\n",
       "<table border=\"1\" class=\"dataframe\">\n",
       "  <thead>\n",
       "    <tr style=\"text-align: right;\">\n",
       "      <th></th>\n",
       "      <th>County</th>\n",
       "      <th>Population_2019</th>\n",
       "      <th>Employed_2018</th>\n",
       "      <th>Unemployed_2018</th>\n",
       "      <th>Unemployment_Rate_2018</th>\n",
       "      <th>Poverty_AllAge_2017</th>\n",
       "      <th>Poverty_AllAgePct_2017</th>\n",
       "      <th>Poverty_U18_2017</th>\n",
       "      <th>Poverty_U18Pct_2017</th>\n",
       "      <th>Household_Income_2017</th>\n",
       "      <th>Education</th>\n",
       "      <th>Caucus</th>\n",
       "    </tr>\n",
       "  </thead>\n",
       "  <tbody>\n",
       "    <tr>\n",
       "      <th>0</th>\n",
       "      <td>Alameda</td>\n",
       "      <td>1669301</td>\n",
       "      <td>822800</td>\n",
       "      <td>25400</td>\n",
       "      <td>3.0</td>\n",
       "      <td>152087</td>\n",
       "      <td>9.3</td>\n",
       "      <td>35658</td>\n",
       "      <td>10.5</td>\n",
       "      <td>95550.0</td>\n",
       "      <td>30350182.0</td>\n",
       "      <td>Urban</td>\n",
       "    </tr>\n",
       "    <tr>\n",
       "      <th>1</th>\n",
       "      <td>Alpine</td>\n",
       "      <td>1162</td>\n",
       "      <td>520</td>\n",
       "      <td>30</td>\n",
       "      <td>4.6</td>\n",
       "      <td>202</td>\n",
       "      <td>18.1</td>\n",
       "      <td>67</td>\n",
       "      <td>35.3</td>\n",
       "      <td>55755.0</td>\n",
       "      <td>545096.0</td>\n",
       "      <td>Rural</td>\n",
       "    </tr>\n",
       "    <tr>\n",
       "      <th>2</th>\n",
       "      <td>Amador</td>\n",
       "      <td>38294</td>\n",
       "      <td>14120</td>\n",
       "      <td>590</td>\n",
       "      <td>4.0</td>\n",
       "      <td>3762</td>\n",
       "      <td>10.9</td>\n",
       "      <td>908</td>\n",
       "      <td>15.7</td>\n",
       "      <td>60588.0</td>\n",
       "      <td>1175318.0</td>\n",
       "      <td>Rural</td>\n",
       "    </tr>\n",
       "    <tr>\n",
       "      <th>3</th>\n",
       "      <td>Butte</td>\n",
       "      <td>226466</td>\n",
       "      <td>97600</td>\n",
       "      <td>5100</td>\n",
       "      <td>4.9</td>\n",
       "      <td>40728</td>\n",
       "      <td>18.1</td>\n",
       "      <td>10208</td>\n",
       "      <td>22.6</td>\n",
       "      <td>48634.0</td>\n",
       "      <td>3793432.0</td>\n",
       "      <td>Suburban</td>\n",
       "    </tr>\n",
       "    <tr>\n",
       "      <th>4</th>\n",
       "      <td>Calaveras</td>\n",
       "      <td>45117</td>\n",
       "      <td>20510</td>\n",
       "      <td>850</td>\n",
       "      <td>4.0</td>\n",
       "      <td>5904</td>\n",
       "      <td>13.1</td>\n",
       "      <td>1590</td>\n",
       "      <td>21.1</td>\n",
       "      <td>58536.0</td>\n",
       "      <td>865248.0</td>\n",
       "      <td>Rural</td>\n",
       "    </tr>\n",
       "  </tbody>\n",
       "</table>\n",
       "</div>"
      ],
      "text/plain": [
       "      County  Population_2019  Employed_2018  Unemployed_2018  \\\n",
       "0    Alameda          1669301         822800            25400   \n",
       "1     Alpine             1162            520               30   \n",
       "2     Amador            38294          14120              590   \n",
       "3      Butte           226466          97600             5100   \n",
       "4  Calaveras            45117          20510              850   \n",
       "\n",
       "   Unemployment_Rate_2018  Poverty_AllAge_2017  Poverty_AllAgePct_2017  \\\n",
       "0                     3.0               152087                     9.3   \n",
       "1                     4.6                  202                    18.1   \n",
       "2                     4.0                 3762                    10.9   \n",
       "3                     4.9                40728                    18.1   \n",
       "4                     4.0                 5904                    13.1   \n",
       "\n",
       "   Poverty_U18_2017  Poverty_U18Pct_2017  Household_Income_2017   Education  \\\n",
       "0             35658                 10.5                95550.0  30350182.0   \n",
       "1                67                 35.3                55755.0    545096.0   \n",
       "2               908                 15.7                60588.0   1175318.0   \n",
       "3             10208                 22.6                48634.0   3793432.0   \n",
       "4              1590                 21.1                58536.0    865248.0   \n",
       "\n",
       "     Caucus  \n",
       "0     Urban  \n",
       "1     Rural  \n",
       "2     Rural  \n",
       "3  Suburban  \n",
       "4     Rural  "
      ]
     },
     "execution_count": 47,
     "metadata": {},
     "output_type": "execute_result"
    }
   ],
   "source": [
    "countystats.head()"
   ]
  },
  {
   "cell_type": "code",
   "execution_count": 48,
   "metadata": {},
   "outputs": [
    {
     "data": {
      "text/html": [
       "<div>\n",
       "<style scoped>\n",
       "    .dataframe tbody tr th:only-of-type {\n",
       "        vertical-align: middle;\n",
       "    }\n",
       "\n",
       "    .dataframe tbody tr th {\n",
       "        vertical-align: top;\n",
       "    }\n",
       "\n",
       "    .dataframe thead th {\n",
       "        text-align: right;\n",
       "    }\n",
       "</style>\n",
       "<table border=\"1\" class=\"dataframe\">\n",
       "  <thead>\n",
       "    <tr style=\"text-align: right;\">\n",
       "      <th></th>\n",
       "      <th>GeoFips</th>\n",
       "      <th>GeoName</th>\n",
       "      <th>2019</th>\n",
       "    </tr>\n",
       "  </thead>\n",
       "  <tbody>\n",
       "    <tr>\n",
       "      <th>0</th>\n",
       "      <td>6001</td>\n",
       "      <td>Alameda</td>\n",
       "      <td>126183638.0</td>\n",
       "    </tr>\n",
       "    <tr>\n",
       "      <th>1</th>\n",
       "      <td>6003</td>\n",
       "      <td>Alpine</td>\n",
       "      <td>104501.0</td>\n",
       "    </tr>\n",
       "    <tr>\n",
       "      <th>2</th>\n",
       "      <td>6005</td>\n",
       "      <td>Amador</td>\n",
       "      <td>1625096.0</td>\n",
       "    </tr>\n",
       "    <tr>\n",
       "      <th>3</th>\n",
       "      <td>6007</td>\n",
       "      <td>Butte</td>\n",
       "      <td>8701260.0</td>\n",
       "    </tr>\n",
       "    <tr>\n",
       "      <th>4</th>\n",
       "      <td>6009</td>\n",
       "      <td>Calaveras</td>\n",
       "      <td>1412753.0</td>\n",
       "    </tr>\n",
       "  </tbody>\n",
       "</table>\n",
       "</div>"
      ],
      "text/plain": [
       "   GeoFips    GeoName         2019\n",
       "0     6001    Alameda  126183638.0\n",
       "1     6003     Alpine     104501.0\n",
       "2     6005     Amador    1625096.0\n",
       "3     6007      Butte    8701260.0\n",
       "4     6009  Calaveras    1412753.0"
      ]
     },
     "execution_count": 48,
     "metadata": {},
     "output_type": "execute_result"
    }
   ],
   "source": [
    "gdpcountyca.head()"
   ]
  },
  {
   "cell_type": "markdown",
   "metadata": {},
   "source": [
    "## Step 7. Rename columns"
   ]
  },
  {
   "cell_type": "code",
   "execution_count": 49,
   "metadata": {},
   "outputs": [],
   "source": [
    "#define the act lists\n",
    "act19_col_list = [\n",
    "    'state',\n",
    "    'act19_part',\n",
    "    'act19_comp'\n",
    "]"
   ]
  },
  {
   "cell_type": "code",
   "execution_count": 50,
   "metadata": {},
   "outputs": [],
   "source": [
    "act19.columns = act19_col_list"
   ]
  },
  {
   "cell_type": "code",
   "execution_count": 51,
   "metadata": {},
   "outputs": [],
   "source": [
    "#define the sat list\n",
    "sat19_col_list = [\n",
    "    'state',\n",
    "    'sat19_part',\n",
    "    'sat19_ebrw',\n",
    "    'sat19_math',\n",
    "    'sat19_total'\n",
    "]"
   ]
  },
  {
   "cell_type": "code",
   "execution_count": 52,
   "metadata": {},
   "outputs": [],
   "source": [
    "sat19.columns = sat19_col_list"
   ]
  },
  {
   "cell_type": "code",
   "execution_count": 55,
   "metadata": {},
   "outputs": [],
   "source": [
    "gdpcountyca_col_list = [\n",
    "    'fips',\n",
    "    'county',\n",
    "    'gdp',\n",
    "]\n",
    "\n",
    "countystats_col_list = [\n",
    "    'county',\n",
    "    'pop',\n",
    "    'employ',\n",
    "    'unemploy',\n",
    "    'unemployrate',\n",
    "    'pov_all',\n",
    "    'pov_all_pct',\n",
    "    'pov_u18',\n",
    "    'pov_u18_pct',\n",
    "    'household',\n",
    "    'education',\n",
    "    'caucus'\n",
    "]"
   ]
  },
  {
   "cell_type": "code",
   "execution_count": 56,
   "metadata": {},
   "outputs": [],
   "source": [
    "gdpcountyca.columns = gdpcountyca_col_list\n",
    "countystats.columns = countystats_col_list"
   ]
  },
  {
   "cell_type": "markdown",
   "metadata": {},
   "source": [
    "## Step 9. Remove unnecessary rows"
   ]
  },
  {
   "cell_type": "code",
   "execution_count": 57,
   "metadata": {},
   "outputs": [],
   "source": [
    "act19 = act19.drop(act19[act19['state']==\"National\"].index) #remove National row\n",
    "sat19 = sat19.drop([39,47],axis=0).reset_index(drop=True) #remove Puerto Rico and Virgin Islands"
   ]
  },
  {
   "cell_type": "markdown",
   "metadata": {},
   "source": [
    "## Step 10. Merge datasets"
   ]
  },
  {
   "cell_type": "markdown",
   "metadata": {},
   "source": [
    "### Merge ACT and SAT files for 2017, 2018, 2019"
   ]
  },
  {
   "cell_type": "code",
   "execution_count": 58,
   "metadata": {},
   "outputs": [],
   "source": [
    "act_sat_merged = pd.merge(act19, sat19, on='state')"
   ]
  },
  {
   "cell_type": "code",
   "execution_count": 59,
   "metadata": {
    "scrolled": true
   },
   "outputs": [
    {
     "name": "stdout",
     "output_type": "stream",
     "text": [
      "<class 'pandas.core.frame.DataFrame'>\n",
      "Int64Index: 51 entries, 0 to 50\n",
      "Data columns (total 7 columns):\n",
      " #   Column       Non-Null Count  Dtype  \n",
      "---  ------       --------------  -----  \n",
      " 0   state        51 non-null     object \n",
      " 1   act19_part   51 non-null     float64\n",
      " 2   act19_comp   51 non-null     float64\n",
      " 3   sat19_part   51 non-null     float64\n",
      " 4   sat19_ebrw   51 non-null     int64  \n",
      " 5   sat19_math   51 non-null     int64  \n",
      " 6   sat19_total  51 non-null     int64  \n",
      "dtypes: float64(3), int64(3), object(1)\n",
      "memory usage: 3.2+ KB\n"
     ]
    }
   ],
   "source": [
    "act_sat_merged.info() #final cleaned dataset"
   ]
  },
  {
   "cell_type": "code",
   "execution_count": 60,
   "metadata": {},
   "outputs": [
    {
     "name": "stdout",
     "output_type": "stream",
     "text": [
      "<class 'pandas.core.frame.DataFrame'>\n",
      "RangeIndex: 58 entries, 0 to 57\n",
      "Data columns (total 9 columns):\n",
      " #   Column                 Non-Null Count  Dtype  \n",
      "---  ------                 --------------  -----  \n",
      " 0   CName                  58 non-null     object \n",
      " 1   Enroll12               58 non-null     float64\n",
      " 2   NumTSTTakr12           58 non-null     float64\n",
      " 3   NumERWBenchmark12      55 non-null     float64\n",
      " 4   PctERWBenchmark12      55 non-null     float64\n",
      " 5   NumMathBenchmark12     55 non-null     float64\n",
      " 6   PctMathBenchmark12     55 non-null     float64\n",
      " 7   TotNumBothBenchmark12  55 non-null     float64\n",
      " 8   PctBothBenchmark12     55 non-null     float64\n",
      "dtypes: float64(8), object(1)\n",
      "memory usage: 4.2+ KB\n"
     ]
    }
   ],
   "source": [
    "sat19ca.info()"
   ]
  },
  {
   "cell_type": "markdown",
   "metadata": {},
   "source": [
    "### Merge SAT and ACT 2019 data for California State"
   ]
  },
  {
   "cell_type": "code",
   "execution_count": 61,
   "metadata": {
    "scrolled": true
   },
   "outputs": [
    {
     "data": {
      "text/html": [
       "<div>\n",
       "<style scoped>\n",
       "    .dataframe tbody tr th:only-of-type {\n",
       "        vertical-align: middle;\n",
       "    }\n",
       "\n",
       "    .dataframe tbody tr th {\n",
       "        vertical-align: top;\n",
       "    }\n",
       "\n",
       "    .dataframe thead th {\n",
       "        text-align: right;\n",
       "    }\n",
       "</style>\n",
       "<table border=\"1\" class=\"dataframe\">\n",
       "  <thead>\n",
       "    <tr style=\"text-align: right;\">\n",
       "      <th></th>\n",
       "      <th>CName</th>\n",
       "      <th>Enroll12</th>\n",
       "      <th>NumTstTakr</th>\n",
       "      <th>AvgScrRead</th>\n",
       "      <th>AvgScrEng</th>\n",
       "      <th>AvgScrMath</th>\n",
       "      <th>AvgScrSci</th>\n",
       "      <th>NumGE21</th>\n",
       "      <th>PctGE21</th>\n",
       "      <th>NumTSTTakr12</th>\n",
       "      <th>NumERWBenchmark12</th>\n",
       "      <th>PctERWBenchmark12</th>\n",
       "      <th>NumMathBenchmark12</th>\n",
       "      <th>PctMathBenchmark12</th>\n",
       "      <th>TotNumBothBenchmark12</th>\n",
       "      <th>PctBothBenchmark12</th>\n",
       "    </tr>\n",
       "  </thead>\n",
       "  <tbody>\n",
       "    <tr>\n",
       "      <th>0</th>\n",
       "      <td>Sacramento</td>\n",
       "      <td>19540.0</td>\n",
       "      <td>3065.0</td>\n",
       "      <td>21.0</td>\n",
       "      <td>20.0</td>\n",
       "      <td>21.0</td>\n",
       "      <td>21.0</td>\n",
       "      <td>1526.0</td>\n",
       "      <td>49.79</td>\n",
       "      <td>6090.0</td>\n",
       "      <td>4138.0</td>\n",
       "      <td>67.95</td>\n",
       "      <td>2945.0</td>\n",
       "      <td>48.36</td>\n",
       "      <td>2779.0</td>\n",
       "      <td>45.63</td>\n",
       "    </tr>\n",
       "    <tr>\n",
       "      <th>1</th>\n",
       "      <td>San Joaquin</td>\n",
       "      <td>11778.0</td>\n",
       "      <td>1348.0</td>\n",
       "      <td>22.0</td>\n",
       "      <td>21.0</td>\n",
       "      <td>21.0</td>\n",
       "      <td>21.0</td>\n",
       "      <td>693.0</td>\n",
       "      <td>51.41</td>\n",
       "      <td>3351.0</td>\n",
       "      <td>2344.0</td>\n",
       "      <td>69.95</td>\n",
       "      <td>1515.0</td>\n",
       "      <td>45.21</td>\n",
       "      <td>1417.0</td>\n",
       "      <td>42.29</td>\n",
       "    </tr>\n",
       "    <tr>\n",
       "      <th>2</th>\n",
       "      <td>Kern</td>\n",
       "      <td>14229.0</td>\n",
       "      <td>1257.0</td>\n",
       "      <td>21.0</td>\n",
       "      <td>20.0</td>\n",
       "      <td>20.0</td>\n",
       "      <td>20.0</td>\n",
       "      <td>544.0</td>\n",
       "      <td>43.28</td>\n",
       "      <td>3793.0</td>\n",
       "      <td>2334.0</td>\n",
       "      <td>61.53</td>\n",
       "      <td>1481.0</td>\n",
       "      <td>39.05</td>\n",
       "      <td>1364.0</td>\n",
       "      <td>35.96</td>\n",
       "    </tr>\n",
       "    <tr>\n",
       "      <th>3</th>\n",
       "      <td>Shasta</td>\n",
       "      <td>2161.0</td>\n",
       "      <td>173.0</td>\n",
       "      <td>26.0</td>\n",
       "      <td>24.0</td>\n",
       "      <td>24.0</td>\n",
       "      <td>24.0</td>\n",
       "      <td>131.0</td>\n",
       "      <td>75.72</td>\n",
       "      <td>386.0</td>\n",
       "      <td>330.0</td>\n",
       "      <td>85.49</td>\n",
       "      <td>256.0</td>\n",
       "      <td>66.32</td>\n",
       "      <td>246.0</td>\n",
       "      <td>63.73</td>\n",
       "    </tr>\n",
       "    <tr>\n",
       "      <th>4</th>\n",
       "      <td>Sutter</td>\n",
       "      <td>1827.0</td>\n",
       "      <td>196.0</td>\n",
       "      <td>23.0</td>\n",
       "      <td>22.0</td>\n",
       "      <td>22.0</td>\n",
       "      <td>22.0</td>\n",
       "      <td>117.0</td>\n",
       "      <td>59.69</td>\n",
       "      <td>359.0</td>\n",
       "      <td>297.0</td>\n",
       "      <td>82.73</td>\n",
       "      <td>189.0</td>\n",
       "      <td>52.65</td>\n",
       "      <td>187.0</td>\n",
       "      <td>52.09</td>\n",
       "    </tr>\n",
       "  </tbody>\n",
       "</table>\n",
       "</div>"
      ],
      "text/plain": [
       "         CName  Enroll12  NumTstTakr  AvgScrRead  AvgScrEng  AvgScrMath  \\\n",
       "0   Sacramento   19540.0      3065.0        21.0       20.0        21.0   \n",
       "1  San Joaquin   11778.0      1348.0        22.0       21.0        21.0   \n",
       "2         Kern   14229.0      1257.0        21.0       20.0        20.0   \n",
       "3       Shasta    2161.0       173.0        26.0       24.0        24.0   \n",
       "4       Sutter    1827.0       196.0        23.0       22.0        22.0   \n",
       "\n",
       "   AvgScrSci  NumGE21  PctGE21  NumTSTTakr12  NumERWBenchmark12  \\\n",
       "0       21.0   1526.0    49.79        6090.0             4138.0   \n",
       "1       21.0    693.0    51.41        3351.0             2344.0   \n",
       "2       20.0    544.0    43.28        3793.0             2334.0   \n",
       "3       24.0    131.0    75.72         386.0              330.0   \n",
       "4       22.0    117.0    59.69         359.0              297.0   \n",
       "\n",
       "   PctERWBenchmark12  NumMathBenchmark12  PctMathBenchmark12  \\\n",
       "0              67.95              2945.0               48.36   \n",
       "1              69.95              1515.0               45.21   \n",
       "2              61.53              1481.0               39.05   \n",
       "3              85.49               256.0               66.32   \n",
       "4              82.73               189.0               52.65   \n",
       "\n",
       "   TotNumBothBenchmark12  PctBothBenchmark12  \n",
       "0                 2779.0               45.63  \n",
       "1                 1417.0               42.29  \n",
       "2                 1364.0               35.96  \n",
       "3                  246.0               63.73  \n",
       "4                  187.0               52.09  "
      ]
     },
     "execution_count": 61,
     "metadata": {},
     "output_type": "execute_result"
    }
   ],
   "source": [
    "#join act19ca and sat19ca files into one dataframe\n",
    "sat19ca.drop(['Enroll12'],axis=1,inplace=True)\n",
    "actsat19ca = pd.merge(act19ca, sat19ca, on='CName')\n",
    "actsat19ca.head()"
   ]
  },
  {
   "cell_type": "markdown",
   "metadata": {},
   "source": [
    "### Merge GDP and County Stats data"
   ]
  },
  {
   "cell_type": "code",
   "execution_count": 62,
   "metadata": {},
   "outputs": [
    {
     "name": "stdout",
     "output_type": "stream",
     "text": [
      "<class 'pandas.core.frame.DataFrame'>\n",
      "RangeIndex: 58 entries, 0 to 57\n",
      "Data columns (total 3 columns):\n",
      " #   Column  Non-Null Count  Dtype  \n",
      "---  ------  --------------  -----  \n",
      " 0   fips    58 non-null     int64  \n",
      " 1   county  58 non-null     object \n",
      " 2   gdp     58 non-null     float64\n",
      "dtypes: float64(1), int64(1), object(1)\n",
      "memory usage: 1.5+ KB\n"
     ]
    }
   ],
   "source": [
    "gdpcountyca.info()"
   ]
  },
  {
   "cell_type": "code",
   "execution_count": 63,
   "metadata": {
    "scrolled": true
   },
   "outputs": [],
   "source": [
    "ca_county_stats = pd.merge(gdpcountyca, countystats, on='county')"
   ]
  },
  {
   "cell_type": "code",
   "execution_count": 64,
   "metadata": {},
   "outputs": [
    {
     "name": "stdout",
     "output_type": "stream",
     "text": [
      "<class 'pandas.core.frame.DataFrame'>\n",
      "Int64Index: 58 entries, 0 to 57\n",
      "Data columns (total 14 columns):\n",
      " #   Column        Non-Null Count  Dtype  \n",
      "---  ------        --------------  -----  \n",
      " 0   fips          58 non-null     int64  \n",
      " 1   county        58 non-null     object \n",
      " 2   gdp           58 non-null     float64\n",
      " 3   pop           58 non-null     int64  \n",
      " 4   employ        58 non-null     int64  \n",
      " 5   unemploy      58 non-null     int64  \n",
      " 6   unemployrate  58 non-null     float64\n",
      " 7   pov_all       58 non-null     int64  \n",
      " 8   pov_all_pct   58 non-null     float64\n",
      " 9   pov_u18       58 non-null     int64  \n",
      " 10  pov_u18_pct   58 non-null     float64\n",
      " 11  household     58 non-null     float64\n",
      " 12  education     58 non-null     float64\n",
      " 13  caucus        58 non-null     object \n",
      "dtypes: float64(6), int64(6), object(2)\n",
      "memory usage: 6.8+ KB\n"
     ]
    }
   ],
   "source": [
    "ca_county_stats.info()"
   ]
  },
  {
   "cell_type": "markdown",
   "metadata": {},
   "source": [
    "## Step 11. Save to csv file"
   ]
  },
  {
   "cell_type": "code",
   "execution_count": 65,
   "metadata": {},
   "outputs": [],
   "source": [
    "act_sat_merged.to_csv('../data/act_sat_merged.csv')\n",
    "actsat19ca.to_csv('../data/actsat19ca.csv')\n",
    "ca_county_stats.to_csv('../data/ca_county_stats.csv')"
   ]
  },
  {
   "cell_type": "markdown",
   "metadata": {},
   "source": [
    "### Data Dictionary\n",
    "\n",
    "Now that we've fixed our data, and given it appropriate names, let's create a [data dictionary](http://library.ucmerced.edu/node/10249). \n",
    "\n",
    "A data dictionary provides a quick overview of features/variables/columns, alongside data types and descriptions. The more descriptive you can be, the more useful this document is.\n",
    "\n",
    "Example of a Fictional Data Dictionary Entry: \n",
    "\n",
    "|Feature|Type|Dataset|Description|\n",
    "|---|---|---|---|\n",
    "|**county_pop**|*integer*|2010 census|The population of the county (units in thousands, where 2.5 represents 2500 people).| \n",
    "|**per_poverty**|*float*|2010 census|The percent of the county over the age of 18 living below the 200% of official US poverty rate (units percent to two decimal places 98.10 means 98.1%)|\n",
    "\n",
    "[Here's a quick link to a short guide for formatting markdown in Jupyter notebooks](https://jupyter-notebook.readthedocs.io/en/stable/examples/Notebook/Working%20With%20Markdown%20Cells.html).\n",
    "\n",
    "Provided is the skeleton for formatting a markdown table, with columns headers that will help you create a data dictionary to quickly summarize your data, as well as some examples. **This would be a great thing to copy and paste into your custom README for this project.**\n",
    "\n",
    "*Note*: if you are unsure of what a feature is, check the source of the data! This can be found in the README."
   ]
  },
  {
   "cell_type": "markdown",
   "metadata": {},
   "source": [
    "**To-Do:** *Edit the table below to create your own data dictionary for the datasets you chose.*\n",
    "\n",
    "|Feature|Type|Dataset|Description|\n",
    "|---|---|---|---|\n",
    "|column name|int/float/object|ACT/SAT|This is an example| \n"
   ]
  },
  {
   "cell_type": "markdown",
   "metadata": {},
   "source": [
    "**Data Dictionary for ACT 2019, SAT 2019**\n",
    " \n",
    "|Feature|Type|Dataset|Description|\n",
    "|---|---|---|---|\n",
    "|state|obj|ACT/SAT|State|\n",
    "|sat19_part|float64|ACT/SAT|Statewide SAT Participation Rate, 2019| \n",
    "|sat19_ebrw|int64|ACT/SAT|State mean score, SAT Reading/Writing (200-800), 2019| \n",
    "|sat19_math|int64|ACT/SAT|State mean score, SAT Math (200-800), 2019| \n",
    "|sat19_total|int64|ACT/SAT|State mean total SAT score (400-1600), 2019| \n",
    "|act19_part|float64|ACT/SAT|Statewide ACT Participation Rate, 2019| \n",
    "|act19_eng|float64|ACT/SAT|State mean score, ACT English (1-36), 2019| \n",
    "|act19_math|float64|ACT/SAT|State mean score, ACT English (1-36), 2019| \n",
    "|act19_read|float64|ACT/SAT|State mean score, ACT Reading (1-36), 2019| \n",
    "|act19_sci|float64|ACT/SAT|State mean score, ACT Science (1-36), 2019| \n",
    "|act19_comp|float64|ACT/SAT|State mean ACT Composite Score (1-36), 2019|"
   ]
  },
  {
   "cell_type": "markdown",
   "metadata": {},
   "source": [
    "**Data Dictionary for ACT 2019 California**\n",
    " \n",
    "|Feature|Type|Dataset|Description|\n",
    "|---|---|---|---|\n",
    "|cds|obj|ACT 2019 CA|County/District/School Code|\n",
    "|ccode|float64|ACT 2019 CA|County Code| \n",
    "|cname|int64|ACT 2019 CA|County Name| \n",
    "|enroll|int64|ACT 2019 CA|Enrollment of Grade 12| \n",
    "|num_tst_takr|int64|ACT 2019 CA|Number of Test Takers of Grade 12| \n",
    "|avg_scr_read|float64|ACT 2019 CA|State mean score, ACT Reading (1-36), 2019| \n",
    "|avg_scr_eng|float64|ACT 2019 CA|State mean score, ACT English (1-36), 2019| \n",
    "|avg_scr_math|float64|ACT 2019 CA|State mean score, ACT Math (1-36), 2019| \n",
    "|avg_scr_sci|float64|ACT 2019 CA|State mean score, ACT Science (1-36), 2019| \n",
    "|num_ge_21|float64|ACT 2019 CA|Number of Test Takers Whose ACT Composite Scores Are Greater or Equal to 21| \n",
    "|pct_ge_21|float64|ACT 2019 CA|Percent of Test Takers Whose ACT Composite Scores Are Greater or Equal to 21|\n",
    "|year|float64|ACT 2019 CA|Test Administration Academic Year|"
   ]
  },
  {
   "cell_type": "markdown",
   "metadata": {},
   "source": [
    "**Data Dictionary for SAT 2019 California**\n",
    " \n",
    "|Feature|Type|Dataset|Description|\n",
    "|---|---|---|---|\n",
    "|cds|obj|SAT 2019 CA|County/District/School Code|\n",
    "|ccode|float64|SAT 2019 CA|County Code| \n",
    "|cname|int64|SAT 2019 CA|County Name| \n",
    "|enroll|int64|SAT 2019 CA|Enrollment of Grade 12| \n",
    "|num_tst_takr|int64|SAT 2019 CA|Number of Test Takers of Grade 12| \n",
    "|num_erw_bm|float64|SAT 2019 CA|The number of students who met or exceeded the benchmark for Evidence-Based Reading & Writing (ERW)| \n",
    "|pct_erw_bm|float64|SAT 2019 CA|The percent of students who met or exceeded the benchmark for Evidence-Based Reading & Writing (ERW)| \n",
    "|num_math_bm|float64|SAT 2019 CA|The number of students who met or exceeded the benchmark for SAT Math test| \n",
    "|pct_math_bm|float64|SAT 2019 CA|The percent of students who met or exceeded the benchmark for SAT Math test| \n",
    "|tot_num_both_bm|float64|SAT 2019 CA|The total number of students who met the benchmark of both Evidence-Based Reading & Writing (ERW) and Math| \n",
    "|pct_both_bm|float64|SAT 2019 CA|The percent of students who met the benchmark of both Evidence-Based Reading & Writing (ERW) and Math), 2019|\n",
    "|year|float64|SAT 2019 CA|Test Administration Academic Year|"
   ]
  },
  {
   "cell_type": "markdown",
   "metadata": {},
   "source": [
    "## Exploratory Data Analysis\n",
    "\n",
    "Complete the following steps to explore your data. You are welcome to do more EDA than the steps outlined here as you feel necessary:\n",
    "1. Summary Statistics.\n",
    "2. Use a **dictionary comprehension** to apply the standard deviation function you create in part 1 to each numeric column in the dataframe.  **No loops**.\n",
    "    - Assign the output to variable `sd` as a dictionary where: \n",
    "        - Each column name is now a key \n",
    "        - That standard deviation of the column is the value \n",
    "        - *Example Output :* `{'ACT_Math': 120, 'ACT_Reading': 120, ...}`\n",
    "3. Investigate trends in the data.\n",
    "    - Using sorting and/or masking (along with the `.head()` method to avoid printing our entire dataframe), consider questions relevant to your problem statement. Some examples are provided below (but feel free to change these questions for your specific problem):\n",
    "        - Which states have the highest and lowest participation rates for the 2017, 2019, or 2019 SAT and ACT?\n",
    "        - Which states have the highest and lowest mean total/composite scores for the 2017, 2019, or 2019 SAT and ACT?\n",
    "        - Do any states with 100% participation on a given test have a rate change year-to-year?\n",
    "        - Do any states show have >50% participation on *both* tests each year?\n",
    "        - Which colleges have the highest median SAT and ACT scores for admittance?\n",
    "        - Which California school districts have the highest and lowest mean test scores?\n",
    "    - **You should comment on your findings at each step in a markdown cell below your code block**. Make sure you include at least one example of sorting your dataframe by a column, and one example of using boolean filtering (i.e., masking) to select a subset of the dataframe."
   ]
  },
  {
   "cell_type": "markdown",
   "metadata": {},
   "source": [
    "**To-Do:** *Edit this cell with your findings on trends in the data (step 3 above).*"
   ]
  },
  {
   "cell_type": "code",
   "execution_count": 66,
   "metadata": {},
   "outputs": [
    {
     "data": {
      "text/plain": [
       "{'act19_part': 0.342,\n",
       " 'act19_comp': 2.173,\n",
       " 'sat19_part': 0.384,\n",
       " 'sat19_ebrw': 45.792,\n",
       " 'sat19_math': 50.785,\n",
       " 'sat19_total': 96.24}"
      ]
     },
     "execution_count": 66,
     "metadata": {},
     "output_type": "execute_result"
    }
   ],
   "source": [
    "sd = {col : round(manual_std(act_sat_merged[col]),3) for col in act_sat_merged.columns if act_sat_merged[col].dtypes != object}\n",
    "sd"
   ]
  },
  {
   "cell_type": "markdown",
   "metadata": {},
   "source": [
    "### States with the highest ACT participation rates"
   ]
  },
  {
   "cell_type": "code",
   "execution_count": 67,
   "metadata": {},
   "outputs": [
    {
     "data": {
      "text/html": [
       "<div>\n",
       "<style scoped>\n",
       "    .dataframe tbody tr th:only-of-type {\n",
       "        vertical-align: middle;\n",
       "    }\n",
       "\n",
       "    .dataframe tbody tr th {\n",
       "        vertical-align: top;\n",
       "    }\n",
       "\n",
       "    .dataframe thead th {\n",
       "        text-align: right;\n",
       "    }\n",
       "</style>\n",
       "<table border=\"1\" class=\"dataframe\">\n",
       "  <thead>\n",
       "    <tr style=\"text-align: right;\">\n",
       "      <th></th>\n",
       "      <th>state</th>\n",
       "      <th>act19_part</th>\n",
       "    </tr>\n",
       "  </thead>\n",
       "  <tbody>\n",
       "    <tr>\n",
       "      <th>0</th>\n",
       "      <td>Alabama</td>\n",
       "      <td>1.0</td>\n",
       "    </tr>\n",
       "    <tr>\n",
       "      <th>17</th>\n",
       "      <td>Kentucky</td>\n",
       "      <td>1.0</td>\n",
       "    </tr>\n",
       "    <tr>\n",
       "      <th>49</th>\n",
       "      <td>Wisconsin</td>\n",
       "      <td>1.0</td>\n",
       "    </tr>\n",
       "    <tr>\n",
       "      <th>44</th>\n",
       "      <td>Utah</td>\n",
       "      <td>1.0</td>\n",
       "    </tr>\n",
       "    <tr>\n",
       "      <th>42</th>\n",
       "      <td>Tennessee</td>\n",
       "      <td>1.0</td>\n",
       "    </tr>\n",
       "  </tbody>\n",
       "</table>\n",
       "</div>"
      ],
      "text/plain": [
       "        state  act19_part\n",
       "0     Alabama         1.0\n",
       "17   Kentucky         1.0\n",
       "49  Wisconsin         1.0\n",
       "44       Utah         1.0\n",
       "42  Tennessee         1.0"
      ]
     },
     "execution_count": 67,
     "metadata": {},
     "output_type": "execute_result"
    }
   ],
   "source": [
    "act_sat_merged[['state','act19_part']].sort_values('act19_part',ascending=False).head()"
   ]
  },
  {
   "cell_type": "markdown",
   "metadata": {},
   "source": [
    "### States with the lowest ACT participation rates"
   ]
  },
  {
   "cell_type": "code",
   "execution_count": 68,
   "metadata": {
    "scrolled": true
   },
   "outputs": [
    {
     "data": {
      "text/html": [
       "<div>\n",
       "<style scoped>\n",
       "    .dataframe tbody tr th:only-of-type {\n",
       "        vertical-align: middle;\n",
       "    }\n",
       "\n",
       "    .dataframe tbody tr th {\n",
       "        vertical-align: top;\n",
       "    }\n",
       "\n",
       "    .dataframe thead th {\n",
       "        text-align: right;\n",
       "    }\n",
       "</style>\n",
       "<table border=\"1\" class=\"dataframe\">\n",
       "  <thead>\n",
       "    <tr style=\"text-align: right;\">\n",
       "      <th></th>\n",
       "      <th>state</th>\n",
       "      <th>act19_part</th>\n",
       "    </tr>\n",
       "  </thead>\n",
       "  <tbody>\n",
       "    <tr>\n",
       "      <th>19</th>\n",
       "      <td>Maine</td>\n",
       "      <td>0.06</td>\n",
       "    </tr>\n",
       "    <tr>\n",
       "      <th>39</th>\n",
       "      <td>Rhode Island</td>\n",
       "      <td>0.12</td>\n",
       "    </tr>\n",
       "    <tr>\n",
       "      <th>7</th>\n",
       "      <td>Delaware</td>\n",
       "      <td>0.13</td>\n",
       "    </tr>\n",
       "    <tr>\n",
       "      <th>29</th>\n",
       "      <td>New Hampshire</td>\n",
       "      <td>0.14</td>\n",
       "    </tr>\n",
       "    <tr>\n",
       "      <th>38</th>\n",
       "      <td>Pennsylvania</td>\n",
       "      <td>0.17</td>\n",
       "    </tr>\n",
       "  </tbody>\n",
       "</table>\n",
       "</div>"
      ],
      "text/plain": [
       "            state  act19_part\n",
       "19          Maine        0.06\n",
       "39   Rhode Island        0.12\n",
       "7        Delaware        0.13\n",
       "29  New Hampshire        0.14\n",
       "38   Pennsylvania        0.17"
      ]
     },
     "execution_count": 68,
     "metadata": {},
     "output_type": "execute_result"
    }
   ],
   "source": [
    "act_sat_merged[['state','act19_part']].sort_values('act19_part').head()"
   ]
  },
  {
   "cell_type": "markdown",
   "metadata": {},
   "source": [
    "### States with the highest SAT participation rates"
   ]
  },
  {
   "cell_type": "code",
   "execution_count": 69,
   "metadata": {
    "scrolled": true
   },
   "outputs": [
    {
     "data": {
      "text/html": [
       "<div>\n",
       "<style scoped>\n",
       "    .dataframe tbody tr th:only-of-type {\n",
       "        vertical-align: middle;\n",
       "    }\n",
       "\n",
       "    .dataframe tbody tr th {\n",
       "        vertical-align: top;\n",
       "    }\n",
       "\n",
       "    .dataframe thead th {\n",
       "        text-align: right;\n",
       "    }\n",
       "</style>\n",
       "<table border=\"1\" class=\"dataframe\">\n",
       "  <thead>\n",
       "    <tr style=\"text-align: right;\">\n",
       "      <th></th>\n",
       "      <th>state</th>\n",
       "      <th>sat19_part</th>\n",
       "    </tr>\n",
       "  </thead>\n",
       "  <tbody>\n",
       "    <tr>\n",
       "      <th>39</th>\n",
       "      <td>Rhode Island</td>\n",
       "      <td>1.0</td>\n",
       "    </tr>\n",
       "    <tr>\n",
       "      <th>13</th>\n",
       "      <td>Illinois</td>\n",
       "      <td>1.0</td>\n",
       "    </tr>\n",
       "    <tr>\n",
       "      <th>22</th>\n",
       "      <td>Michigan</td>\n",
       "      <td>1.0</td>\n",
       "    </tr>\n",
       "    <tr>\n",
       "      <th>5</th>\n",
       "      <td>Colorado</td>\n",
       "      <td>1.0</td>\n",
       "    </tr>\n",
       "    <tr>\n",
       "      <th>6</th>\n",
       "      <td>Connecticut</td>\n",
       "      <td>1.0</td>\n",
       "    </tr>\n",
       "  </tbody>\n",
       "</table>\n",
       "</div>"
      ],
      "text/plain": [
       "           state  sat19_part\n",
       "39  Rhode Island         1.0\n",
       "13      Illinois         1.0\n",
       "22      Michigan         1.0\n",
       "5       Colorado         1.0\n",
       "6    Connecticut         1.0"
      ]
     },
     "execution_count": 69,
     "metadata": {},
     "output_type": "execute_result"
    }
   ],
   "source": [
    "act_sat_merged[['state','sat19_part']].sort_values('sat19_part',ascending=False).head()"
   ]
  },
  {
   "cell_type": "markdown",
   "metadata": {},
   "source": [
    "### States with the lowest SAT participation rates"
   ]
  },
  {
   "cell_type": "code",
   "execution_count": 70,
   "metadata": {},
   "outputs": [
    {
     "data": {
      "text/html": [
       "<div>\n",
       "<style scoped>\n",
       "    .dataframe tbody tr th:only-of-type {\n",
       "        vertical-align: middle;\n",
       "    }\n",
       "\n",
       "    .dataframe tbody tr th {\n",
       "        vertical-align: top;\n",
       "    }\n",
       "\n",
       "    .dataframe thead th {\n",
       "        text-align: right;\n",
       "    }\n",
       "</style>\n",
       "<table border=\"1\" class=\"dataframe\">\n",
       "  <thead>\n",
       "    <tr style=\"text-align: right;\">\n",
       "      <th></th>\n",
       "      <th>state</th>\n",
       "      <th>sat19_part</th>\n",
       "    </tr>\n",
       "  </thead>\n",
       "  <tbody>\n",
       "    <tr>\n",
       "      <th>34</th>\n",
       "      <td>North Dakota</td>\n",
       "      <td>0.02</td>\n",
       "    </tr>\n",
       "    <tr>\n",
       "      <th>50</th>\n",
       "      <td>Wyoming</td>\n",
       "      <td>0.03</td>\n",
       "    </tr>\n",
       "    <tr>\n",
       "      <th>41</th>\n",
       "      <td>South Dakota</td>\n",
       "      <td>0.03</td>\n",
       "    </tr>\n",
       "    <tr>\n",
       "      <th>27</th>\n",
       "      <td>Nebraska</td>\n",
       "      <td>0.03</td>\n",
       "    </tr>\n",
       "    <tr>\n",
       "      <th>49</th>\n",
       "      <td>Wisconsin</td>\n",
       "      <td>0.03</td>\n",
       "    </tr>\n",
       "  </tbody>\n",
       "</table>\n",
       "</div>"
      ],
      "text/plain": [
       "           state  sat19_part\n",
       "34  North Dakota        0.02\n",
       "50       Wyoming        0.03\n",
       "41  South Dakota        0.03\n",
       "27      Nebraska        0.03\n",
       "49     Wisconsin        0.03"
      ]
     },
     "execution_count": 70,
     "metadata": {},
     "output_type": "execute_result"
    }
   ],
   "source": [
    "act_sat_merged[['state','sat19_part']].sort_values('sat19_part').head()"
   ]
  },
  {
   "cell_type": "markdown",
   "metadata": {},
   "source": [
    "### States with the highest ACT scores"
   ]
  },
  {
   "cell_type": "code",
   "execution_count": 71,
   "metadata": {
    "scrolled": false
   },
   "outputs": [
    {
     "data": {
      "text/html": [
       "<div>\n",
       "<style scoped>\n",
       "    .dataframe tbody tr th:only-of-type {\n",
       "        vertical-align: middle;\n",
       "    }\n",
       "\n",
       "    .dataframe tbody tr th {\n",
       "        vertical-align: top;\n",
       "    }\n",
       "\n",
       "    .dataframe thead th {\n",
       "        text-align: right;\n",
       "    }\n",
       "</style>\n",
       "<table border=\"1\" class=\"dataframe\">\n",
       "  <thead>\n",
       "    <tr style=\"text-align: right;\">\n",
       "      <th></th>\n",
       "      <th>state</th>\n",
       "      <th>act19_comp</th>\n",
       "    </tr>\n",
       "  </thead>\n",
       "  <tbody>\n",
       "    <tr>\n",
       "      <th>21</th>\n",
       "      <td>Massachusetts</td>\n",
       "      <td>25.5</td>\n",
       "    </tr>\n",
       "    <tr>\n",
       "      <th>6</th>\n",
       "      <td>Connecticut</td>\n",
       "      <td>25.5</td>\n",
       "    </tr>\n",
       "    <tr>\n",
       "      <th>29</th>\n",
       "      <td>New Hampshire</td>\n",
       "      <td>25.0</td>\n",
       "    </tr>\n",
       "    <tr>\n",
       "      <th>39</th>\n",
       "      <td>Rhode Island</td>\n",
       "      <td>24.7</td>\n",
       "    </tr>\n",
       "    <tr>\n",
       "      <th>32</th>\n",
       "      <td>New York</td>\n",
       "      <td>24.5</td>\n",
       "    </tr>\n",
       "  </tbody>\n",
       "</table>\n",
       "</div>"
      ],
      "text/plain": [
       "            state  act19_comp\n",
       "21  Massachusetts        25.5\n",
       "6     Connecticut        25.5\n",
       "29  New Hampshire        25.0\n",
       "39   Rhode Island        24.7\n",
       "32       New York        24.5"
      ]
     },
     "execution_count": 71,
     "metadata": {},
     "output_type": "execute_result"
    }
   ],
   "source": [
    "act_sat_merged[['state','act19_comp']].sort_values('act19_comp',ascending=False).head()"
   ]
  },
  {
   "cell_type": "markdown",
   "metadata": {},
   "source": [
    "### States with the lowest ACT scores"
   ]
  },
  {
   "cell_type": "code",
   "execution_count": 72,
   "metadata": {},
   "outputs": [
    {
     "data": {
      "text/html": [
       "<div>\n",
       "<style scoped>\n",
       "    .dataframe tbody tr th:only-of-type {\n",
       "        vertical-align: middle;\n",
       "    }\n",
       "\n",
       "    .dataframe tbody tr th {\n",
       "        vertical-align: top;\n",
       "    }\n",
       "\n",
       "    .dataframe thead th {\n",
       "        text-align: right;\n",
       "    }\n",
       "</style>\n",
       "<table border=\"1\" class=\"dataframe\">\n",
       "  <thead>\n",
       "    <tr style=\"text-align: right;\">\n",
       "      <th></th>\n",
       "      <th>state</th>\n",
       "      <th>act19_comp</th>\n",
       "    </tr>\n",
       "  </thead>\n",
       "  <tbody>\n",
       "    <tr>\n",
       "      <th>28</th>\n",
       "      <td>Nevada</td>\n",
       "      <td>17.9</td>\n",
       "    </tr>\n",
       "    <tr>\n",
       "      <th>24</th>\n",
       "      <td>Mississippi</td>\n",
       "      <td>18.4</td>\n",
       "    </tr>\n",
       "    <tr>\n",
       "      <th>40</th>\n",
       "      <td>South Carolina</td>\n",
       "      <td>18.8</td>\n",
       "    </tr>\n",
       "    <tr>\n",
       "      <th>18</th>\n",
       "      <td>Louisiana</td>\n",
       "      <td>18.8</td>\n",
       "    </tr>\n",
       "    <tr>\n",
       "      <th>0</th>\n",
       "      <td>Alabama</td>\n",
       "      <td>18.9</td>\n",
       "    </tr>\n",
       "  </tbody>\n",
       "</table>\n",
       "</div>"
      ],
      "text/plain": [
       "             state  act19_comp\n",
       "28          Nevada        17.9\n",
       "24     Mississippi        18.4\n",
       "40  South Carolina        18.8\n",
       "18       Louisiana        18.8\n",
       "0          Alabama        18.9"
      ]
     },
     "execution_count": 72,
     "metadata": {},
     "output_type": "execute_result"
    }
   ],
   "source": [
    "act_sat_merged[['state','act19_comp']].sort_values('act19_comp').head()"
   ]
  },
  {
   "cell_type": "markdown",
   "metadata": {},
   "source": [
    "### States with highest SAT total scores"
   ]
  },
  {
   "cell_type": "code",
   "execution_count": 73,
   "metadata": {
    "scrolled": true
   },
   "outputs": [
    {
     "data": {
      "text/html": [
       "<div>\n",
       "<style scoped>\n",
       "    .dataframe tbody tr th:only-of-type {\n",
       "        vertical-align: middle;\n",
       "    }\n",
       "\n",
       "    .dataframe tbody tr th {\n",
       "        vertical-align: top;\n",
       "    }\n",
       "\n",
       "    .dataframe thead th {\n",
       "        text-align: right;\n",
       "    }\n",
       "</style>\n",
       "<table border=\"1\" class=\"dataframe\">\n",
       "  <thead>\n",
       "    <tr style=\"text-align: right;\">\n",
       "      <th></th>\n",
       "      <th>state</th>\n",
       "      <th>sat19_total</th>\n",
       "    </tr>\n",
       "  </thead>\n",
       "  <tbody>\n",
       "    <tr>\n",
       "      <th>23</th>\n",
       "      <td>Minnesota</td>\n",
       "      <td>1284</td>\n",
       "    </tr>\n",
       "    <tr>\n",
       "      <th>49</th>\n",
       "      <td>Wisconsin</td>\n",
       "      <td>1283</td>\n",
       "    </tr>\n",
       "    <tr>\n",
       "      <th>41</th>\n",
       "      <td>South Dakota</td>\n",
       "      <td>1268</td>\n",
       "    </tr>\n",
       "    <tr>\n",
       "      <th>34</th>\n",
       "      <td>North Dakota</td>\n",
       "      <td>1263</td>\n",
       "    </tr>\n",
       "    <tr>\n",
       "      <th>27</th>\n",
       "      <td>Nebraska</td>\n",
       "      <td>1260</td>\n",
       "    </tr>\n",
       "  </tbody>\n",
       "</table>\n",
       "</div>"
      ],
      "text/plain": [
       "           state  sat19_total\n",
       "23     Minnesota         1284\n",
       "49     Wisconsin         1283\n",
       "41  South Dakota         1268\n",
       "34  North Dakota         1263\n",
       "27      Nebraska         1260"
      ]
     },
     "execution_count": 73,
     "metadata": {},
     "output_type": "execute_result"
    }
   ],
   "source": [
    "act_sat_merged[['state','sat19_total']].sort_values('sat19_total',ascending=False).head()"
   ]
  },
  {
   "cell_type": "markdown",
   "metadata": {},
   "source": [
    "### States with lowest SAT total scores"
   ]
  },
  {
   "cell_type": "code",
   "execution_count": 74,
   "metadata": {},
   "outputs": [
    {
     "data": {
      "text/html": [
       "<div>\n",
       "<style scoped>\n",
       "    .dataframe tbody tr th:only-of-type {\n",
       "        vertical-align: middle;\n",
       "    }\n",
       "\n",
       "    .dataframe tbody tr th {\n",
       "        vertical-align: top;\n",
       "    }\n",
       "\n",
       "    .dataframe thead th {\n",
       "        text-align: right;\n",
       "    }\n",
       "</style>\n",
       "<table border=\"1\" class=\"dataframe\">\n",
       "  <thead>\n",
       "    <tr style=\"text-align: right;\">\n",
       "      <th></th>\n",
       "      <th>state</th>\n",
       "      <th>sat19_total</th>\n",
       "    </tr>\n",
       "  </thead>\n",
       "  <tbody>\n",
       "    <tr>\n",
       "      <th>48</th>\n",
       "      <td>West Virginia</td>\n",
       "      <td>943</td>\n",
       "    </tr>\n",
       "    <tr>\n",
       "      <th>36</th>\n",
       "      <td>Oklahoma</td>\n",
       "      <td>963</td>\n",
       "    </tr>\n",
       "    <tr>\n",
       "      <th>8</th>\n",
       "      <td>District of Columbia</td>\n",
       "      <td>975</td>\n",
       "    </tr>\n",
       "    <tr>\n",
       "      <th>7</th>\n",
       "      <td>Delaware</td>\n",
       "      <td>985</td>\n",
       "    </tr>\n",
       "    <tr>\n",
       "      <th>12</th>\n",
       "      <td>Idaho</td>\n",
       "      <td>993</td>\n",
       "    </tr>\n",
       "  </tbody>\n",
       "</table>\n",
       "</div>"
      ],
      "text/plain": [
       "                   state  sat19_total\n",
       "48         West Virginia          943\n",
       "36              Oklahoma          963\n",
       "8   District of Columbia          975\n",
       "7               Delaware          985\n",
       "12                 Idaho          993"
      ]
     },
     "execution_count": 74,
     "metadata": {},
     "output_type": "execute_result"
    }
   ],
   "source": [
    "act_sat_merged[['state','sat19_total']].sort_values('sat19_total').head()"
   ]
  },
  {
   "cell_type": "markdown",
   "metadata": {},
   "source": [
    "### Data exploratory with GDP, employment, poverty, household income and education data"
   ]
  },
  {
   "cell_type": "code",
   "execution_count": 75,
   "metadata": {},
   "outputs": [],
   "source": [
    "ca_county_stats['gdppercap'] = round(ca_county_stats['gdp']/ca_county_stats['pop'],2)\n",
    "ca_county_stats['edupercap'] = round(ca_county_stats['education']/ca_county_stats['pop'],2)"
   ]
  },
  {
   "cell_type": "code",
   "execution_count": 76,
   "metadata": {
    "scrolled": false
   },
   "outputs": [
    {
     "data": {
      "text/html": [
       "<div>\n",
       "<style scoped>\n",
       "    .dataframe tbody tr th:only-of-type {\n",
       "        vertical-align: middle;\n",
       "    }\n",
       "\n",
       "    .dataframe tbody tr th {\n",
       "        vertical-align: top;\n",
       "    }\n",
       "\n",
       "    .dataframe thead th {\n",
       "        text-align: right;\n",
       "    }\n",
       "</style>\n",
       "<table border=\"1\" class=\"dataframe\">\n",
       "  <thead>\n",
       "    <tr style=\"text-align: right;\">\n",
       "      <th></th>\n",
       "      <th>fips</th>\n",
       "      <th>county</th>\n",
       "      <th>gdp</th>\n",
       "      <th>pop</th>\n",
       "      <th>employ</th>\n",
       "      <th>unemploy</th>\n",
       "      <th>unemployrate</th>\n",
       "      <th>pov_all</th>\n",
       "      <th>pov_all_pct</th>\n",
       "      <th>pov_u18</th>\n",
       "      <th>pov_u18_pct</th>\n",
       "      <th>household</th>\n",
       "      <th>education</th>\n",
       "      <th>caucus</th>\n",
       "      <th>gdppercap</th>\n",
       "      <th>edupercap</th>\n",
       "    </tr>\n",
       "  </thead>\n",
       "  <tbody>\n",
       "    <tr>\n",
       "      <th>37</th>\n",
       "      <td>6075</td>\n",
       "      <td>San Francisco</td>\n",
       "      <td>176392838.0</td>\n",
       "      <td>883869</td>\n",
       "      <td>562000</td>\n",
       "      <td>13500</td>\n",
       "      <td>2.4</td>\n",
       "      <td>87314</td>\n",
       "      <td>10.1</td>\n",
       "      <td>14234</td>\n",
       "      <td>12.3</td>\n",
       "      <td>109601.0</td>\n",
       "      <td>480038898.0</td>\n",
       "      <td>Urban</td>\n",
       "      <td>199.57</td>\n",
       "      <td>543.11</td>\n",
       "    </tr>\n",
       "    <tr>\n",
       "      <th>42</th>\n",
       "      <td>6085</td>\n",
       "      <td>Santa Clara</td>\n",
       "      <td>325665794.0</td>\n",
       "      <td>1954286</td>\n",
       "      <td>1021500</td>\n",
       "      <td>27300</td>\n",
       "      <td>2.6</td>\n",
       "      <td>142603</td>\n",
       "      <td>7.5</td>\n",
       "      <td>34255</td>\n",
       "      <td>8.1</td>\n",
       "      <td>118468.0</td>\n",
       "      <td>50044521.0</td>\n",
       "      <td>Urban</td>\n",
       "      <td>166.64</td>\n",
       "      <td>25.61</td>\n",
       "    </tr>\n",
       "    <tr>\n",
       "      <th>40</th>\n",
       "      <td>6081</td>\n",
       "      <td>San Mateo</td>\n",
       "      <td>125850236.0</td>\n",
       "      <td>774485</td>\n",
       "      <td>444900</td>\n",
       "      <td>10000</td>\n",
       "      <td>2.2</td>\n",
       "      <td>48795</td>\n",
       "      <td>6.4</td>\n",
       "      <td>11102</td>\n",
       "      <td>7.0</td>\n",
       "      <td>115908.0</td>\n",
       "      <td>15301176.0</td>\n",
       "      <td>Urban</td>\n",
       "      <td>162.50</td>\n",
       "      <td>19.76</td>\n",
       "    </tr>\n",
       "    <tr>\n",
       "      <th>20</th>\n",
       "      <td>6041</td>\n",
       "      <td>Marin</td>\n",
       "      <td>27175273.0</td>\n",
       "      <td>262879</td>\n",
       "      <td>137700</td>\n",
       "      <td>3400</td>\n",
       "      <td>2.4</td>\n",
       "      <td>20222</td>\n",
       "      <td>7.9</td>\n",
       "      <td>4262</td>\n",
       "      <td>8.2</td>\n",
       "      <td>112735.0</td>\n",
       "      <td>40951819.0</td>\n",
       "      <td>Suburban</td>\n",
       "      <td>103.38</td>\n",
       "      <td>155.78</td>\n",
       "    </tr>\n",
       "    <tr>\n",
       "      <th>1</th>\n",
       "      <td>6003</td>\n",
       "      <td>Alpine</td>\n",
       "      <td>104501.0</td>\n",
       "      <td>1162</td>\n",
       "      <td>520</td>\n",
       "      <td>30</td>\n",
       "      <td>4.6</td>\n",
       "      <td>202</td>\n",
       "      <td>18.1</td>\n",
       "      <td>67</td>\n",
       "      <td>35.3</td>\n",
       "      <td>55755.0</td>\n",
       "      <td>545096.0</td>\n",
       "      <td>Rural</td>\n",
       "      <td>89.93</td>\n",
       "      <td>469.10</td>\n",
       "    </tr>\n",
       "  </tbody>\n",
       "</table>\n",
       "</div>"
      ],
      "text/plain": [
       "    fips         county          gdp      pop   employ  unemploy  \\\n",
       "37  6075  San Francisco  176392838.0   883869   562000     13500   \n",
       "42  6085    Santa Clara  325665794.0  1954286  1021500     27300   \n",
       "40  6081      San Mateo  125850236.0   774485   444900     10000   \n",
       "20  6041          Marin   27175273.0   262879   137700      3400   \n",
       "1   6003         Alpine     104501.0     1162      520        30   \n",
       "\n",
       "    unemployrate  pov_all  pov_all_pct  pov_u18  pov_u18_pct  household  \\\n",
       "37           2.4    87314         10.1    14234         12.3   109601.0   \n",
       "42           2.6   142603          7.5    34255          8.1   118468.0   \n",
       "40           2.2    48795          6.4    11102          7.0   115908.0   \n",
       "20           2.4    20222          7.9     4262          8.2   112735.0   \n",
       "1            4.6      202         18.1       67         35.3    55755.0   \n",
       "\n",
       "      education    caucus  gdppercap  edupercap  \n",
       "37  480038898.0     Urban     199.57     543.11  \n",
       "42   50044521.0     Urban     166.64      25.61  \n",
       "40   15301176.0     Urban     162.50      19.76  \n",
       "20   40951819.0  Suburban     103.38     155.78  \n",
       "1      545096.0     Rural      89.93     469.10  "
      ]
     },
     "execution_count": 76,
     "metadata": {},
     "output_type": "execute_result"
    }
   ],
   "source": [
    "ca_county_stats.sort_values('gdppercap',ascending=False).head()"
   ]
  },
  {
   "cell_type": "code",
   "execution_count": 81,
   "metadata": {},
   "outputs": [
    {
     "data": {
      "text/html": [
       "<div>\n",
       "<style scoped>\n",
       "    .dataframe tbody tr th:only-of-type {\n",
       "        vertical-align: middle;\n",
       "    }\n",
       "\n",
       "    .dataframe tbody tr th {\n",
       "        vertical-align: top;\n",
       "    }\n",
       "\n",
       "    .dataframe thead th {\n",
       "        text-align: right;\n",
       "    }\n",
       "</style>\n",
       "<table border=\"1\" class=\"dataframe\">\n",
       "  <thead>\n",
       "    <tr style=\"text-align: right;\">\n",
       "      <th></th>\n",
       "      <th>fips</th>\n",
       "      <th>pop</th>\n",
       "      <th>unemployrate</th>\n",
       "      <th>pov_all_pct</th>\n",
       "      <th>pov_u18_pct</th>\n",
       "      <th>gdppercap</th>\n",
       "      <th>edupercap</th>\n",
       "      <th>household</th>\n",
       "    </tr>\n",
       "  </thead>\n",
       "  <tbody>\n",
       "    <tr>\n",
       "      <th>count</th>\n",
       "      <td>58.000000</td>\n",
       "      <td>5.800000e+01</td>\n",
       "      <td>58.000000</td>\n",
       "      <td>58.000000</td>\n",
       "      <td>58.000000</td>\n",
       "      <td>58.000000</td>\n",
       "      <td>58.000000</td>\n",
       "      <td>58.000000</td>\n",
       "    </tr>\n",
       "    <tr>\n",
       "      <th>mean</th>\n",
       "      <td>6058.000000</td>\n",
       "      <td>6.884020e+05</td>\n",
       "      <td>5.237931</td>\n",
       "      <td>14.370690</td>\n",
       "      <td>19.410345</td>\n",
       "      <td>54.949310</td>\n",
       "      <td>51.459310</td>\n",
       "      <td>64209.293103</td>\n",
       "    </tr>\n",
       "    <tr>\n",
       "      <th>std</th>\n",
       "      <td>33.773757</td>\n",
       "      <td>1.493576e+06</td>\n",
       "      <td>2.655337</td>\n",
       "      <td>4.694005</td>\n",
       "      <td>7.535453</td>\n",
       "      <td>32.962164</td>\n",
       "      <td>90.828738</td>\n",
       "      <td>19426.865273</td>\n",
       "    </tr>\n",
       "    <tr>\n",
       "      <th>min</th>\n",
       "      <td>6001.000000</td>\n",
       "      <td>1.162000e+03</td>\n",
       "      <td>2.200000</td>\n",
       "      <td>6.400000</td>\n",
       "      <td>7.000000</td>\n",
       "      <td>25.710000</td>\n",
       "      <td>1.880000</td>\n",
       "      <td>39996.000000</td>\n",
       "    </tr>\n",
       "    <tr>\n",
       "      <th>25%</th>\n",
       "      <td>6029.500000</td>\n",
       "      <td>4.748525e+04</td>\n",
       "      <td>3.650000</td>\n",
       "      <td>10.925000</td>\n",
       "      <td>13.775000</td>\n",
       "      <td>37.482500</td>\n",
       "      <td>18.157500</td>\n",
       "      <td>50535.500000</td>\n",
       "    </tr>\n",
       "    <tr>\n",
       "      <th>50%</th>\n",
       "      <td>6058.000000</td>\n",
       "      <td>1.910570e+05</td>\n",
       "      <td>4.650000</td>\n",
       "      <td>14.050000</td>\n",
       "      <td>18.200000</td>\n",
       "      <td>43.070000</td>\n",
       "      <td>27.240000</td>\n",
       "      <td>58850.500000</td>\n",
       "    </tr>\n",
       "    <tr>\n",
       "      <th>75%</th>\n",
       "      <td>6086.500000</td>\n",
       "      <td>7.175318e+05</td>\n",
       "      <td>6.375000</td>\n",
       "      <td>18.000000</td>\n",
       "      <td>24.125000</td>\n",
       "      <td>60.107500</td>\n",
       "      <td>49.735000</td>\n",
       "      <td>76018.750000</td>\n",
       "    </tr>\n",
       "    <tr>\n",
       "      <th>max</th>\n",
       "      <td>6115.000000</td>\n",
       "      <td>1.025372e+07</td>\n",
       "      <td>18.100000</td>\n",
       "      <td>24.600000</td>\n",
       "      <td>35.300000</td>\n",
       "      <td>199.570000</td>\n",
       "      <td>543.110000</td>\n",
       "      <td>118468.000000</td>\n",
       "    </tr>\n",
       "  </tbody>\n",
       "</table>\n",
       "</div>"
      ],
      "text/plain": [
       "              fips           pop  unemployrate  pov_all_pct  pov_u18_pct  \\\n",
       "count    58.000000  5.800000e+01     58.000000    58.000000    58.000000   \n",
       "mean   6058.000000  6.884020e+05      5.237931    14.370690    19.410345   \n",
       "std      33.773757  1.493576e+06      2.655337     4.694005     7.535453   \n",
       "min    6001.000000  1.162000e+03      2.200000     6.400000     7.000000   \n",
       "25%    6029.500000  4.748525e+04      3.650000    10.925000    13.775000   \n",
       "50%    6058.000000  1.910570e+05      4.650000    14.050000    18.200000   \n",
       "75%    6086.500000  7.175318e+05      6.375000    18.000000    24.125000   \n",
       "max    6115.000000  1.025372e+07     18.100000    24.600000    35.300000   \n",
       "\n",
       "        gdppercap   edupercap      household  \n",
       "count   58.000000   58.000000      58.000000  \n",
       "mean    54.949310   51.459310   64209.293103  \n",
       "std     32.962164   90.828738   19426.865273  \n",
       "min     25.710000    1.880000   39996.000000  \n",
       "25%     37.482500   18.157500   50535.500000  \n",
       "50%     43.070000   27.240000   58850.500000  \n",
       "75%     60.107500   49.735000   76018.750000  \n",
       "max    199.570000  543.110000  118468.000000  "
      ]
     },
     "execution_count": 81,
     "metadata": {},
     "output_type": "execute_result"
    }
   ],
   "source": [
    "ca_stats_factors = ca_county_stats[['fips','county','pop','unemployrate',\\\n",
    "                                    'pov_all_pct','pov_u18_pct','gdppercap','edupercap','household','caucus']]\n",
    "ca_stats_factors.describe()"
   ]
  },
  {
   "cell_type": "code",
   "execution_count": 82,
   "metadata": {},
   "outputs": [
    {
     "name": "stderr",
     "output_type": "stream",
     "text": [
      "C:\\Users\\finan\\anaconda3\\lib\\site-packages\\pandas\\core\\frame.py:5039: SettingWithCopyWarning: \n",
      "A value is trying to be set on a copy of a slice from a DataFrame\n",
      "\n",
      "See the caveats in the documentation: https://pandas.pydata.org/pandas-docs/stable/user_guide/indexing.html#returning-a-view-versus-a-copy\n",
      "  return super().rename(\n"
     ]
    },
    {
     "data": {
      "text/html": [
       "<div>\n",
       "<style scoped>\n",
       "    .dataframe tbody tr th:only-of-type {\n",
       "        vertical-align: middle;\n",
       "    }\n",
       "\n",
       "    .dataframe tbody tr th {\n",
       "        vertical-align: top;\n",
       "    }\n",
       "\n",
       "    .dataframe thead th {\n",
       "        text-align: right;\n",
       "    }\n",
       "</style>\n",
       "<table border=\"1\" class=\"dataframe\">\n",
       "  <thead>\n",
       "    <tr style=\"text-align: right;\">\n",
       "      <th></th>\n",
       "      <th>county</th>\n",
       "      <th>act_part</th>\n",
       "      <th>sat_part</th>\n",
       "      <th>act_pct_bm</th>\n",
       "      <th>sat_pct_bm</th>\n",
       "    </tr>\n",
       "  </thead>\n",
       "  <tbody>\n",
       "    <tr>\n",
       "      <th>0</th>\n",
       "      <td>Sacramento</td>\n",
       "      <td>15.69</td>\n",
       "      <td>31.17</td>\n",
       "      <td>49.79</td>\n",
       "      <td>45.63</td>\n",
       "    </tr>\n",
       "    <tr>\n",
       "      <th>1</th>\n",
       "      <td>San Joaquin</td>\n",
       "      <td>11.45</td>\n",
       "      <td>28.45</td>\n",
       "      <td>51.41</td>\n",
       "      <td>42.29</td>\n",
       "    </tr>\n",
       "    <tr>\n",
       "      <th>2</th>\n",
       "      <td>Kern</td>\n",
       "      <td>8.83</td>\n",
       "      <td>26.66</td>\n",
       "      <td>43.28</td>\n",
       "      <td>35.96</td>\n",
       "    </tr>\n",
       "    <tr>\n",
       "      <th>3</th>\n",
       "      <td>Shasta</td>\n",
       "      <td>8.01</td>\n",
       "      <td>17.86</td>\n",
       "      <td>75.72</td>\n",
       "      <td>63.73</td>\n",
       "    </tr>\n",
       "    <tr>\n",
       "      <th>4</th>\n",
       "      <td>Sutter</td>\n",
       "      <td>10.73</td>\n",
       "      <td>19.65</td>\n",
       "      <td>59.69</td>\n",
       "      <td>52.09</td>\n",
       "    </tr>\n",
       "  </tbody>\n",
       "</table>\n",
       "</div>"
      ],
      "text/plain": [
       "        county  act_part  sat_part  act_pct_bm  sat_pct_bm\n",
       "0   Sacramento     15.69     31.17       49.79       45.63\n",
       "1  San Joaquin     11.45     28.45       51.41       42.29\n",
       "2         Kern      8.83     26.66       43.28       35.96\n",
       "3       Shasta      8.01     17.86       75.72       63.73\n",
       "4       Sutter     10.73     19.65       59.69       52.09"
      ]
     },
     "execution_count": 82,
     "metadata": {},
     "output_type": "execute_result"
    }
   ],
   "source": [
    "actsat19ca['act_part'] = round(actsat19ca['NumTstTakr']/actsat19ca['Enroll12']*100,2)\n",
    "actsat19ca['sat_part'] = round(actsat19ca['NumTSTTakr12']/actsat19ca['Enroll12']*100,2)\n",
    "ca_test_results = actsat19ca[['CName','act_part','sat_part','PctGE21','PctBothBenchmark12']]\n",
    "\n",
    "#rename columns\n",
    "ca_test_results.rename(columns={'CName':'county',\n",
    "                               'PctGE21':'act_pct_bm',\n",
    "                               'PctBothBenchmark12':'sat_pct_bm'}, inplace=True)\n",
    "\n",
    "ca_test_results.head()"
   ]
  },
  {
   "cell_type": "code",
   "execution_count": 83,
   "metadata": {},
   "outputs": [
    {
     "name": "stdout",
     "output_type": "stream",
     "text": [
      "<class 'pandas.core.frame.DataFrame'>\n",
      "Int64Index: 58 entries, 0 to 57\n",
      "Data columns (total 14 columns):\n",
      " #   Column        Non-Null Count  Dtype  \n",
      "---  ------        --------------  -----  \n",
      " 0   fips          58 non-null     int64  \n",
      " 1   county        58 non-null     object \n",
      " 2   pop           58 non-null     int64  \n",
      " 3   unemployrate  58 non-null     float64\n",
      " 4   pov_all_pct   58 non-null     float64\n",
      " 5   pov_u18_pct   58 non-null     float64\n",
      " 6   gdppercap     58 non-null     float64\n",
      " 7   edupercap     58 non-null     float64\n",
      " 8   household     58 non-null     float64\n",
      " 9   caucus        58 non-null     object \n",
      " 10  act_part      57 non-null     float64\n",
      " 11  sat_part      57 non-null     float64\n",
      " 12  act_pct_bm    54 non-null     float64\n",
      " 13  sat_pct_bm    55 non-null     float64\n",
      "dtypes: float64(10), int64(2), object(2)\n",
      "memory usage: 6.8+ KB\n"
     ]
    }
   ],
   "source": [
    "#merge ca_test_results and ca_stats_factors\n",
    "ca_cleaned = pd.merge(ca_stats_factors, ca_test_results, on='county')\n",
    "ca_cleaned.info()"
   ]
  },
  {
   "cell_type": "markdown",
   "metadata": {},
   "source": [
    "## Visualize the Data\n",
    "\n",
    "There's not a magic bullet recommendation for the right number of plots to understand a given dataset, but visualizing your data is *always* a good idea. Not only does it allow you to quickly convey your findings (even if you have a non-technical audience), it will often reveal trends in your data that escaped you when you were looking only at numbers. It is important to not only create visualizations, but to **interpret your visualizations** as well.\n",
    "\n",
    "**Every plot should**:\n",
    "- Have a title\n",
    "- Have axis labels\n",
    "- Have appropriate tick labels\n",
    "- Text is legible in a plot\n",
    "- Plots demonstrate meaningful and valid relationships\n",
    "- Have an interpretation to aid understanding\n",
    "\n",
    "Here is an example of what your plots should look like following the above guidelines. Note that while the content of this example is unrelated, the principles of visualization hold:\n",
    "\n",
    "![](https://snag.gy/hCBR1U.jpg)\n",
    "*Interpretation: The above image shows that as we increase our spending on advertising, our sales numbers also tend to increase. There is a positive correlation between advertising spending and sales.*\n",
    "\n",
    "---\n",
    "\n",
    "Here are some prompts to get you started with visualizations. Feel free to add additional visualizations as you see fit:\n",
    "1. Use Seaborn's heatmap with pandas `.corr()` to visualize correlations between all numeric features.\n",
    "    - Heatmaps are generally not appropriate for presentations, and should often be excluded from reports as they can be visually overwhelming. **However**, they can be extremely useful in identify relationships of potential interest (as well as identifying potential collinearity before modeling).\n",
    "    - Please take time to format your output, adding a title. Look through some of the additional arguments and options. (Axis labels aren't really necessary, as long as the title is informative).\n",
    "2. Visualize distributions using histograms. If you have a lot, consider writing a custom function and use subplots.\n",
    "    - *OPTIONAL*: Summarize the underlying distributions of your features (in words & statistics)\n",
    "         - Be thorough in your verbal description of these distributions.\n",
    "         - Be sure to back up these summaries with statistics.\n",
    "         - We generally assume that data we sample from a population will be normally distributed. Do we observe this trend? Explain your answers for each distribution and how you think this will affect estimates made from these data.\n",
    "3. Plot and interpret boxplots. \n",
    "    - Boxplots demonstrate central tendency and spread in variables. In a certain sense, these are somewhat redundant with histograms, but you may be better able to identify clear outliers or differences in IQR, etc.\n",
    "    - Multiple values can be plotted to a single boxplot as long as they are of the same relative scale (meaning they have similar min/max values).\n",
    "    - Each boxplot should:\n",
    "        - Only include variables of a similar scale\n",
    "        - Have clear labels for each variable\n",
    "        - Have appropriate titles and labels\n",
    "4. Plot and interpret scatter plots to view relationships between features. Feel free to write a custom function, and subplot if you'd like. Functions save both time and space.\n",
    "    - Your plots should have:\n",
    "        - Two clearly labeled axes\n",
    "        - A proper title\n",
    "        - Colors and symbols that are clear and unmistakable\n",
    "5. Additional plots of your choosing.\n",
    "    - Are there any additional trends or relationships you haven't explored? Was there something interesting you saw that you'd like to dive further into? It's likely that there are a few more plots you might want to generate to support your narrative and recommendations that you are building toward. **As always, make sure you're interpreting your plots as you go**."
   ]
  },
  {
   "cell_type": "markdown",
   "metadata": {},
   "source": [
    "## Problem statement:\n",
    "\n",
    "1. High unemployment rates mean that there are not enough jobs/high quality jobs in the market, causing lower median household incomes and higher poverty levels among the general population and youths.\n",
    "2. As families do not have sufficient disposable income to support their children's education, participation in SAT and ACT tests will be lower, as well as the test takers' test performance.\n",
    "3. This becomes a vicious cycle as a less educated workforce leads to a poorer job market. As the California State Board of Education, we would like to propose more education support and placement into better job positions to lower the unemployment rate."
   ]
  },
  {
   "cell_type": "markdown",
   "metadata": {},
   "source": [
    "### Heatmap of the correlation of various factors"
   ]
  },
  {
   "cell_type": "code",
   "execution_count": 84,
   "metadata": {},
   "outputs": [
    {
     "name": "stdout",
     "output_type": "stream",
     "text": [
      "<class 'pandas.core.frame.DataFrame'>\n",
      "Int64Index: 57 entries, 0 to 57\n",
      "Data columns (total 14 columns):\n",
      " #   Column        Non-Null Count  Dtype  \n",
      "---  ------        --------------  -----  \n",
      " 0   fips          57 non-null     int64  \n",
      " 1   county        57 non-null     object \n",
      " 2   pop           57 non-null     int64  \n",
      " 3   unemployrate  57 non-null     float64\n",
      " 4   pov_all_pct   57 non-null     float64\n",
      " 5   pov_u18_pct   57 non-null     float64\n",
      " 6   gdppercap     57 non-null     float64\n",
      " 7   edupercap     57 non-null     float64\n",
      " 8   household     57 non-null     float64\n",
      " 9   caucus        57 non-null     object \n",
      " 10  act_part      57 non-null     float64\n",
      " 11  sat_part      57 non-null     float64\n",
      " 12  act_pct_bm    54 non-null     float64\n",
      " 13  sat_pct_bm    55 non-null     float64\n",
      "dtypes: float64(10), int64(2), object(2)\n",
      "memory usage: 6.7+ KB\n"
     ]
    }
   ],
   "source": [
    "ca_cleaned.dropna(subset=['act_part','sat_part'],inplace=True)\n",
    "ca_cleaned.info()"
   ]
  },
  {
   "cell_type": "code",
   "execution_count": 85,
   "metadata": {
    "scrolled": true
   },
   "outputs": [
    {
     "data": {
      "image/png": "[encoded data removed]",
      "text/plain": [
       "<Figure size 1152x432 with 2 Axes>"
      ]
     },
     "metadata": {
      "needs_background": "light"
     },
     "output_type": "display_data"
    }
   ],
   "source": [
    "f,ax = plt.subplots(figsize=(16,6))\n",
    "sns.heatmap(ca_cleaned.corr(),cmap='coolwarm',annot=True)\n",
    "plt.title('Correlation of various factors');"
   ]
  },
  {
   "cell_type": "markdown",
   "metadata": {},
   "source": [
    "#### Interpretation: The heatmap above shows the pairwise correlation of the various factors. A higher positive number indicates a higher correlation. For e.g.  between SAT participation and household income, we can see that these two factors are highly positively correlated with a value of 0.68. This means it is likely that a higher household income indicates a higher SAT participation rate."
   ]
  },
  {
   "cell_type": "markdown",
   "metadata": {},
   "source": [
    "### Do the urban areas have higher ACT and SAT partcipation?"
   ]
  },
  {
   "cell_type": "code",
   "execution_count": 100,
   "metadata": {},
   "outputs": [
    {
     "data": {
      "image/png": "[encoded data removed]",
      "text/plain": [
       "<Figure size 432x432 with 3 Axes>"
      ]
     },
     "metadata": {
      "needs_background": "light"
     },
     "output_type": "display_data"
    }
   ],
   "source": [
    "sns.jointplot(x='act_part',y='sat_part',data=ca_cleaned,kind='scatter',hue='caucus');\n",
    "plt.title('ACT v SAT participation rate')\n",
    "plt.xlabel('ACT Participation Rate')\n",
    "plt.ylabel('SAT Participation Rate');"
   ]
  },
  {
   "cell_type": "markdown",
   "metadata": {},
   "source": [
    "### Yes, looking at the distribution plots based on the categorisation of the different counties, urban areas have the highest participation in both SAT and ACT exams, followed by suburban areas then rural areas."
   ]
  },
  {
   "cell_type": "markdown",
   "metadata": {},
   "source": [
    "### Unemployment rate is positively correlated with the poverty rate in a county."
   ]
  },
  {
   "cell_type": "code",
   "execution_count": 89,
   "metadata": {},
   "outputs": [
    {
     "data": {
      "image/png": "[encoded data removed]",
      "text/plain": [
       "<Figure size 432x432 with 3 Axes>"
      ]
     },
     "metadata": {
      "needs_background": "light"
     },
     "output_type": "display_data"
    }
   ],
   "source": [
    "sns.jointplot(x='unemployrate',y='pov_all_pct',data=ca_cleaned,kind='scatter',hue='caucus');"
   ]
  },
  {
   "cell_type": "code",
   "execution_count": 90,
   "metadata": {
    "scrolled": false
   },
   "outputs": [
    {
     "data": {
      "image/png": "[encoded data removed]",
      "text/plain": [
       "<Figure size 432x432 with 3 Axes>"
      ]
     },
     "metadata": {
      "needs_background": "light"
     },
     "output_type": "display_data"
    }
   ],
   "source": [
    "sns.jointplot(x='unemployrate',y='pov_all_pct',data=ca_cleaned,kind='reg');"
   ]
  },
  {
   "cell_type": "code",
   "execution_count": 92,
   "metadata": {},
   "outputs": [
    {
     "data": {
      "image/png": "[encoded data removed]",
      "text/plain": [
       "<Figure size 432x432 with 3 Axes>"
      ]
     },
     "metadata": {
      "needs_background": "light"
     },
     "output_type": "display_data"
    }
   ],
   "source": [
    "sns.jointplot(x='unemployrate',y='pov_u18_pct',data=ca_cleaned,kind='scatter',hue='caucus');"
   ]
  },
  {
   "cell_type": "code",
   "execution_count": 91,
   "metadata": {},
   "outputs": [
    {
     "data": {
      "image/png": "[encoded data removed]",
      "text/plain": [
       "<Figure size 432x432 with 3 Axes>"
      ]
     },
     "metadata": {
      "needs_background": "light"
     },
     "output_type": "display_data"
    }
   ],
   "source": [
    "sns.jointplot(x='unemployrate',y='pov_u18_pct',data=ca_cleaned,kind='reg');"
   ]
  },
  {
   "cell_type": "markdown",
   "metadata": {},
   "source": [
    "### Unemployment and poverty levels seem to have no correlation with the participation rate of ACT, but is more strongly correlated with SAT participation."
   ]
  },
  {
   "cell_type": "code",
   "execution_count": 93,
   "metadata": {
    "scrolled": false
   },
   "outputs": [
    {
     "data": {
      "image/png": "[encoded data removed]",
      "text/plain": [
       "<Figure size 432x288 with 1 Axes>"
      ]
     },
     "metadata": {
      "needs_background": "light"
     },
     "output_type": "display_data"
    }
   ],
   "source": [
    "plt.hist(ca_cleaned['unemployrate'])\n",
    "plt.title('Count of Unemployment rate of counties')\n",
    "plt.xlabel('Unemployment rate in %')\n",
    "plt.ylabel('Count of counties');"
   ]
  },
  {
   "cell_type": "code",
   "execution_count": 95,
   "metadata": {
    "scrolled": true
   },
   "outputs": [
    {
     "data": {
      "image/png": "[encoded data removed]",
      "text/plain": [
       "<Figure size 1152x432 with 1 Axes>"
      ]
     },
     "metadata": {
      "needs_background": "light"
     },
     "output_type": "display_data"
    }
   ],
   "source": [
    "f, ax = plt.subplots(figsize=(16,6))\n",
    "unemployrate_county = sns.barplot(x='county',y='unemployrate',data=ca_cleaned,hue='caucus')\n",
    "unemployrate_county.set_xticklabels(ca_cleaned['county'],rotation=90);\n",
    "plt.title('Unemployment rate in California counties')\n",
    "plt.xlabel('County')\n",
    "plt.ylabel('Unemployment Rate (%)');"
   ]
  },
  {
   "cell_type": "code",
   "execution_count": 109,
   "metadata": {
    "scrolled": true
   },
   "outputs": [
    {
     "name": "stderr",
     "output_type": "stream",
     "text": [
      "C:\\Users\\finan\\anaconda3\\lib\\site-packages\\seaborn\\distributions.py:2619: FutureWarning: `distplot` is a deprecated function and will be removed in a future version. Please adapt your code to use either `displot` (a figure-level function with similar flexibility) or `histplot` (an axes-level function for histograms).\n",
      "  warnings.warn(msg, FutureWarning)\n"
     ]
    },
    {
     "data": {
      "image/png": "[encoded data removed]",
      "text/plain": [
       "<Figure size 432x288 with 1 Axes>"
      ]
     },
     "metadata": {
      "needs_background": "light"
     },
     "output_type": "display_data"
    }
   ],
   "source": [
    "sns.distplot(ca_cleaned['unemployrate']);"
   ]
  },
  {
   "cell_type": "code",
   "execution_count": 121,
   "metadata": {},
   "outputs": [
    {
     "name": "stderr",
     "output_type": "stream",
     "text": [
      "C:\\Users\\finan\\anaconda3\\lib\\site-packages\\seaborn\\distributions.py:2619: FutureWarning: `distplot` is a deprecated function and will be removed in a future version. Please adapt your code to use either `displot` (a figure-level function with similar flexibility) or `histplot` (an axes-level function for histograms).\n",
      "  warnings.warn(msg, FutureWarning)\n",
      "C:\\Users\\finan\\anaconda3\\lib\\site-packages\\seaborn\\distributions.py:2619: FutureWarning: `distplot` is a deprecated function and will be removed in a future version. Please adapt your code to use either `displot` (a figure-level function with similar flexibility) or `histplot` (an axes-level function for histograms).\n",
      "  warnings.warn(msg, FutureWarning)\n",
      "C:\\Users\\finan\\anaconda3\\lib\\site-packages\\seaborn\\distributions.py:2619: FutureWarning: `distplot` is a deprecated function and will be removed in a future version. Please adapt your code to use either `displot` (a figure-level function with similar flexibility) or `histplot` (an axes-level function for histograms).\n",
      "  warnings.warn(msg, FutureWarning)\n"
     ]
    },
    {
     "data": {
      "image/png": "[encoded data removed]",
      "text/plain": [
       "<Figure size 648x216 with 3 Axes>"
      ]
     },
     "metadata": {
      "needs_background": "light"
     },
     "output_type": "display_data"
    }
   ],
   "source": [
    "g = sns.FacetGrid(ca_cleaned, col='caucus');\n",
    "g.map(sns.distplot, 'sat_part');"
   ]
  },
  {
   "cell_type": "code",
   "execution_count": 96,
   "metadata": {},
   "outputs": [],
   "source": [
    "import statsmodels.api as sm"
   ]
  },
  {
   "cell_type": "code",
   "execution_count": 97,
   "metadata": {},
   "outputs": [
    {
     "name": "stderr",
     "output_type": "stream",
     "text": [
      "C:\\Users\\finan\\anaconda3\\lib\\site-packages\\statsmodels\\tsa\\tsatools.py:142: FutureWarning: In a future version of pandas all arguments of concat except for the argument 'objs' will be keyword-only\n",
      "  x = pd.concat(x[::order], 1)\n"
     ]
    },
    {
     "data": {
      "text/html": [
       "<table class=\"simpletable\">\n",
       "<caption>OLS Regression Results</caption>\n",
       "<tr>\n",
       "  <th>Dep. Variable:</th>        <td>sat_part</td>     <th>  R-squared:         </th> <td>   0.536</td>\n",
       "</tr>\n",
       "<tr>\n",
       "  <th>Model:</th>                   <td>OLS</td>       <th>  Adj. R-squared:    </th> <td>   0.501</td>\n",
       "</tr>\n",
       "<tr>\n",
       "  <th>Method:</th>             <td>Least Squares</td>  <th>  F-statistic:       </th> <td>   15.04</td>\n",
       "</tr>\n",
       "<tr>\n",
       "  <th>Date:</th>             <td>Sun, 22 May 2022</td> <th>  Prob (F-statistic):</th> <td>3.12e-08</td>\n",
       "</tr>\n",
       "<tr>\n",
       "  <th>Time:</th>                 <td>14:19:58</td>     <th>  Log-Likelihood:    </th> <td> -182.73</td>\n",
       "</tr>\n",
       "<tr>\n",
       "  <th>No. Observations:</th>      <td>    57</td>      <th>  AIC:               </th> <td>   375.5</td>\n",
       "</tr>\n",
       "<tr>\n",
       "  <th>Df Residuals:</th>          <td>    52</td>      <th>  BIC:               </th> <td>   385.7</td>\n",
       "</tr>\n",
       "<tr>\n",
       "  <th>Df Model:</th>              <td>     4</td>      <th>                     </th>     <td> </td>   \n",
       "</tr>\n",
       "<tr>\n",
       "  <th>Covariance Type:</th>      <td>nonrobust</td>    <th>                     </th>     <td> </td>   \n",
       "</tr>\n",
       "</table>\n",
       "<table class=\"simpletable\">\n",
       "<tr>\n",
       "        <td></td>          <th>coef</th>     <th>std err</th>      <th>t</th>      <th>P>|t|</th>  <th>[0.025</th>    <th>0.975]</th>  \n",
       "</tr>\n",
       "<tr>\n",
       "  <th>const</th>        <td>  -14.1560</td> <td>    8.984</td> <td>   -1.576</td> <td> 0.121</td> <td>  -32.183</td> <td>    3.871</td>\n",
       "</tr>\n",
       "<tr>\n",
       "  <th>unemployrate</th> <td>    0.3621</td> <td>    0.389</td> <td>    0.930</td> <td> 0.357</td> <td>   -0.419</td> <td>    1.143</td>\n",
       "</tr>\n",
       "<tr>\n",
       "  <th>household</th>    <td>    0.0005</td> <td> 8.29e-05</td> <td>    5.466</td> <td> 0.000</td> <td>    0.000</td> <td>    0.001</td>\n",
       "</tr>\n",
       "<tr>\n",
       "  <th>pov_u18_pct</th>  <td>    0.4360</td> <td>    0.211</td> <td>    2.064</td> <td> 0.044</td> <td>    0.012</td> <td>    0.860</td>\n",
       "</tr>\n",
       "<tr>\n",
       "  <th>edupercap</th>    <td>    0.0131</td> <td>    0.013</td> <td>    1.034</td> <td> 0.306</td> <td>   -0.012</td> <td>    0.038</td>\n",
       "</tr>\n",
       "</table>\n",
       "<table class=\"simpletable\">\n",
       "<tr>\n",
       "  <th>Omnibus:</th>       <td> 4.641</td> <th>  Durbin-Watson:     </th> <td>   1.969</td>\n",
       "</tr>\n",
       "<tr>\n",
       "  <th>Prob(Omnibus):</th> <td> 0.098</td> <th>  Jarque-Bera (JB):  </th> <td>   4.166</td>\n",
       "</tr>\n",
       "<tr>\n",
       "  <th>Skew:</th>          <td> 0.361</td> <th>  Prob(JB):          </th> <td>   0.125</td>\n",
       "</tr>\n",
       "<tr>\n",
       "  <th>Kurtosis:</th>      <td> 4.110</td> <th>  Cond. No.          </th> <td>7.30e+05</td>\n",
       "</tr>\n",
       "</table><br/><br/>Notes:<br/>[1] Standard Errors assume that the covariance matrix of the errors is correctly specified.<br/>[2] The condition number is large, 7.3e+05. This might indicate that there are<br/>strong multicollinearity or other numerical problems."
      ],
      "text/plain": [
       "<class 'statsmodels.iolib.summary.Summary'>\n",
       "\"\"\"\n",
       "                            OLS Regression Results                            \n",
       "==============================================================================\n",
       "Dep. Variable:               sat_part   R-squared:                       0.536\n",
       "Model:                            OLS   Adj. R-squared:                  0.501\n",
       "Method:                 Least Squares   F-statistic:                     15.04\n",
       "Date:                Sun, 22 May 2022   Prob (F-statistic):           3.12e-08\n",
       "Time:                        14:19:58   Log-Likelihood:                -182.73\n",
       "No. Observations:                  57   AIC:                             375.5\n",
       "Df Residuals:                      52   BIC:                             385.7\n",
       "Df Model:                           4                                         \n",
       "Covariance Type:            nonrobust                                         \n",
       "================================================================================\n",
       "                   coef    std err          t      P>|t|      [0.025      0.975]\n",
       "--------------------------------------------------------------------------------\n",
       "const          -14.1560      8.984     -1.576      0.121     -32.183       3.871\n",
       "unemployrate     0.3621      0.389      0.930      0.357      -0.419       1.143\n",
       "household        0.0005   8.29e-05      5.466      0.000       0.000       0.001\n",
       "pov_u18_pct      0.4360      0.211      2.064      0.044       0.012       0.860\n",
       "edupercap        0.0131      0.013      1.034      0.306      -0.012       0.038\n",
       "==============================================================================\n",
       "Omnibus:                        4.641   Durbin-Watson:                   1.969\n",
       "Prob(Omnibus):                  0.098   Jarque-Bera (JB):                4.166\n",
       "Skew:                           0.361   Prob(JB):                        0.125\n",
       "Kurtosis:                       4.110   Cond. No.                     7.30e+05\n",
       "==============================================================================\n",
       "\n",
       "Notes:\n",
       "[1] Standard Errors assume that the covariance matrix of the errors is correctly specified.\n",
       "[2] The condition number is large, 7.3e+05. This might indicate that there are\n",
       "strong multicollinearity or other numerical problems.\n",
       "\"\"\""
      ]
     },
     "execution_count": 97,
     "metadata": {},
     "output_type": "execute_result"
    }
   ],
   "source": [
    "X = ca_cleaned[['unemployrate','household', 'pov_u18_pct','edupercap']]\n",
    "y = ca_cleaned['sat_part']\n",
    "\n",
    "X = sm.add_constant(X, prepend=True)\n",
    "results = sm.OLS(y, X).fit()\n",
    "results.summary()"
   ]
  },
  {
   "cell_type": "markdown",
   "metadata": {},
   "source": [
    "#### Looking at the p-value of the F-stat, if it is lower than 0.01, then at least one of these factors will predict the SAT participation rate. \n",
    "\n",
    "#### Checking the p-value of the t-stat, if it is <0.05, then it is likely to predict y. The inference is that household median income can predict the SAT participation rate."
   ]
  },
  {
   "cell_type": "markdown",
   "metadata": {},
   "source": [
    "### Try to categorize the counties by Unemployment rates"
   ]
  },
  {
   "cell_type": "code",
   "execution_count": null,
   "metadata": {},
   "outputs": [],
   "source": [
    "#code here"
   ]
  },
  {
   "cell_type": "code",
   "execution_count": null,
   "metadata": {},
   "outputs": [],
   "source": []
  },
  {
   "cell_type": "code",
   "execution_count": null,
   "metadata": {},
   "outputs": [],
   "source": []
  },
  {
   "cell_type": "markdown",
   "metadata": {},
   "source": [
    "# WORKING FILE ABOVE THIS LINE!"
   ]
  },
  {
   "cell_type": "markdown",
   "metadata": {},
   "source": [
    "### Among the many factors, population size, gdp per capita and education per capita seems to have a positive impact on sat part rat"
   ]
  },
  {
   "cell_type": "code",
   "execution_count": null,
   "metadata": {
    "scrolled": true
   },
   "outputs": [],
   "source": [
    "sns.stripplot(x='pop19',y='sat_part',data=ca_cleaned)\n",
    "plt.title('County population size vs SAT participation rate');"
   ]
  },
  {
   "cell_type": "code",
   "execution_count": null,
   "metadata": {
    "scrolled": true
   },
   "outputs": [],
   "source": [
    "sns.stripplot(x='pop19',y='act_part',data=ca_cleaned)\n",
    "plt.title('County population size vs ACT participation rate');"
   ]
  },
  {
   "cell_type": "code",
   "execution_count": null,
   "metadata": {},
   "outputs": [],
   "source": [
    "sns.stripplot(x='gdppercap19',y='sat_part',data=ca_cleaned)\n",
    "plt.title('GDP per capita vs SAT participation rate');"
   ]
  },
  {
   "cell_type": "code",
   "execution_count": null,
   "metadata": {},
   "outputs": [],
   "source": [
    "f, ax = plt.subplots(figsize=(16,6))\n",
    "sns.despine(f)\n",
    "g = sns.barplot(x='county', y='act_part', data=ca_cleaned);\n",
    "g.set_xticklabels(ca_cleaned['county'],rotation=45);"
   ]
  },
  {
   "cell_type": "code",
   "execution_count": null,
   "metadata": {
    "scrolled": true
   },
   "outputs": [],
   "source": [
    "sns.jointplot(x='act_part',y='sat_part',data=ca_cleaned, kind='reg'); #kind can use scatter too"
   ]
  },
  {
   "cell_type": "code",
   "execution_count": null,
   "metadata": {
    "scrolled": true
   },
   "outputs": [],
   "source": [
    "f, ax = plt.subplots(figsize=(16,6))\n",
    "gdppercap_county = sns.barplot(x='county',y='gdppercap19',data=ca_cleaned)\n",
    "gdppercap_county.set_xticklabels(ca_cleaned['county'],rotation=45);\n",
    "plt.title('GDP per capita in California counties')"
   ]
  },
  {
   "cell_type": "code",
   "execution_count": null,
   "metadata": {
    "scrolled": true
   },
   "outputs": [],
   "source": [
    "ca_cleaned.quantile([0.25,0.5,0.75])"
   ]
  },
  {
   "cell_type": "code",
   "execution_count": null,
   "metadata": {
    "scrolled": true
   },
   "outputs": [],
   "source": [
    "ca_cleaned.sort_values('gdppercap19',ascending=False)"
   ]
  },
  {
   "cell_type": "code",
   "execution_count": null,
   "metadata": {
    "scrolled": false
   },
   "outputs": [],
   "source": [
    "f, ax = plt.subplots(figsize=(16,6))\n",
    "unemployrate_county = sns.barplot(x='county',y='unemployrate18',data=ca_cleaned)\n",
    "unemployrate_county.set_xticklabels(ca_cleaned['county'],rotation=45);\n",
    "plt.title('Unemployment rate in California counties')"
   ]
  },
  {
   "cell_type": "code",
   "execution_count": null,
   "metadata": {},
   "outputs": [],
   "source": [
    "# g = sns.FacetGrid(ca_cleaned, col='')\n",
    "# g = sns.FacetGrid(tips, col=\"time\",  row=\"smoker\",hue='sex')\n",
    "# # Notice hwo the arguments come after plt.scatter call\n",
    "# g = g.map(plt.scatter, \"total_bill\", \"tip\").add_legend()"
   ]
  },
  {
   "cell_type": "code",
   "execution_count": null,
   "metadata": {},
   "outputs": [],
   "source": []
  },
  {
   "cell_type": "code",
   "execution_count": null,
   "metadata": {},
   "outputs": [],
   "source": []
  },
  {
   "cell_type": "code",
   "execution_count": null,
   "metadata": {},
   "outputs": [],
   "source": []
  },
  {
   "cell_type": "code",
   "execution_count": null,
   "metadata": {},
   "outputs": [],
   "source": []
  },
  {
   "cell_type": "code",
   "execution_count": null,
   "metadata": {},
   "outputs": [],
   "source": []
  },
  {
   "cell_type": "code",
   "execution_count": null,
   "metadata": {},
   "outputs": [],
   "source": []
  },
  {
   "cell_type": "code",
   "execution_count": null,
   "metadata": {},
   "outputs": [],
   "source": []
  },
  {
   "cell_type": "markdown",
   "metadata": {},
   "source": [
    "## Conclusions and Recommendations"
   ]
  },
  {
   "cell_type": "markdown",
   "metadata": {},
   "source": [
    "Based on your exploration of the data, what are you key takeaways and recommendations? Make sure to answer your question of interest or address your problem statement here."
   ]
  },
  {
   "cell_type": "markdown",
   "metadata": {},
   "source": [
    "**To-Do:** *Edit this cell with your conclusions and recommendations.*"
   ]
  },
  {
   "cell_type": "markdown",
   "metadata": {},
   "source": [
    "Don't forget to create your README!\n",
    "\n",
    "**To-Do:** *If you combine your problem statement, data dictionary, brief summary of your analysis, and conclusions/recommendations, you have an amazing README.md file that quickly aligns your audience to the contents of your project.* Don't forget to cite your data sources!"
   ]
  }
 ],
 "metadata": {
  "anaconda-cloud": {},
  "kernelspec": {
   "display_name": "Python 3 (ipykernel)",
   "language": "python",
   "name": "python3"
  },
  "language_info": {
   "codemirror_mode": {
    "name": "ipython",
    "version": 3
   },
   "file_extension": ".py",
   "mimetype": "text/x-python",
   "name": "python",
   "nbconvert_exporter": "python",
   "pygments_lexer": "ipython3",
   "version": "3.9.7"
  }
 },
 "nbformat": 4,
 "nbformat_minor": 4
}
